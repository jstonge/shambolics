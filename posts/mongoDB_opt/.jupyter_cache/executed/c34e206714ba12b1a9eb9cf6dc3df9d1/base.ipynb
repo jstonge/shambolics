{
 "cells": [
  {
   "cell_type": "code",
   "execution_count": 1,
   "id": "ebff673b",
   "metadata": {},
   "outputs": [
    {
     "name": "stderr",
     "output_type": "stream",
     "text": [
      "/tmp/ipykernel_36856/1083933970.py:20: DeprecationWarning: `set_matplotlib_formats` is deprecated since IPython 7.23, directly use `matplotlib_inline.backend_inline.set_matplotlib_formats()`\n",
      "  set_matplotlib_formats(fig_format)\n"
     ]
    },
    {
     "name": "stdout",
     "output_type": "stream",
     "text": [
      "{\"/home/jstonge/miniconda3/envs/classify-comp-proj/lib/python3.9/importlib/_bootstrap.py\": 1669300927.0, \"/home/jstonge/miniconda3/envs/classify-comp-proj/lib/python3.9/importlib/_bootstrap_external.py\": 1669300927.0, \"/home/jstonge/miniconda3/envs/classify-comp-proj/lib/python3.9/codecs.py\": 1669300926.0, \"/home/jstonge/miniconda3/envs/classify-comp-proj/lib/python3.9/encodings/aliases.py\": 1669300927.0, \"/home/jstonge/miniconda3/envs/classify-comp-proj/lib/python3.9/encodings/__init__.py\": 1669300927.0, \"/home/jstonge/miniconda3/envs/classify-comp-proj/lib/python3.9/encodings/utf_8.py\": 1669300927.0, \"/home/jstonge/miniconda3/envs/classify-comp-proj/lib/python3.9/encodings/latin_1.py\": 1669300927.0, \"/home/jstonge/miniconda3/envs/classify-comp-proj/lib/python3.9/abc.py\": 1669300926.0, \"/home/jstonge/miniconda3/envs/classify-comp-proj/lib/python3.9/io.py\": 1669300926.0, \"/home/jstonge/miniconda3/envs/classify-comp-proj/lib/python3.9/stat.py\": 1669300926.0, \"/home/jstonge/miniconda3/envs/classify-comp-proj/lib/python3.9/_collections_abc.py\": 1669300926.0, \"/home/jstonge/miniconda3/envs/classify-comp-proj/lib/python3.9/genericpath.py\": 1669300926.0, \"/home/jstonge/miniconda3/envs/classify-comp-proj/lib/python3.9/posixpath.py\": 1669300926.0, \"/home/jstonge/miniconda3/envs/classify-comp-proj/lib/python3.9/os.py\": 1669300926.0, \"/home/jstonge/miniconda3/envs/classify-comp-proj/lib/python3.9/_sitebuiltins.py\": 1669300926.0, \"/home/jstonge/miniconda3/envs/classify-comp-proj/lib/python3.9/_bootlocale.py\": 1669300926.0, \"/home/jstonge/miniconda3/envs/classify-comp-proj/lib/python3.9/site-packages/_distutils_hack/__init__.py\": 1665750882.0, \"/home/jstonge/miniconda3/envs/classify-comp-proj/lib/python3.9/types.py\": 1669300926.0, \"/home/jstonge/miniconda3/envs/classify-comp-proj/lib/python3.9/warnings.py\": 1669300926.0, \"/home/jstonge/miniconda3/envs/classify-comp-proj/lib/python3.9/importlib/__init__.py\": 1669300927.0, \"/home/jstonge/miniconda3/envs/classify-comp-proj/lib/python3.9/importlib/machinery.py\": 1669300927.0, \"/home/jstonge/miniconda3/envs/classify-comp-proj/lib/python3.9/lib-dynload/_heapq.cpython-39-x86_64-linux-gnu.so\": 1669300940.0, \"/home/jstonge/miniconda3/envs/classify-comp-proj/lib/python3.9/heapq.py\": 1669300926.0, \"/home/jstonge/miniconda3/envs/classify-comp-proj/lib/python3.9/keyword.py\": 1669300926.0, \"/home/jstonge/miniconda3/envs/classify-comp-proj/lib/python3.9/operator.py\": 1669300926.0, \"/home/jstonge/miniconda3/envs/classify-comp-proj/lib/python3.9/reprlib.py\": 1669300926.0, \"/home/jstonge/miniconda3/envs/classify-comp-proj/lib/python3.9/collections/__init__.py\": 1669300927.0, \"/home/jstonge/miniconda3/envs/classify-comp-proj/lib/python3.9/collections/abc.py\": 1669300927.0, \"/home/jstonge/miniconda3/envs/classify-comp-proj/lib/python3.9/functools.py\": 1669300926.0, \"/home/jstonge/miniconda3/envs/classify-comp-proj/lib/python3.9/contextlib.py\": 1669300926.0, \"/home/jstonge/miniconda3/envs/classify-comp-proj/lib/python3.9/enum.py\": 1669300926.0, \"/home/jstonge/miniconda3/envs/classify-comp-proj/lib/python3.9/sre_constants.py\": 1669300926.0, \"/home/jstonge/miniconda3/envs/classify-comp-proj/lib/python3.9/sre_parse.py\": 1669300926.0, \"/home/jstonge/miniconda3/envs/classify-comp-proj/lib/python3.9/sre_compile.py\": 1669300926.0, \"/home/jstonge/miniconda3/envs/classify-comp-proj/lib/python3.9/copyreg.py\": 1669300926.0, \"/home/jstonge/miniconda3/envs/classify-comp-proj/lib/python3.9/re.py\": 1669300926.0, \"/home/jstonge/miniconda3/envs/classify-comp-proj/lib/python3.9/typing.py\": 1669300926.0, \"/home/jstonge/miniconda3/envs/classify-comp-proj/lib/python3.9/importlib/abc.py\": 1669300927.0, \"/home/jstonge/miniconda3/envs/classify-comp-proj/lib/python3.9/importlib/util.py\": 1669300927.0, \"/home/jstonge/miniconda3/envs/classify-comp-proj/lib/python3.9/site.py\": 1669300926.0, \"/home/jstonge/miniconda3/envs/classify-comp-proj/lib/python3.9/_weakrefset.py\": 1669300926.0, \"/home/jstonge/miniconda3/envs/classify-comp-proj/lib/python3.9/weakref.py\": 1669300926.0, \"/home/jstonge/miniconda3/envs/classify-comp-proj/lib/python3.9/pkgutil.py\": 1669300926.0, \"/home/jstonge/miniconda3/envs/classify-comp-proj/lib/python3.9/runpy.py\": 1669300926.0, \"/home/jstonge/.local/lib/python3.9/site-packages/ipykernel/_version.py\": 1677455983.1511762, \"/home/jstonge/miniconda3/envs/classify-comp-proj/lib/python3.9/lib-dynload/_json.cpython-39-x86_64-linux-gnu.so\": 1669300939.0, \"/home/jstonge/miniconda3/envs/classify-comp-proj/lib/python3.9/json/scanner.py\": 1669300928.0, \"/home/jstonge/miniconda3/envs/classify-comp-proj/lib/python3.9/json/decoder.py\": 1669300928.0, \"/home/jstonge/miniconda3/envs/classify-comp-proj/lib/python3.9/json/encoder.py\": 1669300928.0, \"/home/jstonge/miniconda3/envs/classify-comp-proj/lib/python3.9/json/__init__.py\": 1669300928.0, \"/home/jstonge/miniconda3/envs/classify-comp-proj/lib/python3.9/signal.py\": 1669300926.0, \"/home/jstonge/miniconda3/envs/classify-comp-proj/lib/python3.9/threading.py\": 1669300926.0, \"/home/jstonge/miniconda3/envs/classify-comp-proj/lib/python3.9/lib-dynload/grp.cpython-39-x86_64-linux-gnu.so\": 1669300940.0, \"/home/jstonge/miniconda3/envs/classify-comp-proj/lib/python3.9/lib-dynload/_posixsubprocess.cpython-39-x86_64-linux-gnu.so\": 1669300941.0, \"/home/jstonge/miniconda3/envs/classify-comp-proj/lib/python3.9/lib-dynload/select.cpython-39-x86_64-linux-gnu.so\": 1669300940.0, \"/home/jstonge/miniconda3/envs/classify-comp-proj/lib/python3.9/lib-dynload/math.cpython-39-x86_64-linux-gnu.so\": 1669300940.0, \"/home/jstonge/miniconda3/envs/classify-comp-proj/lib/python3.9/selectors.py\": 1669300926.0, \"/home/jstonge/miniconda3/envs/classify-comp-proj/lib/python3.9/subprocess.py\": 1669300926.0, \"/home/jstonge/.local/lib/python3.9/site-packages/jupyter_client/_version.py\": 1677455982.6631675, \"/home/jstonge/miniconda3/envs/classify-comp-proj/lib/python3.9/platform.py\": 1669300926.0, \"/home/jstonge/miniconda3/envs/classify-comp-proj/lib/python3.9/lib-dynload/_ctypes.cpython-39-x86_64-linux-gnu.so\": 1669300939.0, \"/home/jstonge/miniconda3/envs/classify-comp-proj/lib/python3.9/lib-dynload/_struct.cpython-39-x86_64-linux-gnu.so\": 1669300940.0, \"/home/jstonge/miniconda3/envs/classify-comp-proj/lib/python3.9/struct.py\": 1669300926.0, \"/home/jstonge/miniconda3/envs/classify-comp-proj/lib/python3.9/ctypes/_endian.py\": 1669300928.0, \"/home/jstonge/miniconda3/envs/classify-comp-proj/lib/python3.9/ctypes/__init__.py\": 1669300928.0, \"/home/jstonge/.local/lib/python3.9/site-packages/zmq/backend/select.py\": 1677455979.9271195, \"/home/jstonge/.local/lib/python3.9/site-packages/zmq/error.py\": 1677455979.9231195, \"/home/jstonge/.local/lib/python3.9/site-packages/zmq/backend/cython/context.cpython-39-x86_64-linux-gnu.so\": 1677455979.9311197, \"/home/jstonge/.local/lib/python3.9/site-packages/zmq/backend/cython/message.cpython-39-x86_64-linux-gnu.so\": 1677455979.9311197, \"/home/jstonge/miniconda3/envs/classify-comp-proj/lib/python3.9/copy.py\": 1669300926.0, \"/home/jstonge/miniconda3/envs/classify-comp-proj/lib/python3.9/lib-dynload/_bisect.cpython-39-x86_64-linux-gnu.so\": 1669300941.0, \"/home/jstonge/miniconda3/envs/classify-comp-proj/lib/python3.9/bisect.py\": 1669300926.0, \"/home/jstonge/miniconda3/envs/classify-comp-proj/lib/python3.9/lib-dynload/_random.cpython-39-x86_64-linux-gnu.so\": 1669300941.0, \"/home/jstonge/miniconda3/envs/classify-comp-proj/lib/python3.9/lib-dynload/_sha512.cpython-39-x86_64-linux-gnu.so\": 1669300940.0, \"/home/jstonge/miniconda3/envs/classify-comp-proj/lib/python3.9/random.py\": 1669300926.0, \"/home/jstonge/miniconda3/envs/classify-comp-proj/lib/python3.9/_compat_pickle.py\": 1669300926.0, \"/home/jstonge/miniconda3/envs/classify-comp-proj/lib/python3.9/lib-dynload/_pickle.cpython-39-x86_64-linux-gnu.so\": 1669300940.0, \"/home/jstonge/miniconda3/envs/classify-comp-proj/lib/python3.9/pickle.py\": 1669300926.0, \"/home/jstonge/.local/lib/python3.9/site-packages/zmq/constants.py\": 1677455979.9231195, \"/home/jstonge/.local/lib/python3.9/site-packages/zmq/backend/cython/socket.cpython-39-x86_64-linux-gnu.so\": 1677455979.9311197, \"/home/jstonge/.local/lib/python3.9/site-packages/zmq/backend/cython/_device.cpython-39-x86_64-linux-gnu.so\": 1677455979.9311197, \"/home/jstonge/.local/lib/python3.9/site-packages/zmq/backend/cython/_poll.cpython-39-x86_64-linux-gnu.so\": 1677455979.9351196, \"/home/jstonge/.local/lib/python3.9/site-packages/zmq/backend/cython/_proxy_steerable.cpython-39-x86_64-linux-gnu.so\": 1677455979.9311197, \"/home/jstonge/.local/lib/python3.9/site-packages/zmq/backend/cython/_version.cpython-39-x86_64-linux-gnu.so\": 1677455979.9311197, \"/home/jstonge/.local/lib/python3.9/site-packages/zmq/backend/cython/error.cpython-39-x86_64-linux-gnu.so\": 1677455979.9311197, \"/home/jstonge/.local/lib/python3.9/site-packages/zmq/backend/cython/utils.cpython-39-x86_64-linux-gnu.so\": 1677455979.9271195, \"/home/jstonge/.local/lib/python3.9/site-packages/zmq/backend/cython/__init__.py\": 1677455979.9311197, \"/home/jstonge/.local/lib/python3.9/site-packages/zmq/backend/__init__.py\": 1677455979.9271195, \"/home/jstonge/.local/lib/python3.9/site-packages/zmq/utils/__init__.py\": 1677455979.9431198, \"/home/jstonge/.local/lib/python3.9/site-packages/zmq/utils/interop.py\": 1677455979.9431198, \"/home/jstonge/.local/lib/python3.9/site-packages/zmq/sugar/attrsettr.py\": 1677455979.9271195, \"/home/jstonge/.local/lib/python3.9/site-packages/zmq/_typing.py\": 1677455979.9231195, \"/home/jstonge/.local/lib/python3.9/site-packages/zmq/utils/jsonapi.py\": 1677455979.9431198, \"/home/jstonge/.local/lib/python3.9/site-packages/zmq/sugar/poll.py\": 1677455979.9271195, \"/home/jstonge/.local/lib/python3.9/site-packages/zmq/sugar/socket.py\": 1677455979.9271195, \"/home/jstonge/.local/lib/python3.9/site-packages/zmq/sugar/context.py\": 1677455979.9271195, \"/home/jstonge/.local/lib/python3.9/site-packages/zmq/sugar/frame.py\": 1677455979.9271195, \"/home/jstonge/.local/lib/python3.9/site-packages/zmq/sugar/tracker.py\": 1677455979.9271195, \"/home/jstonge/.local/lib/python3.9/site-packages/zmq/sugar/version.py\": 1677455979.9271195, \"/home/jstonge/.local/lib/python3.9/site-packages/zmq/sugar/stopwatch.py\": 1677455979.9271195, \"/home/jstonge/.local/lib/python3.9/site-packages/zmq/sugar/__init__.py\": 1677455979.9271195, \"/home/jstonge/.local/lib/python3.9/site-packages/zmq/__init__.py\": 1677455979.9231195, \"/home/jstonge/miniconda3/envs/classify-comp-proj/lib/python3.9/concurrent/__init__.py\": 1669300927.0, \"/home/jstonge/miniconda3/envs/classify-comp-proj/lib/python3.9/token.py\": 1669300926.0, \"/home/jstonge/miniconda3/envs/classify-comp-proj/lib/python3.9/tokenize.py\": 1669300926.0, \"/home/jstonge/miniconda3/envs/classify-comp-proj/lib/python3.9/linecache.py\": 1669300926.0, \"/home/jstonge/miniconda3/envs/classify-comp-proj/lib/python3.9/traceback.py\": 1669300926.0, \"/home/jstonge/miniconda3/envs/classify-comp-proj/lib/python3.9/string.py\": 1669300926.0, \"/home/jstonge/miniconda3/envs/classify-comp-proj/lib/python3.9/logging/__init__.py\": 1669300928.0, \"/home/jstonge/miniconda3/envs/classify-comp-proj/lib/python3.9/concurrent/futures/_base.py\": 1669300927.0, \"/home/jstonge/miniconda3/envs/classify-comp-proj/lib/python3.9/concurrent/futures/__init__.py\": 1669300927.0, \"/home/jstonge/miniconda3/envs/classify-comp-proj/lib/python3.9/lib-dynload/_socket.cpython-39-x86_64-linux-gnu.so\": 1669300941.0, \"/home/jstonge/miniconda3/envs/classify-comp-proj/lib/python3.9/lib-dynload/array.cpython-39-x86_64-linux-gnu.so\": 1669300940.0, \"/home/jstonge/miniconda3/envs/classify-comp-proj/lib/python3.9/socket.py\": 1669300926.0, \"/home/jstonge/miniconda3/envs/classify-comp-proj/lib/python3.9/lib-dynload/_ssl.cpython-39-x86_64-linux-gnu.so\": 1669300940.0, \"/home/jstonge/miniconda3/envs/classify-comp-proj/lib/python3.9/lib-dynload/binascii.cpython-39-x86_64-linux-gnu.so\": 1669300941.0, \"/home/jstonge/miniconda3/envs/classify-comp-proj/lib/python3.9/base64.py\": 1669300926.0, \"/home/jstonge/miniconda3/envs/classify-comp-proj/lib/python3.9/ssl.py\": 1669300926.0, \"/home/jstonge/miniconda3/envs/classify-comp-proj/lib/python3.9/asyncio/constants.py\": 1669300927.0, \"/home/jstonge/miniconda3/envs/classify-comp-proj/lib/python3.9/ast.py\": 1669300926.0, \"/home/jstonge/miniconda3/envs/classify-comp-proj/lib/python3.9/lib-dynload/_opcode.cpython-39-x86_64-linux-gnu.so\": 1669300940.0, \"/home/jstonge/miniconda3/envs/classify-comp-proj/lib/python3.9/opcode.py\": 1669300926.0, \"/home/jstonge/miniconda3/envs/classify-comp-proj/lib/python3.9/dis.py\": 1669300926.0, \"/home/jstonge/miniconda3/envs/classify-comp-proj/lib/python3.9/inspect.py\": 1669300926.0, \"/home/jstonge/miniconda3/envs/classify-comp-proj/lib/python3.9/asyncio/format_helpers.py\": 1669300927.0, \"/home/jstonge/miniconda3/envs/classify-comp-proj/lib/python3.9/asyncio/base_futures.py\": 1669300927.0, \"/home/jstonge/miniconda3/envs/classify-comp-proj/lib/python3.9/asyncio/log.py\": 1669300927.0, \"/home/jstonge/miniconda3/envs/classify-comp-proj/lib/python3.9/asyncio/coroutines.py\": 1669300927.0, \"/home/jstonge/miniconda3/envs/classify-comp-proj/lib/python3.9/lib-dynload/_contextvars.cpython-39-x86_64-linux-gnu.so\": 1669300941.0, \"/home/jstonge/miniconda3/envs/classify-comp-proj/lib/python3.9/contextvars.py\": 1669300926.0, \"/home/jstonge/miniconda3/envs/classify-comp-proj/lib/python3.9/asyncio/exceptions.py\": 1669300927.0, \"/home/jstonge/miniconda3/envs/classify-comp-proj/lib/python3.9/asyncio/base_tasks.py\": 1669300927.0, \"/home/jstonge/miniconda3/envs/classify-comp-proj/lib/python3.9/lib-dynload/_asyncio.cpython-39-x86_64-linux-gnu.so\": 1669300940.0, \"/home/jstonge/miniconda3/envs/classify-comp-proj/lib/python3.9/asyncio/events.py\": 1669300927.0, \"/home/jstonge/miniconda3/envs/classify-comp-proj/lib/python3.9/asyncio/futures.py\": 1669300927.0, \"/home/jstonge/miniconda3/envs/classify-comp-proj/lib/python3.9/asyncio/protocols.py\": 1669300927.0, \"/home/jstonge/miniconda3/envs/classify-comp-proj/lib/python3.9/asyncio/transports.py\": 1669300927.0, \"/home/jstonge/miniconda3/envs/classify-comp-proj/lib/python3.9/asyncio/sslproto.py\": 1669300927.0, \"/home/jstonge/miniconda3/envs/classify-comp-proj/lib/python3.9/asyncio/locks.py\": 1669300927.0, \"/home/jstonge/miniconda3/envs/classify-comp-proj/lib/python3.9/asyncio/tasks.py\": 1669300927.0, \"/home/jstonge/miniconda3/envs/classify-comp-proj/lib/python3.9/asyncio/staggered.py\": 1669300927.0, \"/home/jstonge/miniconda3/envs/classify-comp-proj/lib/python3.9/asyncio/trsock.py\": 1669300927.0, \"/home/jstonge/miniconda3/envs/classify-comp-proj/lib/python3.9/asyncio/base_events.py\": 1669300927.0, \"/home/jstonge/miniconda3/envs/classify-comp-proj/lib/python3.9/asyncio/runners.py\": 1669300927.0, \"/home/jstonge/miniconda3/envs/classify-comp-proj/lib/python3.9/asyncio/queues.py\": 1669300927.0, \"/home/jstonge/miniconda3/envs/classify-comp-proj/lib/python3.9/asyncio/streams.py\": 1669300927.0, \"/home/jstonge/miniconda3/envs/classify-comp-proj/lib/python3.9/asyncio/subprocess.py\": 1669300927.0, \"/home/jstonge/miniconda3/envs/classify-comp-proj/lib/python3.9/asyncio/threads.py\": 1669300927.0, \"/home/jstonge/miniconda3/envs/classify-comp-proj/lib/python3.9/asyncio/base_subprocess.py\": 1669300927.0, \"/home/jstonge/miniconda3/envs/classify-comp-proj/lib/python3.9/asyncio/selector_events.py\": 1669300927.0, \"/home/jstonge/miniconda3/envs/classify-comp-proj/lib/python3.9/asyncio/unix_events.py\": 1669300927.0, \"/home/jstonge/miniconda3/envs/classify-comp-proj/lib/python3.9/asyncio/__init__.py\": 1669300927.0, \"/home/jstonge/.local/lib/python3.9/site-packages/zmq/_future.py\": 1677455979.9231195, \"/home/jstonge/.local/lib/python3.9/site-packages/zmq/asyncio.py\": 1677455979.9231195, \"/home/jstonge/miniconda3/envs/classify-comp-proj/lib/python3.9/fnmatch.py\": 1669300926.0, \"/home/jstonge/miniconda3/envs/classify-comp-proj/lib/python3.9/ntpath.py\": 1669300926.0, \"/home/jstonge/miniconda3/envs/classify-comp-proj/lib/python3.9/urllib/__init__.py\": 1669300928.0, \"/home/jstonge/miniconda3/envs/classify-comp-proj/lib/python3.9/urllib/parse.py\": 1669300928.0, \"/home/jstonge/miniconda3/envs/classify-comp-proj/lib/python3.9/pathlib.py\": 1669300926.0, \"/home/jstonge/.local/lib/python3.9/site-packages/traitlets/utils/__init__.py\": 1677455979.5391128, \"/home/jstonge/.local/lib/python3.9/site-packages/traitlets/utils/bunch.py\": 1677455979.5391128, \"/home/jstonge/.local/lib/python3.9/site-packages/traitlets/utils/descriptions.py\": 1677455979.5391128, \"/home/jstonge/.local/lib/python3.9/site-packages/traitlets/utils/getargspec.py\": 1677455979.5391128, \"/home/jstonge/.local/lib/python3.9/site-packages/traitlets/utils/importstring.py\": 1677455979.5391128, \"/home/jstonge/.local/lib/python3.9/site-packages/traitlets/utils/sentinel.py\": 1677455979.5391128, \"/home/jstonge/.local/lib/python3.9/site-packages/traitlets/traitlets.py\": 1677455979.5351126, \"/home/jstonge/.local/lib/python3.9/site-packages/traitlets/_version.py\": 1677455979.5351126, \"/home/jstonge/.local/lib/python3.9/site-packages/traitlets/utils/decorators.py\": 1677455979.5391128, \"/home/jstonge/.local/lib/python3.9/site-packages/traitlets/__init__.py\": 1677455979.5351126, \"/home/jstonge/miniconda3/envs/classify-comp-proj/lib/python3.9/lib-dynload/_queue.cpython-39-x86_64-linux-gnu.so\": 1669300940.0, \"/home/jstonge/miniconda3/envs/classify-comp-proj/lib/python3.9/queue.py\": 1669300926.0, \"/home/jstonge/.local/lib/python3.9/site-packages/jupyter_core/version.py\": 1677455981.8631535, \"/home/jstonge/.local/lib/python3.9/site-packages/jupyter_core/__init__.py\": 1677455981.8631535, \"/home/jstonge/.local/lib/python3.9/site-packages/jupyter_core/utils/__init__.py\": 1677455981.8671536, \"/home/jstonge/.local/lib/python3.9/site-packages/jupyter_client/channelsabc.py\": 1677455982.6631675, \"/home/jstonge/miniconda3/envs/classify-comp-proj/lib/python3.9/lib-dynload/_hashlib.cpython-39-x86_64-linux-gnu.so\": 1669300940.0, \"/home/jstonge/miniconda3/envs/classify-comp-proj/lib/python3.9/lib-dynload/_blake2.cpython-39-x86_64-linux-gnu.so\": 1669300940.0, \"/home/jstonge/miniconda3/envs/classify-comp-proj/lib/python3.9/hashlib.py\": 1669300926.0, \"/home/jstonge/miniconda3/envs/classify-comp-proj/lib/python3.9/hmac.py\": 1669300926.0, \"/home/jstonge/miniconda3/envs/classify-comp-proj/lib/python3.9/pprint.py\": 1669300926.0, \"/home/jstonge/miniconda3/envs/classify-comp-proj/lib/python3.9/lib-dynload/_datetime.cpython-39-x86_64-linux-gnu.so\": 1669300940.0, \"/home/jstonge/miniconda3/envs/classify-comp-proj/lib/python3.9/datetime.py\": 1669300926.0, \"/home/jstonge/.local/lib/python3.9/site-packages/tornado/__init__.py\": 1677455979.6431146, \"/home/jstonge/miniconda3/envs/classify-comp-proj/lib/python3.9/numbers.py\": 1669300926.0, \"/home/jstonge/miniconda3/envs/classify-comp-proj/lib/python3.9/logging/handlers.py\": 1669300928.0, \"/home/jstonge/miniconda3/envs/classify-comp-proj/lib/python3.9/html/entities.py\": 1669300928.0, \"/home/jstonge/miniconda3/envs/classify-comp-proj/lib/python3.9/html/__init__.py\": 1669300928.0, \"/home/jstonge/miniconda3/envs/classify-comp-proj/lib/python3.9/lib-dynload/zlib.cpython-39-x86_64-linux-gnu.so\": 1669300939.0, \"/home/jstonge/.local/lib/python3.9/site-packages/tornado/speedups.abi3.so\": 1677455979.6391144, \"/home/jstonge/.local/lib/python3.9/site-packages/tornado/util.py\": 1677455979.6431146, \"/home/jstonge/.local/lib/python3.9/site-packages/tornado/escape.py\": 1677455979.6391144, \"/home/jstonge/miniconda3/envs/classify-comp-proj/lib/python3.9/site-packages/colorama/ansi.py\": 1666700775.0, \"/home/jstonge/miniconda3/envs/classify-comp-proj/lib/python3.9/site-packages/colorama/win32.py\": 1666700775.0, \"/home/jstonge/miniconda3/envs/classify-comp-proj/lib/python3.9/site-packages/colorama/winterm.py\": 1666700775.0, \"/home/jstonge/miniconda3/envs/classify-comp-proj/lib/python3.9/site-packages/colorama/ansitowin32.py\": 1666700775.0, \"/home/jstonge/miniconda3/envs/classify-comp-proj/lib/python3.9/site-packages/colorama/initialise.py\": 1666700775.0, \"/home/jstonge/miniconda3/envs/classify-comp-proj/lib/python3.9/site-packages/colorama/__init__.py\": 1666700775.0, \"/home/jstonge/miniconda3/envs/classify-comp-proj/lib/python3.9/lib-dynload/_curses.cpython-39-x86_64-linux-gnu.so\": 1669300940.0, \"/home/jstonge/miniconda3/envs/classify-comp-proj/lib/python3.9/curses/__init__.py\": 1669300928.0, \"/home/jstonge/.local/lib/python3.9/site-packages/tornado/log.py\": 1677455979.6351144, \"/home/jstonge/.local/lib/python3.9/site-packages/tornado/concurrent.py\": 1677455979.6431146, \"/home/jstonge/.local/lib/python3.9/site-packages/tornado/ioloop.py\": 1677455979.6391144, \"/home/jstonge/miniconda3/envs/classify-comp-proj/lib/python3.9/socketserver.py\": 1669300926.0, \"/home/jstonge/miniconda3/envs/classify-comp-proj/lib/python3.9/logging/config.py\": 1669300928.0, \"/home/jstonge/miniconda3/envs/classify-comp-proj/lib/python3.9/textwrap.py\": 1669300926.0, \"/home/jstonge/.local/lib/python3.9/site-packages/traitlets/utils/text.py\": 1677455979.5391128, \"/home/jstonge/miniconda3/envs/classify-comp-proj/lib/python3.9/gettext.py\": 1669300926.0, \"/home/jstonge/miniconda3/envs/classify-comp-proj/lib/python3.9/argparse.py\": 1669300926.0, \"/home/jstonge/.local/lib/python3.9/site-packages/traitlets/config/loader.py\": 1677455979.5351126, \"/home/jstonge/.local/lib/python3.9/site-packages/traitlets/config/configurable.py\": 1677455979.5351126, \"/home/jstonge/.local/lib/python3.9/site-packages/traitlets/utils/nested_update.py\": 1677455979.5391128, \"/home/jstonge/.local/lib/python3.9/site-packages/traitlets/config/application.py\": 1677455979.5351126, \"/home/jstonge/.local/lib/python3.9/site-packages/traitlets/config/__init__.py\": 1677455979.5351126, \"/home/jstonge/.local/lib/python3.9/site-packages/traitlets/log.py\": 1677455979.5351126, \"/home/jstonge/.local/lib/python3.9/site-packages/zmq/eventloop/__init__.py\": 1677455979.9431198, \"/home/jstonge/.local/lib/python3.9/site-packages/zmq/eventloop/zmqstream.py\": 1677455979.9431198, \"/home/jstonge/.local/lib/python3.9/site-packages/jupyter_client/adapter.py\": 1677455982.6631675, \"/home/jstonge/.local/lib/python3.9/site-packages/dateutil/_version.py\": 1677455981.7511516, \"/home/jstonge/.local/lib/python3.9/site-packages/dateutil/__init__.py\": 1677455981.7511516, \"/home/jstonge/miniconda3/envs/classify-comp-proj/lib/python3.9/__future__.py\": 1669300926.0, \"/home/jstonge/miniconda3/envs/classify-comp-proj/lib/python3.9/locale.py\": 1669300926.0, \"/home/jstonge/miniconda3/envs/classify-comp-proj/lib/python3.9/calendar.py\": 1669300926.0, \"/home/jstonge/.local/lib/python3.9/site-packages/six.py\": 1677455979.843118, \"/home/jstonge/miniconda3/envs/classify-comp-proj/lib/python3.9/lib-dynload/_decimal.cpython-39-x86_64-linux-gnu.so\": 1669300940.0, \"/home/jstonge/miniconda3/envs/classify-comp-proj/lib/python3.9/decimal.py\": 1669300926.0, \"/home/jstonge/.local/lib/python3.9/site-packages/dateutil/_common.py\": 1677455981.7511516, \"/home/jstonge/.local/lib/python3.9/site-packages/dateutil/relativedelta.py\": 1677455981.7511516, \"/home/jstonge/.local/lib/python3.9/site-packages/dateutil/tz/_common.py\": 1677455981.7551515, \"/home/jstonge/.local/lib/python3.9/site-packages/dateutil/tz/_factories.py\": 1677455981.7551515, \"/home/jstonge/.local/lib/python3.9/site-packages/dateutil/tz/tz.py\": 1677455981.7551515, \"/home/jstonge/.local/lib/python3.9/site-packages/dateutil/tz/__init__.py\": 1677455981.7551515, \"/home/jstonge/.local/lib/python3.9/site-packages/dateutil/parser/_parser.py\": 1677455981.7551515, \"/home/jstonge/.local/lib/python3.9/site-packages/dateutil/parser/isoparser.py\": 1677455981.7551515, \"/home/jstonge/.local/lib/python3.9/site-packages/dateutil/parser/__init__.py\": 1677455981.7551515, \"/home/jstonge/miniconda3/envs/classify-comp-proj/lib/python3.9/_strptime.py\": 1669300926.0, \"/home/jstonge/.local/lib/python3.9/site-packages/jupyter_client/jsonutil.py\": 1677455982.6631675, \"/home/jstonge/.local/lib/python3.9/site-packages/jupyter_client/session.py\": 1677455982.6631675, \"/home/jstonge/.local/lib/python3.9/site-packages/jupyter_client/channels.py\": 1677455982.6631675, \"/home/jstonge/miniconda3/envs/classify-comp-proj/lib/python3.9/lib-dynload/termios.cpython-39-x86_64-linux-gnu.so\": 1669300939.0, \"/home/jstonge/miniconda3/envs/classify-comp-proj/lib/python3.9/getpass.py\": 1669300926.0, \"/home/jstonge/.local/lib/python3.9/site-packages/jupyter_client/clientabc.py\": 1677455982.6631675, \"/home/jstonge/miniconda3/envs/classify-comp-proj/lib/python3.9/glob.py\": 1669300926.0, \"/home/jstonge/miniconda3/envs/classify-comp-proj/lib/python3.9/_compression.py\": 1669300926.0, \"/home/jstonge/miniconda3/envs/classify-comp-proj/lib/python3.9/lib-dynload/_bz2.cpython-39-x86_64-linux-gnu.so\": 1669300939.0, \"/home/jstonge/miniconda3/envs/classify-comp-proj/lib/python3.9/bz2.py\": 1669300926.0, \"/home/jstonge/miniconda3/envs/classify-comp-proj/lib/python3.9/lib-dynload/_lzma.cpython-39-x86_64-linux-gnu.so\": 1669300941.0, \"/home/jstonge/miniconda3/envs/classify-comp-proj/lib/python3.9/lzma.py\": 1669300926.0, \"/home/jstonge/miniconda3/envs/classify-comp-proj/lib/python3.9/shutil.py\": 1669300926.0, \"/home/jstonge/miniconda3/envs/classify-comp-proj/lib/python3.9/tempfile.py\": 1669300926.0, \"/home/jstonge/.local/lib/python3.9/site-packages/platformdirs/api.py\": 1677455980.8951366, \"/home/jstonge/.local/lib/python3.9/site-packages/platformdirs/version.py\": 1677455980.8951366, \"/home/jstonge/miniconda3/envs/classify-comp-proj/lib/python3.9/configparser.py\": 1669300926.0, \"/home/jstonge/.local/lib/python3.9/site-packages/platformdirs/unix.py\": 1677455980.8951366, \"/home/jstonge/.local/lib/python3.9/site-packages/platformdirs/__init__.py\": 1677455980.8911364, \"/home/jstonge/.local/lib/python3.9/site-packages/jupyter_core/paths.py\": 1677455981.8631535, \"/home/jstonge/.local/lib/python3.9/site-packages/jupyter_client/localinterfaces.py\": 1677455982.6631675, \"/home/jstonge/.local/lib/python3.9/site-packages/jupyter_client/utils.py\": 1677455982.6631675, \"/home/jstonge/.local/lib/python3.9/site-packages/jupyter_client/connect.py\": 1677455982.6631675, \"/home/jstonge/.local/lib/python3.9/site-packages/jupyter_client/client.py\": 1677455982.6631675, \"/home/jstonge/.local/lib/python3.9/site-packages/jupyter_client/asynchronous/client.py\": 1677455982.6671677, \"/home/jstonge/.local/lib/python3.9/site-packages/jupyter_client/asynchronous/__init__.py\": 1677455982.6671677, \"/home/jstonge/.local/lib/python3.9/site-packages/jupyter_client/blocking/client.py\": 1677455982.6671677, \"/home/jstonge/.local/lib/python3.9/site-packages/jupyter_client/blocking/__init__.py\": 1677455982.6671677, \"/home/jstonge/.local/lib/python3.9/site-packages/jupyter_client/launcher.py\": 1677455982.6631675, \"/home/jstonge/miniconda3/envs/classify-comp-proj/lib/python3.9/lib-dynload/_uuid.cpython-39-x86_64-linux-gnu.so\": 1669300941.0, \"/home/jstonge/miniconda3/envs/classify-comp-proj/lib/python3.9/uuid.py\": 1669300926.0, \"/home/jstonge/miniconda3/envs/classify-comp-proj/lib/python3.9/lib-dynload/_csv.cpython-39-x86_64-linux-gnu.so\": 1669300940.0, \"/home/jstonge/miniconda3/envs/classify-comp-proj/lib/python3.9/csv.py\": 1669300926.0, \"/home/jstonge/miniconda3/envs/classify-comp-proj/lib/python3.9/zipfile.py\": 1669300926.0, \"/home/jstonge/.local/lib/python3.9/site-packages/zipp/py310compat.py\": 1677455979.499112, \"/home/jstonge/.local/lib/python3.9/site-packages/zipp/__init__.py\": 1677455979.499112, \"/home/jstonge/miniconda3/envs/classify-comp-proj/lib/python3.9/email/__init__.py\": 1669300927.0, \"/home/jstonge/miniconda3/envs/classify-comp-proj/lib/python3.9/uu.py\": 1669300926.0, \"/home/jstonge/miniconda3/envs/classify-comp-proj/lib/python3.9/quopri.py\": 1669300926.0, \"/home/jstonge/miniconda3/envs/classify-comp-proj/lib/python3.9/email/_parseaddr.py\": 1669300927.0, \"/home/jstonge/miniconda3/envs/classify-comp-proj/lib/python3.9/email/base64mime.py\": 1669300927.0, \"/home/jstonge/miniconda3/envs/classify-comp-proj/lib/python3.9/email/quoprimime.py\": 1669300927.0, \"/home/jstonge/miniconda3/envs/classify-comp-proj/lib/python3.9/email/errors.py\": 1669300927.0, \"/home/jstonge/miniconda3/envs/classify-comp-proj/lib/python3.9/email/encoders.py\": 1669300927.0, \"/home/jstonge/miniconda3/envs/classify-comp-proj/lib/python3.9/email/charset.py\": 1669300927.0, \"/home/jstonge/miniconda3/envs/classify-comp-proj/lib/python3.9/email/utils.py\": 1669300927.0, \"/home/jstonge/miniconda3/envs/classify-comp-proj/lib/python3.9/email/header.py\": 1669300927.0, \"/home/jstonge/miniconda3/envs/classify-comp-proj/lib/python3.9/email/_policybase.py\": 1669300927.0, \"/home/jstonge/miniconda3/envs/classify-comp-proj/lib/python3.9/email/_encoded_words.py\": 1669300927.0, \"/home/jstonge/miniconda3/envs/classify-comp-proj/lib/python3.9/email/iterators.py\": 1669300927.0, \"/home/jstonge/miniconda3/envs/classify-comp-proj/lib/python3.9/email/message.py\": 1669300927.0, \"/home/jstonge/.local/lib/python3.9/site-packages/importlib_metadata/_functools.py\": 1677455982.5031648, \"/home/jstonge/.local/lib/python3.9/site-packages/importlib_metadata/_text.py\": 1677455982.5031648, \"/home/jstonge/.local/lib/python3.9/site-packages/importlib_metadata/_compat.py\": 1677455982.5031648, \"/home/jstonge/.local/lib/python3.9/site-packages/importlib_metadata/_adapters.py\": 1677455982.5031648, \"/home/jstonge/.local/lib/python3.9/site-packages/importlib_metadata/_meta.py\": 1677455982.5031648, \"/home/jstonge/.local/lib/python3.9/site-packages/importlib_metadata/_py39compat.py\": 1677455982.5031648, \"/home/jstonge/.local/lib/python3.9/site-packages/importlib_metadata/_collections.py\": 1677455982.5031648, \"/home/jstonge/.local/lib/python3.9/site-packages/importlib_metadata/_itertools.py\": 1677455982.5031648, \"/home/jstonge/.local/lib/python3.9/site-packages/importlib_metadata/__init__.py\": 1677455982.5031648, \"/home/jstonge/.local/lib/python3.9/site-packages/jupyter_client/provisioning/provisioner_base.py\": 1677455982.6671677, \"/home/jstonge/.local/lib/python3.9/site-packages/jupyter_client/provisioning/factory.py\": 1677455982.6671677, \"/home/jstonge/.local/lib/python3.9/site-packages/jupyter_client/provisioning/local_provisioner.py\": 1677455982.6671677, \"/home/jstonge/.local/lib/python3.9/site-packages/jupyter_client/provisioning/__init__.py\": 1677455982.6671677, \"/home/jstonge/.local/lib/python3.9/site-packages/jupyter_client/kernelspec.py\": 1677455982.6631675, \"/home/jstonge/.local/lib/python3.9/site-packages/jupyter_client/managerabc.py\": 1677455982.6631675, \"/home/jstonge/.local/lib/python3.9/site-packages/jupyter_client/manager.py\": 1677455982.6631675, \"/home/jstonge/.local/lib/python3.9/site-packages/jupyter_client/multikernelmanager.py\": 1677455982.6631675, \"/home/jstonge/.local/lib/python3.9/site-packages/jupyter_client/__init__.py\": 1677455982.6631675, \"/home/jstonge/.local/lib/python3.9/site-packages/ipykernel/connect.py\": 1677455983.1511762, \"/home/jstonge/.local/lib/python3.9/site-packages/ipykernel/__init__.py\": 1677455983.1511762, \"/home/jstonge/.local/lib/python3.9/site-packages/IPython/core/__init__.py\": 1677455982.79117, \"/home/jstonge/.local/lib/python3.9/site-packages/IPython/core/getipython.py\": 1677455982.7951698, \"/home/jstonge/.local/lib/python3.9/site-packages/IPython/core/release.py\": 1677455982.80317, \"/home/jstonge/miniconda3/envs/classify-comp-proj/lib/python3.9/sysconfig.py\": 1669300926.0, \"/home/jstonge/miniconda3/envs/classify-comp-proj/lib/python3.9/_sysconfigdata__linux_x86_64-linux-gnu.py\": 1672667457.2350333, \"/home/jstonge/miniconda3/envs/classify-comp-proj/lib/python3.9/pydoc.py\": 1669300926.0, \"/home/jstonge/.local/lib/python3.9/site-packages/executing/executing.py\": 1677455979.4031103, \"/home/jstonge/.local/lib/python3.9/site-packages/executing/version.py\": 1677455979.4031103, \"/home/jstonge/.local/lib/python3.9/site-packages/executing/__init__.py\": 1677455979.4031103, \"/home/jstonge/.local/lib/python3.9/site-packages/asttokens/line_numbers.py\": 1677455982.5911663, \"/home/jstonge/.local/lib/python3.9/site-packages/asttokens/util.py\": 1677455982.5911663, \"/home/jstonge/.local/lib/python3.9/site-packages/asttokens/asttokens.py\": 1677455982.5911663, \"/home/jstonge/.local/lib/python3.9/site-packages/asttokens/__init__.py\": 1677455982.5911663, \"/home/jstonge/miniconda3/envs/classify-comp-proj/lib/python3.9/fractions.py\": 1669300926.0, \"/home/jstonge/.local/lib/python3.9/site-packages/pure_eval/utils.py\": 1677455979.2991085, \"/home/jstonge/.local/lib/python3.9/site-packages/pure_eval/my_getattr_static.py\": 1677455979.2991085, \"/home/jstonge/.local/lib/python3.9/site-packages/pure_eval/core.py\": 1677455979.2991085, \"/home/jstonge/.local/lib/python3.9/site-packages/pure_eval/version.py\": 1677455979.2991085, \"/home/jstonge/.local/lib/python3.9/site-packages/pure_eval/__init__.py\": 1677455979.2991085, \"/home/jstonge/.local/lib/python3.9/site-packages/stack_data/utils.py\": 1677455982.6231668, \"/home/jstonge/.local/lib/python3.9/site-packages/stack_data/core.py\": 1677455982.6231668, \"/home/jstonge/.local/lib/python3.9/site-packages/stack_data/formatting.py\": 1677455982.6231668, \"/home/jstonge/.local/lib/python3.9/site-packages/stack_data/serializing.py\": 1677455982.6231668, \"/home/jstonge/.local/lib/python3.9/site-packages/stack_data/version.py\": 1677455982.6231668, \"/home/jstonge/.local/lib/python3.9/site-packages/stack_data/__init__.py\": 1677455982.6231668, \"/home/jstonge/.local/lib/python3.9/site-packages/pygments/__init__.py\": 1677455980.1071227, \"/home/jstonge/.local/lib/python3.9/site-packages/pygments/formatters/_mapping.py\": 1677455980.1111228, \"/home/jstonge/.local/lib/python3.9/site-packages/pygments/plugin.py\": 1677455980.1071227, \"/home/jstonge/.local/lib/python3.9/site-packages/pygments/util.py\": 1677455980.1111228, \"/home/jstonge/.local/lib/python3.9/site-packages/pygments/formatters/__init__.py\": 1677455980.1111228, \"/home/jstonge/.local/lib/python3.9/site-packages/pygments/styles/__init__.py\": 1677455980.1551235, \"/home/jstonge/.local/lib/python3.9/site-packages/pygments/formatter.py\": 1677455980.1071227, \"/home/jstonge/.local/lib/python3.9/site-packages/pygments/console.py\": 1677455980.1071227, \"/home/jstonge/.local/lib/python3.9/site-packages/pygments/token.py\": 1677455980.1111228, \"/home/jstonge/.local/lib/python3.9/site-packages/pygments/style.py\": 1677455980.1111228, \"/home/jstonge/.local/lib/python3.9/site-packages/pygments/formatters/terminal256.py\": 1677455980.1111228, \"/home/jstonge/.local/lib/python3.9/site-packages/IPython/utils/__init__.py\": 1677455982.8271704, \"/home/jstonge/.local/lib/python3.9/site-packages/IPython/utils/ipstruct.py\": 1677455982.8311706, \"/home/jstonge/.local/lib/python3.9/site-packages/IPython/utils/coloransi.py\": 1677455982.8271704, \"/home/jstonge/.local/lib/python3.9/site-packages/IPython/utils/colorable.py\": 1677455982.8271704, \"/home/jstonge/.local/lib/python3.9/site-packages/IPython/utils/PyColorize.py\": 1677455982.8271704, \"/home/jstonge/.local/lib/python3.9/site-packages/IPython/utils/encoding.py\": 1677455982.8271704, \"/home/jstonge/.local/lib/python3.9/site-packages/IPython/utils/py3compat.py\": 1677455982.8311706, \"/home/jstonge/.local/lib/python3.9/site-packages/IPython/core/excolors.py\": 1677455982.7951698, \"/home/jstonge/miniconda3/envs/classify-comp-proj/lib/python3.9/cmd.py\": 1669300926.0, \"/home/jstonge/miniconda3/envs/classify-comp-proj/lib/python3.9/bdb.py\": 1669300926.0, \"/home/jstonge/miniconda3/envs/classify-comp-proj/lib/python3.9/codeop.py\": 1669300926.0, \"/home/jstonge/miniconda3/envs/classify-comp-proj/lib/python3.9/code.py\": 1669300926.0, \"/home/jstonge/miniconda3/envs/classify-comp-proj/lib/python3.9/pdb.py\": 1669300926.0, \"/home/jstonge/.local/lib/python3.9/site-packages/IPython/core/debugger.py\": 1677455982.7951698, \"/home/jstonge/.local/lib/python3.9/site-packages/IPython/core/display_trap.py\": 1677455982.7951698, \"/home/jstonge/.local/lib/python3.9/site-packages/pexpect/exceptions.py\": 1677455980.923137, \"/home/jstonge/.local/lib/python3.9/site-packages/pexpect/utils.py\": 1677455980.9271371, \"/home/jstonge/.local/lib/python3.9/site-packages/pexpect/expect.py\": 1677455980.923137, \"/home/jstonge/miniconda3/envs/classify-comp-proj/lib/python3.9/tty.py\": 1669300926.0, \"/home/jstonge/miniconda3/envs/classify-comp-proj/lib/python3.9/pty.py\": 1669300926.0, \"/home/jstonge/miniconda3/envs/classify-comp-proj/lib/python3.9/lib-dynload/fcntl.cpython-39-x86_64-linux-gnu.so\": 1669300941.0, \"/home/jstonge/miniconda3/envs/classify-comp-proj/lib/python3.9/lib-dynload/resource.cpython-39-x86_64-linux-gnu.so\": 1669300941.0, \"/home/jstonge/.local/lib/python3.9/site-packages/ptyprocess/util.py\": 1677455979.335109, \"/home/jstonge/.local/lib/python3.9/site-packages/ptyprocess/ptyprocess.py\": 1677455979.335109, \"/home/jstonge/.local/lib/python3.9/site-packages/ptyprocess/__init__.py\": 1677455979.335109, \"/home/jstonge/.local/lib/python3.9/site-packages/pexpect/spawnbase.py\": 1677455980.9271371, \"/home/jstonge/.local/lib/python3.9/site-packages/pexpect/pty_spawn.py\": 1677455980.9271371, \"/home/jstonge/.local/lib/python3.9/site-packages/pexpect/run.py\": 1677455980.9271371, \"/home/jstonge/.local/lib/python3.9/site-packages/pexpect/__init__.py\": 1677455980.923137, \"/home/jstonge/miniconda3/envs/classify-comp-proj/lib/python3.9/shlex.py\": 1669300926.0, \"/home/jstonge/.local/lib/python3.9/site-packages/IPython/utils/_process_common.py\": 1677455982.8271704, \"/home/jstonge/.local/lib/python3.9/site-packages/IPython/utils/_process_posix.py\": 1677455982.8271704, \"/home/jstonge/.local/lib/python3.9/site-packages/IPython/utils/process.py\": 1677455982.8311706, \"/home/jstonge/.local/lib/python3.9/site-packages/IPython/utils/path.py\": 1677455982.8311706, \"/home/jstonge/.local/lib/python3.9/site-packages/IPython/utils/terminal.py\": 1677455982.8311706, \"/home/jstonge/.local/lib/python3.9/site-packages/IPython/core/ultratb.py\": 1677455982.80317, \"/home/jstonge/.local/lib/python3.9/site-packages/IPython/utils/_sysinfo.py\": 1677455982.8271704, \"/home/jstonge/.local/lib/python3.9/site-packages/IPython/utils/sysinfo.py\": 1677455982.8311706, \"/home/jstonge/.local/lib/python3.9/site-packages/IPython/core/crashhandler.py\": 1677455982.7951698, \"/home/jstonge/.local/lib/python3.9/site-packages/IPython/utils/importstring.py\": 1677455982.8271704, \"/home/jstonge/.local/lib/python3.9/site-packages/IPython/paths.py\": 1677455982.79117, \"/home/jstonge/.local/lib/python3.9/site-packages/IPython/core/profiledir.py\": 1677455982.79917, \"/home/jstonge/.local/lib/python3.9/site-packages/IPython/core/application.py\": 1677455982.79117, \"/home/jstonge/.local/lib/python3.9/site-packages/IPython/terminal/__init__.py\": 1677455982.8191702, \"/home/jstonge/.local/lib/python3.9/site-packages/IPython/core/compilerop.py\": 1677455982.79117, \"/home/jstonge/.local/lib/python3.9/site-packages/IPython/core/error.py\": 1677455982.7951698, \"/home/jstonge/.local/lib/python3.9/site-packages/IPython/utils/docs.py\": 1677455982.8271704, \"/home/jstonge/.local/lib/python3.9/site-packages/IPython/utils/decorators.py\": 1677455982.8271704, \"/home/jstonge/.local/lib/python3.9/site-packages/IPython/utils/text.py\": 1677455982.8311706, \"/home/jstonge/.local/lib/python3.9/site-packages/IPython/core/magic_arguments.py\": 1677455982.79917, \"/home/jstonge/miniconda3/envs/classify-comp-proj/lib/python3.9/getopt.py\": 1669300926.0, \"/home/jstonge/.local/lib/python3.9/site-packages/IPython/core/display_functions.py\": 1677455982.7951698, \"/home/jstonge/miniconda3/envs/classify-comp-proj/lib/python3.9/mimetypes.py\": 1669300926.0, \"/home/jstonge/.local/lib/python3.9/site-packages/IPython/testing/__init__.py\": 1677455982.8231704, \"/home/jstonge/.local/lib/python3.9/site-packages/IPython/testing/skipdoctest.py\": 1677455982.8231704, \"/home/jstonge/.local/lib/python3.9/site-packages/IPython/core/display.py\": 1677455982.7951698, \"/home/jstonge/.local/lib/python3.9/site-packages/IPython/lib/__init__.py\": 1677455982.8151703, \"/home/jstonge/.local/lib/python3.9/site-packages/IPython/lib/display.py\": 1677455982.8151703, \"/home/jstonge/.local/lib/python3.9/site-packages/IPython/display.py\": 1677455982.79117, \"/home/jstonge/.local/lib/python3.9/site-packages/IPython/utils/data.py\": 1677455982.8271704, \"/home/jstonge/.local/lib/python3.9/site-packages/IPython/core/page.py\": 1677455982.79917, \"/home/jstonge/.local/lib/python3.9/site-packages/IPython/lib/pretty.py\": 1677455982.8151703, \"/home/jstonge/.local/lib/python3.9/site-packages/IPython/utils/openpy.py\": 1677455982.8311706, \"/home/jstonge/.local/lib/python3.9/site-packages/IPython/utils/dir2.py\": 1677455982.8271704, \"/home/jstonge/.local/lib/python3.9/site-packages/IPython/utils/wildcard.py\": 1677455982.8311706, \"/home/jstonge/.local/lib/python3.9/site-packages/pygments/lexers/_mapping.py\": 1677455980.1151228, \"/home/jstonge/.local/lib/python3.9/site-packages/pygments/modeline.py\": 1677455980.1071227, \"/home/jstonge/.local/lib/python3.9/site-packages/pygments/lexers/__init__.py\": 1677455980.1111228, \"/home/jstonge/.local/lib/python3.9/site-packages/pygments/filter.py\": 1677455980.1071227, \"/home/jstonge/.local/lib/python3.9/site-packages/pygments/filters/__init__.py\": 1677455980.1111228, \"/home/jstonge/.local/lib/python3.9/site-packages/pygments/regexopt.py\": 1677455980.1071227, \"/home/jstonge/.local/lib/python3.9/site-packages/pygments/lexer.py\": 1677455980.1071227, \"/home/jstonge/.local/lib/python3.9/site-packages/pygments/unistring.py\": 1677455980.1111228, \"/home/jstonge/.local/lib/python3.9/site-packages/pygments/lexers/python.py\": 1677455980.1431234, \"/home/jstonge/.local/lib/python3.9/site-packages/pygments/formatters/html.py\": 1677455980.1111228, \"/home/jstonge/.local/lib/python3.9/site-packages/IPython/core/oinspect.py\": 1677455982.79917, \"/home/jstonge/.local/lib/python3.9/site-packages/IPython/core/inputtransformer2.py\": 1677455982.79917, \"/home/jstonge/.local/lib/python3.9/site-packages/IPython/core/magic.py\": 1677455982.79917, \"/home/jstonge/.local/lib/python3.9/site-packages/pickleshare.py\": 1677455979.38311, \"/home/jstonge/.local/lib/python3.9/site-packages/IPython/core/hooks.py\": 1677455982.79917, \"/home/jstonge/.local/lib/python3.9/site-packages/IPython/core/autocall.py\": 1677455982.79117, \"/home/jstonge/.local/lib/python3.9/site-packages/IPython/core/macro.py\": 1677455982.79917, \"/home/jstonge/.local/lib/python3.9/site-packages/IPython/core/splitinput.py\": 1677455982.80317, \"/home/jstonge/.local/lib/python3.9/site-packages/IPython/core/prefilter.py\": 1677455982.79917, \"/home/jstonge/.local/lib/python3.9/site-packages/IPython/core/alias.py\": 1677455982.79117, \"/home/jstonge/.local/lib/python3.9/site-packages/IPython/core/builtin_trap.py\": 1677455982.79117, \"/home/jstonge/.local/lib/python3.9/site-packages/IPython/core/displayhook.py\": 1677455982.7951698, \"/home/jstonge/.local/lib/python3.9/site-packages/IPython/core/displaypub.py\": 1677455982.7951698, \"/home/jstonge/.local/lib/python3.9/site-packages/backcall/backcall.py\": 1677455979.4311109, \"/home/jstonge/.local/lib/python3.9/site-packages/backcall/__init__.py\": 1677455979.4311109, \"/home/jstonge/.local/lib/python3.9/site-packages/IPython/core/events.py\": 1677455982.7951698, \"/home/jstonge/.local/lib/python3.9/site-packages/IPython/core/extensions.py\": 1677455982.7951698, \"/home/jstonge/.local/lib/python3.9/site-packages/decorator.py\": 1677455981.1271405, \"/home/jstonge/.local/lib/python3.9/site-packages/IPython/utils/sentinel.py\": 1677455982.8311706, \"/home/jstonge/.local/lib/python3.9/site-packages/IPython/core/formatters.py\": 1677455982.7951698, \"/home/jstonge/miniconda3/envs/classify-comp-proj/lib/python3.9/lib-dynload/_sqlite3.cpython-39-x86_64-linux-gnu.so\": 1669300940.0, \"/home/jstonge/miniconda3/envs/classify-comp-proj/lib/python3.9/sqlite3/dbapi2.py\": 1669300928.0, \"/home/jstonge/miniconda3/envs/classify-comp-proj/lib/python3.9/sqlite3/__init__.py\": 1669300928.0, \"/home/jstonge/.local/lib/python3.9/site-packages/IPython/core/history.py\": 1677455982.79917, \"/home/jstonge/.local/lib/python3.9/site-packages/IPython/core/logger.py\": 1677455982.79917, \"/home/jstonge/.local/lib/python3.9/site-packages/IPython/core/payload.py\": 1677455982.79917, \"/home/jstonge/.local/lib/python3.9/site-packages/IPython/core/usage.py\": 1677455982.80317, \"/home/jstonge/.local/lib/python3.9/site-packages/IPython/utils/capture.py\": 1677455982.8271704, \"/home/jstonge/.local/lib/python3.9/site-packages/IPython/utils/io.py\": 1677455982.8271704, \"/home/jstonge/.local/lib/python3.9/site-packages/IPython/utils/strdispatch.py\": 1677455982.8311706, \"/home/jstonge/.local/lib/python3.9/site-packages/IPython/utils/syspathcontext.py\": 1677455982.8311706, \"/home/jstonge/.local/lib/python3.9/site-packages/IPython/core/async_helpers.py\": 1677455982.79117, \"/home/jstonge/.local/lib/python3.9/site-packages/IPython/core/interactiveshell.py\": 1677455982.79917, \"/home/jstonge/.local/lib/python3.9/site-packages/prompt_toolkit/application/current.py\": 1677455980.7071333, \"/home/jstonge/.local/lib/python3.9/site-packages/prompt_toolkit/eventloop/utils.py\": 1677455980.7111332, \"/home/jstonge/.local/lib/python3.9/site-packages/prompt_toolkit/eventloop/async_generator.py\": 1677455980.7111332, \"/home/jstonge/.local/lib/python3.9/site-packages/prompt_toolkit/eventloop/inputhook.py\": 1677455980.7111332, \"/home/jstonge/.local/lib/python3.9/site-packages/prompt_toolkit/eventloop/__init__.py\": 1677455980.7111332, \"/home/jstonge/.local/lib/python3.9/site-packages/prompt_toolkit/application/run_in_terminal.py\": 1677455980.7071333, \"/home/jstonge/.local/lib/python3.9/site-packages/prompt_toolkit/selection.py\": 1677455980.7071333, \"/home/jstonge/.local/lib/python3.9/site-packages/prompt_toolkit/clipboard/base.py\": 1677455980.7071333, \"/home/jstonge/.local/lib/python3.9/site-packages/prompt_toolkit/clipboard/in_memory.py\": 1677455980.7071333, \"/home/jstonge/.local/lib/python3.9/site-packages/prompt_toolkit/clipboard/__init__.py\": 1677455980.7071333, \"/home/jstonge/.local/lib/python3.9/site-packages/prompt_toolkit/cache.py\": 1677455980.703133, \"/home/jstonge/.local/lib/python3.9/site-packages/prompt_toolkit/enums.py\": 1677455980.703133, \"/home/jstonge/.local/lib/python3.9/site-packages/prompt_toolkit/filters/base.py\": 1677455980.7111332, \"/home/jstonge/.local/lib/python3.9/site-packages/prompt_toolkit/filters/app.py\": 1677455980.7111332, \"/home/jstonge/.local/lib/python3.9/site-packages/prompt_toolkit/filters/cli.py\": 1677455980.7111332, \"/home/jstonge/.local/lib/python3.9/site-packages/prompt_toolkit/filters/utils.py\": 1677455980.7111332, \"/home/jstonge/.local/lib/python3.9/site-packages/prompt_toolkit/filters/__init__.py\": 1677455980.7111332, \"/home/jstonge/.local/lib/python3.9/site-packages/prompt_toolkit/document.py\": 1677455980.703133, \"/home/jstonge/.local/lib/python3.9/site-packages/prompt_toolkit/auto_suggest.py\": 1677455980.703133, \"/home/jstonge/.local/lib/python3.9/site-packages/prompt_toolkit/keys.py\": 1677455980.703133, \"/home/jstonge/.local/lib/python3.9/site-packages/prompt_toolkit/key_binding/key_bindings.py\": 1677455980.7151334, \"/home/jstonge/.local/lib/python3.9/site-packages/wcwidth/table_wide.py\": 1677455979.2511077, \"/home/jstonge/.local/lib/python3.9/site-packages/wcwidth/table_zero.py\": 1677455979.2511077, \"/home/jstonge/.local/lib/python3.9/site-packages/wcwidth/unicode_versions.py\": 1677455979.2551076, \"/home/jstonge/.local/lib/python3.9/site-packages/wcwidth/wcwidth.py\": 1677455979.2551076, \"/home/jstonge/.local/lib/python3.9/site-packages/wcwidth/__init__.py\": 1677455979.2511077, \"/home/jstonge/.local/lib/python3.9/site-packages/prompt_toolkit/utils.py\": 1677455980.7071333, \"/home/jstonge/.local/lib/python3.9/site-packages/prompt_toolkit/key_binding/key_processor.py\": 1677455980.7151334, \"/home/jstonge/.local/lib/python3.9/site-packages/prompt_toolkit/key_binding/__init__.py\": 1677455980.7151334, \"/home/jstonge/.local/lib/python3.9/site-packages/prompt_toolkit/key_binding/vi_state.py\": 1677455980.7151334, \"/home/jstonge/.local/lib/python3.9/site-packages/prompt_toolkit/cursor_shapes.py\": 1677455980.703133, \"/home/jstonge/.local/lib/python3.9/site-packages/prompt_toolkit/data_structures.py\": 1677455980.703133, \"/home/jstonge/.local/lib/python3.9/site-packages/prompt_toolkit/styles/base.py\": 1677455980.7231336, \"/home/jstonge/.local/lib/python3.9/site-packages/prompt_toolkit/styles/named_colors.py\": 1677455980.7231336, \"/home/jstonge/.local/lib/python3.9/site-packages/prompt_toolkit/styles/style.py\": 1677455980.7231336, \"/home/jstonge/.local/lib/python3.9/site-packages/prompt_toolkit/styles/defaults.py\": 1677455980.7231336, \"/home/jstonge/.local/lib/python3.9/site-packages/prompt_toolkit/styles/pygments.py\": 1677455980.7231336, \"/home/jstonge/miniconda3/envs/classify-comp-proj/lib/python3.9/colorsys.py\": 1669300926.0, \"/home/jstonge/.local/lib/python3.9/site-packages/prompt_toolkit/styles/style_transformation.py\": 1677455980.7231336, \"/home/jstonge/.local/lib/python3.9/site-packages/prompt_toolkit/styles/__init__.py\": 1677455980.7231336, \"/home/jstonge/.local/lib/python3.9/site-packages/prompt_toolkit/output/color_depth.py\": 1677455980.7231336, \"/home/jstonge/.local/lib/python3.9/site-packages/prompt_toolkit/output/base.py\": 1677455980.7231336, \"/home/jstonge/.local/lib/python3.9/site-packages/prompt_toolkit/output/flush_stdout.py\": 1677455980.7231336, \"/home/jstonge/.local/lib/python3.9/site-packages/prompt_toolkit/output/plain_text.py\": 1677455980.7231336, \"/home/jstonge/.local/lib/python3.9/site-packages/prompt_toolkit/output/defaults.py\": 1677455980.7231336, \"/home/jstonge/.local/lib/python3.9/site-packages/prompt_toolkit/output/__init__.py\": 1677455980.7191334, \"/home/jstonge/.local/lib/python3.9/site-packages/prompt_toolkit/output/vt100.py\": 1677455980.7231336, \"/home/jstonge/.local/lib/python3.9/site-packages/prompt_toolkit/mouse_events.py\": 1677455980.703133, \"/home/jstonge/.local/lib/python3.9/site-packages/prompt_toolkit/formatted_text/base.py\": 1677455980.7111332, \"/home/jstonge/.local/lib/python3.9/site-packages/prompt_toolkit/formatted_text/ansi.py\": 1677455980.7111332, \"/home/jstonge/miniconda3/envs/classify-comp-proj/lib/python3.9/xml/__init__.py\": 1669300928.0, \"/home/jstonge/miniconda3/envs/classify-comp-proj/lib/python3.9/xml/dom/domreg.py\": 1669300928.0, \"/home/jstonge/miniconda3/envs/classify-comp-proj/lib/python3.9/xml/dom/__init__.py\": 1669300928.0, \"/home/jstonge/miniconda3/envs/classify-comp-proj/lib/python3.9/xml/dom/minicompat.py\": 1669300928.0, \"/home/jstonge/miniconda3/envs/classify-comp-proj/lib/python3.9/xml/dom/NodeFilter.py\": 1669300928.0, \"/home/jstonge/miniconda3/envs/classify-comp-proj/lib/python3.9/xml/dom/xmlbuilder.py\": 1669300928.0, \"/home/jstonge/miniconda3/envs/classify-comp-proj/lib/python3.9/xml/dom/minidom.py\": 1669300928.0, \"/home/jstonge/.local/lib/python3.9/site-packages/prompt_toolkit/formatted_text/html.py\": 1677455980.7111332, \"/home/jstonge/.local/lib/python3.9/site-packages/prompt_toolkit/formatted_text/pygments.py\": 1677455980.7111332, \"/home/jstonge/.local/lib/python3.9/site-packages/prompt_toolkit/formatted_text/utils.py\": 1677455980.7111332, \"/home/jstonge/.local/lib/python3.9/site-packages/prompt_toolkit/formatted_text/__init__.py\": 1677455980.7111332, \"/home/jstonge/.local/lib/python3.9/site-packages/prompt_toolkit/completion/base.py\": 1677455980.7071333, \"/home/jstonge/.local/lib/python3.9/site-packages/prompt_toolkit/completion/deduplicate.py\": 1677455980.7071333, \"/home/jstonge/.local/lib/python3.9/site-packages/prompt_toolkit/completion/filesystem.py\": 1677455980.7071333, \"/home/jstonge/.local/lib/python3.9/site-packages/prompt_toolkit/completion/word_completer.py\": 1677455980.7071333, \"/home/jstonge/.local/lib/python3.9/site-packages/prompt_toolkit/completion/fuzzy_completer.py\": 1677455980.7071333, \"/home/jstonge/.local/lib/python3.9/site-packages/prompt_toolkit/completion/nested.py\": 1677455980.7071333, \"/home/jstonge/.local/lib/python3.9/site-packages/prompt_toolkit/completion/__init__.py\": 1677455980.7071333, \"/home/jstonge/.local/lib/python3.9/site-packages/prompt_toolkit/history.py\": 1677455980.703133, \"/home/jstonge/.local/lib/python3.9/site-packages/prompt_toolkit/search.py\": 1677455980.7071333, \"/home/jstonge/.local/lib/python3.9/site-packages/prompt_toolkit/validation.py\": 1677455980.7071333, \"/home/jstonge/.local/lib/python3.9/site-packages/prompt_toolkit/buffer.py\": 1677455980.703133, \"/home/jstonge/.local/lib/python3.9/site-packages/prompt_toolkit/input/base.py\": 1677455980.7151334, \"/home/jstonge/.local/lib/python3.9/site-packages/prompt_toolkit/input/defaults.py\": 1677455980.7151334, \"/home/jstonge/.local/lib/python3.9/site-packages/prompt_toolkit/input/__init__.py\": 1677455980.7111332, \"/home/jstonge/.local/lib/python3.9/site-packages/prompt_toolkit/input/typeahead.py\": 1677455980.7151334, \"/home/jstonge/.local/lib/python3.9/site-packages/prompt_toolkit/key_binding/bindings/__init__.py\": 1677455980.7151334, \"/home/jstonge/.local/lib/python3.9/site-packages/prompt_toolkit/key_binding/bindings/scroll.py\": 1677455980.7191334, \"/home/jstonge/.local/lib/python3.9/site-packages/prompt_toolkit/key_binding/bindings/page_navigation.py\": 1677455980.7191334, \"/home/jstonge/.local/lib/python3.9/site-packages/prompt_toolkit/lexers/base.py\": 1677455980.7191334, \"/home/jstonge/.local/lib/python3.9/site-packages/prompt_toolkit/lexers/pygments.py\": 1677455980.7191334, \"/home/jstonge/.local/lib/python3.9/site-packages/prompt_toolkit/lexers/__init__.py\": 1677455980.7191334, \"/home/jstonge/.local/lib/python3.9/site-packages/prompt_toolkit/layout/utils.py\": 1677455980.7191334, \"/home/jstonge/.local/lib/python3.9/site-packages/prompt_toolkit/layout/processors.py\": 1677455980.7191334, \"/home/jstonge/.local/lib/python3.9/site-packages/prompt_toolkit/layout/controls.py\": 1677455980.7191334, \"/home/jstonge/.local/lib/python3.9/site-packages/prompt_toolkit/layout/dimension.py\": 1677455980.7191334, \"/home/jstonge/.local/lib/python3.9/site-packages/prompt_toolkit/layout/margins.py\": 1677455980.7191334, \"/home/jstonge/.local/lib/python3.9/site-packages/prompt_toolkit/layout/mouse_handlers.py\": 1677455980.7191334, \"/home/jstonge/.local/lib/python3.9/site-packages/prompt_toolkit/layout/screen.py\": 1677455980.7191334, \"/home/jstonge/.local/lib/python3.9/site-packages/prompt_toolkit/layout/containers.py\": 1677455980.7191334, \"/home/jstonge/.local/lib/python3.9/site-packages/prompt_toolkit/layout/layout.py\": 1677455980.7191334, \"/home/jstonge/.local/lib/python3.9/site-packages/prompt_toolkit/layout/menus.py\": 1677455980.7191334, \"/home/jstonge/.local/lib/python3.9/site-packages/prompt_toolkit/layout/scrollable_pane.py\": 1677455980.7191334, \"/home/jstonge/.local/lib/python3.9/site-packages/prompt_toolkit/layout/__init__.py\": 1677455980.7191334, \"/home/jstonge/.local/lib/python3.9/site-packages/prompt_toolkit/key_binding/bindings/completion.py\": 1677455980.7151334, \"/home/jstonge/.local/lib/python3.9/site-packages/prompt_toolkit/key_binding/bindings/named_commands.py\": 1677455980.7151334, \"/home/jstonge/.local/lib/python3.9/site-packages/prompt_toolkit/key_binding/bindings/basic.py\": 1677455980.7151334, \"/home/jstonge/.local/lib/python3.9/site-packages/prompt_toolkit/key_binding/bindings/cpr.py\": 1677455980.7151334, \"/home/jstonge/.local/lib/python3.9/site-packages/prompt_toolkit/key_binding/bindings/emacs.py\": 1677455980.7151334, \"/home/jstonge/.local/lib/python3.9/site-packages/prompt_toolkit/key_binding/bindings/mouse.py\": 1677455980.7151334, \"/home/jstonge/.local/lib/python3.9/site-packages/prompt_toolkit/input/ansi_escape_sequences.py\": 1677455980.7111332, \"/home/jstonge/.local/lib/python3.9/site-packages/prompt_toolkit/input/vt100_parser.py\": 1677455980.7151334, \"/home/jstonge/.local/lib/python3.9/site-packages/prompt_toolkit/key_binding/digraphs.py\": 1677455980.7151334, \"/home/jstonge/.local/lib/python3.9/site-packages/prompt_toolkit/key_binding/bindings/vi.py\": 1677455980.7191334, \"/home/jstonge/.local/lib/python3.9/site-packages/prompt_toolkit/key_binding/defaults.py\": 1677455980.7151334, \"/home/jstonge/.local/lib/python3.9/site-packages/prompt_toolkit/key_binding/emacs_state.py\": 1677455980.7151334, \"/home/jstonge/.local/lib/python3.9/site-packages/prompt_toolkit/layout/dummy.py\": 1677455980.7191334, \"/home/jstonge/.local/lib/python3.9/site-packages/prompt_toolkit/renderer.py\": 1677455980.7071333, \"/home/jstonge/.local/lib/python3.9/site-packages/prompt_toolkit/application/application.py\": 1677455980.7071333, \"/home/jstonge/.local/lib/python3.9/site-packages/prompt_toolkit/application/dummy.py\": 1677455980.7071333, \"/home/jstonge/.local/lib/python3.9/site-packages/prompt_toolkit/application/__init__.py\": 1677455980.7071333, \"/home/jstonge/.local/lib/python3.9/site-packages/prompt_toolkit/key_binding/bindings/focus.py\": 1677455980.7151334, \"/home/jstonge/.local/lib/python3.9/site-packages/prompt_toolkit/widgets/toolbars.py\": 1677455980.7271335, \"/home/jstonge/.local/lib/python3.9/site-packages/prompt_toolkit/widgets/base.py\": 1677455980.7271335, \"/home/jstonge/.local/lib/python3.9/site-packages/prompt_toolkit/widgets/dialogs.py\": 1677455980.7271335, \"/home/jstonge/.local/lib/python3.9/site-packages/prompt_toolkit/widgets/menus.py\": 1677455980.7271335, \"/home/jstonge/.local/lib/python3.9/site-packages/prompt_toolkit/widgets/__init__.py\": 1677455980.7231336, \"/home/jstonge/.local/lib/python3.9/site-packages/prompt_toolkit/shortcuts/dialogs.py\": 1677455980.7231336, \"/home/jstonge/.local/lib/python3.9/site-packages/prompt_toolkit/shortcuts/progress_bar/formatters.py\": 1677455980.7231336, \"/home/jstonge/.local/lib/python3.9/site-packages/prompt_toolkit/shortcuts/progress_bar/base.py\": 1677455980.7231336, \"/home/jstonge/.local/lib/python3.9/site-packages/prompt_toolkit/shortcuts/progress_bar/__init__.py\": 1677455980.7231336, \"/home/jstonge/.local/lib/python3.9/site-packages/prompt_toolkit/key_binding/bindings/auto_suggest.py\": 1677455980.7151334, \"/home/jstonge/.local/lib/python3.9/site-packages/prompt_toolkit/key_binding/bindings/open_in_editor.py\": 1677455980.7151334, \"/home/jstonge/.local/lib/python3.9/site-packages/prompt_toolkit/shortcuts/prompt.py\": 1677455980.7231336, \"/home/jstonge/.local/lib/python3.9/site-packages/prompt_toolkit/shortcuts/utils.py\": 1677455980.7231336, \"/home/jstonge/.local/lib/python3.9/site-packages/prompt_toolkit/shortcuts/__init__.py\": 1677455980.7231336, \"/home/jstonge/.local/lib/python3.9/site-packages/prompt_toolkit/__init__.py\": 1677455980.703133, \"/home/jstonge/.local/lib/python3.9/site-packages/prompt_toolkit/patch_stdout.py\": 1677455980.703133, \"/home/jstonge/miniconda3/envs/classify-comp-proj/lib/python3.9/lib-dynload/unicodedata.cpython-39-x86_64-linux-gnu.so\": 1669300940.0, \"/home/jstonge/miniconda3/envs/classify-comp-proj/lib/python3.9/dataclasses.py\": 1669300926.0, \"/home/jstonge/.local/lib/python3.9/site-packages/IPython/core/guarded_eval.py\": 1677455982.7951698, \"/home/jstonge/.local/lib/python3.9/site-packages/IPython/core/latex_symbols.py\": 1677455982.79917, \"/home/jstonge/.local/lib/python3.9/site-packages/IPython/utils/generics.py\": 1677455982.8271704, \"/home/jstonge/.local/lib/python3.9/site-packages/parso/utils.py\": 1677455980.975138, \"/home/jstonge/.local/lib/python3.9/site-packages/parso/tree.py\": 1677455980.975138, \"/home/jstonge/.local/lib/python3.9/site-packages/parso/python/__init__.py\": 1677455980.975138, \"/home/jstonge/.local/lib/python3.9/site-packages/parso/python/token.py\": 1677455980.979138, \"/home/jstonge/.local/lib/python3.9/site-packages/parso/python/tokenize.py\": 1677455980.979138, \"/home/jstonge/.local/lib/python3.9/site-packages/parso/pgen2/grammar_parser.py\": 1677455980.975138, \"/home/jstonge/.local/lib/python3.9/site-packages/parso/pgen2/generator.py\": 1677455980.975138, \"/home/jstonge/.local/lib/python3.9/site-packages/parso/pgen2/__init__.py\": 1677455980.975138, \"/home/jstonge/.local/lib/python3.9/site-packages/parso/parser.py\": 1677455980.975138, \"/home/jstonge/.local/lib/python3.9/site-packages/parso/_compatibility.py\": 1677455980.975138, \"/home/jstonge/miniconda3/envs/classify-comp-proj/lib/python3.9/difflib.py\": 1669300926.0, \"/home/jstonge/.local/lib/python3.9/site-packages/parso/python/prefix.py\": 1677455980.979138, \"/home/jstonge/.local/lib/python3.9/site-packages/parso/python/tree.py\": 1677455980.979138, \"/home/jstonge/.local/lib/python3.9/site-packages/parso/python/parser.py\": 1677455980.979138, \"/home/jstonge/.local/lib/python3.9/site-packages/parso/python/diff.py\": 1677455980.979138, \"/home/jstonge/.local/lib/python3.9/site-packages/parso/cache.py\": 1677455980.975138, \"/home/jstonge/.local/lib/python3.9/site-packages/parso/normalizer.py\": 1677455980.975138, \"/home/jstonge/.local/lib/python3.9/site-packages/parso/python/errors.py\": 1677455980.979138, \"/home/jstonge/.local/lib/python3.9/site-packages/parso/python/pep8.py\": 1677455980.979138, \"/home/jstonge/.local/lib/python3.9/site-packages/parso/file_io.py\": 1677455980.975138, \"/home/jstonge/.local/lib/python3.9/site-packages/parso/grammar.py\": 1677455980.975138, \"/home/jstonge/.local/lib/python3.9/site-packages/parso/__init__.py\": 1677455980.975138, \"/home/jstonge/.local/lib/python3.9/site-packages/jedi/parser_utils.py\": 1677455982.059157, \"/home/jstonge/.local/lib/python3.9/site-packages/jedi/debug.py\": 1677455982.055157, \"/home/jstonge/.local/lib/python3.9/site-packages/jedi/settings.py\": 1677455982.059157, \"/home/jstonge/.local/lib/python3.9/site-packages/jedi/cache.py\": 1677455982.055157, \"/home/jstonge/.local/lib/python3.9/site-packages/jedi/file_io.py\": 1677455982.059157, \"/home/jstonge/.local/lib/python3.9/site-packages/jedi/inference/cache.py\": 1677455982.063157, \"/home/jstonge/.local/lib/python3.9/site-packages/jedi/inference/helpers.py\": 1677455982.063157, \"/home/jstonge/.local/lib/python3.9/site-packages/jedi/inference/utils.py\": 1677455982.063157, \"/home/jstonge/.local/lib/python3.9/site-packages/jedi/inference/base_value.py\": 1677455982.059157, \"/home/jstonge/.local/lib/python3.9/site-packages/jedi/inference/sys_path.py\": 1677455982.063157, \"/home/jstonge/.local/lib/python3.9/site-packages/jedi/inference/recursion.py\": 1677455982.063157, \"/home/jstonge/.local/lib/python3.9/site-packages/jedi/inference/flow_analysis.py\": 1677455982.063157, \"/home/jstonge/.local/lib/python3.9/site-packages/jedi/common.py\": 1677455982.055157, \"/home/jstonge/.local/lib/python3.9/site-packages/jedi/inference/lazy_value.py\": 1677455982.063157, \"/home/jstonge/.local/lib/python3.9/site-packages/jedi/inference/docstrings.py\": 1677455982.063157, \"/home/jstonge/.local/lib/python3.9/site-packages/jedi/plugins/__init__.py\": 1677455982.067157, \"/home/jstonge/.local/lib/python3.9/site-packages/jedi/inference/names.py\": 1677455982.063157, \"/home/jstonge/.local/lib/python3.9/site-packages/jedi/inference/filters.py\": 1677455982.063157, \"/home/jstonge/.local/lib/python3.9/site-packages/jedi/inference/compiled/getattr_static.py\": 1677455982.063157, \"/home/jstonge/.local/lib/python3.9/site-packages/jedi/inference/compiled/access.py\": 1677455982.063157, \"/home/jstonge/.local/lib/python3.9/site-packages/jedi/inference/signature.py\": 1677455982.063157, \"/home/jstonge/.local/lib/python3.9/site-packages/jedi/inference/context.py\": 1677455982.063157, \"/home/jstonge/.local/lib/python3.9/site-packages/jedi/inference/compiled/value.py\": 1677455982.067157, \"/home/jstonge/.local/lib/python3.9/site-packages/jedi/inference/compiled/__init__.py\": 1677455982.063157, \"/home/jstonge/.local/lib/python3.9/site-packages/jedi/inference/analysis.py\": 1677455982.059157, \"/home/jstonge/.local/lib/python3.9/site-packages/jedi/inference/gradual/__init__.py\": 1677455982.067157, \"/home/jstonge/.local/lib/python3.9/site-packages/jedi/inference/value/module.py\": 1677455982.067157, \"/home/jstonge/.local/lib/python3.9/site-packages/jedi/inference/value/dynamic_arrays.py\": 1677455982.067157, \"/home/jstonge/.local/lib/python3.9/site-packages/jedi/inference/value/iterable.py\": 1677455982.067157, \"/home/jstonge/.local/lib/python3.9/site-packages/jedi/inference/arguments.py\": 1677455982.059157, \"/home/jstonge/.local/lib/python3.9/site-packages/jedi/inference/parser_cache.py\": 1677455982.063157, \"/home/jstonge/.local/lib/python3.9/site-packages/jedi/inference/gradual/generics.py\": 1677455982.067157, \"/home/jstonge/.local/lib/python3.9/site-packages/jedi/inference/value/function.py\": 1677455982.067157, \"/home/jstonge/.local/lib/python3.9/site-packages/jedi/inference/value/klass.py\": 1677455982.067157, \"/home/jstonge/.local/lib/python3.9/site-packages/jedi/inference/value/instance.py\": 1677455982.067157, \"/home/jstonge/.local/lib/python3.9/site-packages/jedi/inference/value/__init__.py\": 1677455982.067157, \"/home/jstonge/.local/lib/python3.9/site-packages/jedi/inference/gradual/base.py\": 1677455982.067157, \"/home/jstonge/.local/lib/python3.9/site-packages/jedi/inference/gradual/type_var.py\": 1677455982.067157, \"/home/jstonge/.local/lib/python3.9/site-packages/jedi/inference/gradual/typing.py\": 1677455982.067157, \"/home/jstonge/.local/lib/python3.9/site-packages/jedi/inference/gradual/stub_value.py\": 1677455982.067157, \"/home/jstonge/.local/lib/python3.9/site-packages/jedi/inference/gradual/typeshed.py\": 1677455982.067157, \"/home/jstonge/.local/lib/python3.9/site-packages/jedi/_compatibility.py\": 1677455982.055157, \"/home/jstonge/.local/lib/python3.9/site-packages/jedi/inference/compiled/subprocess/functions.py\": 1677455982.067157, \"/home/jstonge/.local/lib/python3.9/site-packages/jedi/api/exceptions.py\": 1677455982.059157, \"/home/jstonge/.local/lib/python3.9/site-packages/jedi/inference/compiled/subprocess/__init__.py\": 1677455982.067157, \"/home/jstonge/.local/lib/python3.9/site-packages/jedi/inference/imports.py\": 1677455982.063157, \"/home/jstonge/.local/lib/python3.9/site-packages/jedi/inference/param.py\": 1677455982.063157, \"/home/jstonge/.local/lib/python3.9/site-packages/jedi/inference/gradual/annotation.py\": 1677455982.067157, \"/home/jstonge/.local/lib/python3.9/site-packages/jedi/inference/value/decorator.py\": 1677455982.067157, \"/home/jstonge/.local/lib/python3.9/site-packages/jedi/inference/syntax_tree.py\": 1677455982.063157, \"/home/jstonge/.local/lib/python3.9/site-packages/jedi/inference/__init__.py\": 1677455982.059157, \"/home/jstonge/.local/lib/python3.9/site-packages/jedi/inference/gradual/conversion.py\": 1677455982.067157, \"/home/jstonge/.local/lib/python3.9/site-packages/jedi/inference/compiled/mixed.py\": 1677455982.063157, \"/home/jstonge/miniconda3/envs/classify-comp-proj/lib/python3.9/pydoc_data/__init__.py\": 1669300928.0, \"/home/jstonge/miniconda3/envs/classify-comp-proj/lib/python3.9/pydoc_data/topics.py\": 1669300928.0, \"/home/jstonge/.local/lib/python3.9/site-packages/jedi/api/keywords.py\": 1677455982.059157, \"/home/jstonge/.local/lib/python3.9/site-packages/jedi/api/completion_cache.py\": 1677455982.059157, \"/home/jstonge/.local/lib/python3.9/site-packages/jedi/api/helpers.py\": 1677455982.059157, \"/home/jstonge/.local/lib/python3.9/site-packages/jedi/api/classes.py\": 1677455982.059157, \"/home/jstonge/.local/lib/python3.9/site-packages/jedi/api/interpreter.py\": 1677455982.059157, \"/home/jstonge/.local/lib/python3.9/site-packages/jedi/api/strings.py\": 1677455982.059157, \"/home/jstonge/.local/lib/python3.9/site-packages/jedi/api/file_name.py\": 1677455982.059157, \"/home/jstonge/.local/lib/python3.9/site-packages/jedi/inference/docstring_utils.py\": 1677455982.063157, \"/home/jstonge/.local/lib/python3.9/site-packages/jedi/api/completion.py\": 1677455982.059157, \"/home/jstonge/miniconda3/envs/classify-comp-proj/lib/python3.9/filecmp.py\": 1669300926.0, \"/home/jstonge/.local/lib/python3.9/site-packages/jedi/api/environment.py\": 1677455982.059157, \"/home/jstonge/.local/lib/python3.9/site-packages/jedi/inference/references.py\": 1677455982.063157, \"/home/jstonge/.local/lib/python3.9/site-packages/jedi/api/project.py\": 1677455982.059157, \"/home/jstonge/.local/lib/python3.9/site-packages/jedi/api/errors.py\": 1677455982.059157, \"/home/jstonge/.local/lib/python3.9/site-packages/jedi/api/refactoring/__init__.py\": 1677455982.059157, \"/home/jstonge/.local/lib/python3.9/site-packages/jedi/api/refactoring/extract.py\": 1677455982.059157, \"/home/jstonge/.local/lib/python3.9/site-packages/jedi/inference/gradual/utils.py\": 1677455982.067157, \"/home/jstonge/.local/lib/python3.9/site-packages/jedi/api/__init__.py\": 1677455982.059157, \"/home/jstonge/.local/lib/python3.9/site-packages/jedi/plugins/stdlib.py\": 1677455982.0711572, \"/home/jstonge/.local/lib/python3.9/site-packages/jedi/plugins/flask.py\": 1677455982.067157, \"/home/jstonge/.local/lib/python3.9/site-packages/jedi/plugins/pytest.py\": 1677455982.0711572, \"/home/jstonge/.local/lib/python3.9/site-packages/jedi/plugins/django.py\": 1677455982.067157, \"/home/jstonge/.local/lib/python3.9/site-packages/jedi/plugins/registry.py\": 1677455982.0711572, \"/home/jstonge/.local/lib/python3.9/site-packages/jedi/__init__.py\": 1677455982.055157, \"/home/jstonge/.local/lib/python3.9/site-packages/IPython/core/completer.py\": 1677455982.7951698, \"/home/jstonge/.local/lib/python3.9/site-packages/IPython/terminal/ptutils.py\": 1677455982.8191702, \"/home/jstonge/.local/lib/python3.9/site-packages/IPython/terminal/shortcuts/auto_match.py\": 1677455982.8231704, \"/home/jstonge/.local/lib/python3.9/site-packages/IPython/utils/tokenutil.py\": 1677455982.8311706, \"/home/jstonge/.local/lib/python3.9/site-packages/IPython/terminal/shortcuts/auto_suggest.py\": 1677455982.8231704, \"/home/jstonge/.local/lib/python3.9/site-packages/IPython/terminal/shortcuts/__init__.py\": 1677455982.8231704, \"/home/jstonge/miniconda3/envs/classify-comp-proj/lib/python3.9/concurrent/futures/thread.py\": 1669300927.0, \"/home/jstonge/.local/lib/python3.9/site-packages/IPython/terminal/debugger.py\": 1677455982.8191702, \"/home/jstonge/.local/lib/python3.9/site-packages/IPython/lib/clipboard.py\": 1677455982.8151703, \"/home/jstonge/.local/lib/python3.9/site-packages/IPython/terminal/magics.py\": 1677455982.8191702, \"/home/jstonge/.local/lib/python3.9/site-packages/IPython/terminal/pt_inputhooks/__init__.py\": 1677455982.8191702, \"/home/jstonge/.local/lib/python3.9/site-packages/IPython/terminal/prompts.py\": 1677455982.8191702, \"/home/jstonge/.local/lib/python3.9/site-packages/IPython/terminal/interactiveshell.py\": 1677455982.8191702, \"/home/jstonge/.local/lib/python3.9/site-packages/IPython/core/magics/auto.py\": 1677455982.80317, \"/home/jstonge/.local/lib/python3.9/site-packages/IPython/core/magics/basic.py\": 1677455982.80317, \"/home/jstonge/miniconda3/envs/classify-comp-proj/lib/python3.9/http/__init__.py\": 1669300928.0, \"/home/jstonge/miniconda3/envs/classify-comp-proj/lib/python3.9/email/feedparser.py\": 1669300927.0, \"/home/jstonge/miniconda3/envs/classify-comp-proj/lib/python3.9/email/parser.py\": 1669300927.0, \"/home/jstonge/miniconda3/envs/classify-comp-proj/lib/python3.9/http/client.py\": 1669300928.0, \"/home/jstonge/miniconda3/envs/classify-comp-proj/lib/python3.9/urllib/response.py\": 1669300928.0, \"/home/jstonge/miniconda3/envs/classify-comp-proj/lib/python3.9/urllib/error.py\": 1669300928.0, \"/home/jstonge/miniconda3/envs/classify-comp-proj/lib/python3.9/urllib/request.py\": 1669300928.0, \"/home/jstonge/.local/lib/python3.9/site-packages/IPython/utils/contexts.py\": 1677455982.8271704, \"/home/jstonge/.local/lib/python3.9/site-packages/IPython/core/magics/code.py\": 1677455982.80317, \"/home/jstonge/.local/lib/python3.9/site-packages/IPython/core/magics/config.py\": 1677455982.80317, \"/home/jstonge/.local/lib/python3.9/site-packages/IPython/core/magics/display.py\": 1677455982.80317, \"/home/jstonge/miniconda3/envs/classify-comp-proj/lib/python3.9/lib-dynload/_lsprof.cpython-39-x86_64-linux-gnu.so\": 1669300940.0, \"/home/jstonge/miniconda3/envs/classify-comp-proj/lib/python3.9/profile.py\": 1669300926.0, \"/home/jstonge/miniconda3/envs/classify-comp-proj/lib/python3.9/cProfile.py\": 1669300926.0, \"/home/jstonge/miniconda3/envs/classify-comp-proj/lib/python3.9/pstats.py\": 1669300926.0, \"/home/jstonge/miniconda3/envs/classify-comp-proj/lib/python3.9/timeit.py\": 1669300926.0, \"/home/jstonge/.local/lib/python3.9/site-packages/IPython/utils/module_paths.py\": 1677455982.8311706, \"/home/jstonge/.local/lib/python3.9/site-packages/IPython/utils/timing.py\": 1677455982.8311706, \"/home/jstonge/.local/lib/python3.9/site-packages/IPython/core/magics/execution.py\": 1677455982.80317, \"/home/jstonge/.local/lib/python3.9/site-packages/IPython/core/magics/extension.py\": 1677455982.80317, \"/home/jstonge/.local/lib/python3.9/site-packages/IPython/core/magics/history.py\": 1677455982.80317, \"/home/jstonge/.local/lib/python3.9/site-packages/IPython/core/magics/logging.py\": 1677455982.80317, \"/home/jstonge/.local/lib/python3.9/site-packages/IPython/core/magics/namespace.py\": 1677455982.80317, \"/home/jstonge/.local/lib/python3.9/site-packages/IPython/core/magics/osm.py\": 1677455982.80317, \"/home/jstonge/.local/lib/python3.9/site-packages/IPython/core/magics/packaging.py\": 1677455982.80317, \"/home/jstonge/.local/lib/python3.9/site-packages/IPython/core/pylabtools.py\": 1677455982.80317, \"/home/jstonge/.local/lib/python3.9/site-packages/IPython/core/magics/pylab.py\": 1677455982.80317, \"/home/jstonge/.local/lib/python3.9/site-packages/IPython/core/magics/script.py\": 1677455982.8071702, \"/home/jstonge/.local/lib/python3.9/site-packages/IPython/core/magics/__init__.py\": 1677455982.80317, \"/home/jstonge/.local/lib/python3.9/site-packages/IPython/core/shellapp.py\": 1677455982.80317, \"/home/jstonge/.local/lib/python3.9/site-packages/IPython/extensions/__init__.py\": 1677455982.81117, \"/home/jstonge/.local/lib/python3.9/site-packages/IPython/extensions/storemagic.py\": 1677455982.8151703, \"/home/jstonge/.local/lib/python3.9/site-packages/IPython/terminal/ipapp.py\": 1677455982.8191702, \"/home/jstonge/.local/lib/python3.9/site-packages/IPython/terminal/embed.py\": 1677455982.8191702, \"/home/jstonge/.local/lib/python3.9/site-packages/IPython/utils/frame.py\": 1677455982.8271704, \"/home/jstonge/.local/lib/python3.9/site-packages/IPython/__init__.py\": 1677455982.79117, \"/home/jstonge/.local/lib/python3.9/site-packages/ipykernel/control.py\": 1677455983.1511762, \"/home/jstonge/.local/lib/python3.9/site-packages/ipykernel/heartbeat.py\": 1677455983.1511762, \"/home/jstonge/.local/lib/python3.9/site-packages/ipykernel/iostream.py\": 1677455983.1511762, \"/home/jstonge/.local/lib/python3.9/site-packages/comm/base_comm.py\": 1677455982.5471654, \"/home/jstonge/.local/lib/python3.9/site-packages/comm/__init__.py\": 1677455982.5471654, \"/home/jstonge/.local/lib/python3.9/site-packages/ipykernel/jsonutil.py\": 1677455983.1511762, \"/home/jstonge/.local/lib/python3.9/site-packages/psutil/_common.py\": 1677455980.5471303, \"/home/jstonge/.local/lib/python3.9/site-packages/psutil/_compat.py\": 1677455980.5471303, \"/home/jstonge/.local/lib/python3.9/site-packages/psutil/_psposix.py\": 1677455980.5471303, \"/home/jstonge/.local/lib/python3.9/site-packages/psutil/_psutil_linux.abi3.so\": 1677455980.5471303, \"/home/jstonge/.local/lib/python3.9/site-packages/psutil/_psutil_posix.abi3.so\": 1677455980.5511305, \"/home/jstonge/.local/lib/python3.9/site-packages/psutil/_pslinux.py\": 1677455980.5511305, \"/home/jstonge/.local/lib/python3.9/site-packages/psutil/__init__.py\": 1677455980.5511305, \"/home/jstonge/.local/lib/python3.9/site-packages/tornado/gen.py\": 1677455979.6351144, \"/home/jstonge/.local/lib/python3.9/site-packages/tornado/locks.py\": 1677455979.6391144, \"/home/jstonge/.local/lib/python3.9/site-packages/tornado/queues.py\": 1677455979.6391144, \"/home/jstonge/.local/lib/python3.9/site-packages/ipykernel/kernelbase.py\": 1677455983.1511762, \"/home/jstonge/.local/lib/python3.9/site-packages/ipykernel/comm/comm.py\": 1677455983.1551762, \"/home/jstonge/.local/lib/python3.9/site-packages/ipykernel/comm/manager.py\": 1677455983.1551762, \"/home/jstonge/.local/lib/python3.9/site-packages/ipykernel/comm/__init__.py\": 1677455983.1551762, \"/home/jstonge/.local/lib/python3.9/site-packages/ipykernel/compiler.py\": 1677455983.1511762, \"/home/jstonge/.local/lib/python3.9/site-packages/debugpy/_version.py\": 1677455981.211142, \"/home/jstonge/.local/lib/python3.9/site-packages/debugpy/public_api.py\": 1677455981.211142, \"/home/jstonge/.local/lib/python3.9/site-packages/debugpy/__init__.py\": 1677455981.211142, \"/home/jstonge/.local/lib/python3.9/site-packages/debugpy/_vendored/_util.py\": 1677455981.2191422, \"/home/jstonge/.local/lib/python3.9/site-packages/debugpy/_vendored/__init__.py\": 1677455981.2191422, \"/home/jstonge/.local/lib/python3.9/site-packages/debugpy/_vendored/pydevd/_pydevd_bundle/__init__.py\": 1677455981.2511427, \"/home/jstonge/miniconda3/envs/classify-comp-proj/lib/python3.9/encodings/ascii.py\": 1669300927.0, \"/home/jstonge/miniconda3/envs/classify-comp-proj/lib/python3.9/stringprep.py\": 1669300926.0, \"/home/jstonge/miniconda3/envs/classify-comp-proj/lib/python3.9/encodings/idna.py\": 1669300927.0, \"/home/jstonge/.local/lib/python3.9/site-packages/debugpy/_vendored/pydevd/_pydevd_bundle/pydevd_vm_type.py\": 1677455981.255143, \"/home/jstonge/.local/lib/python3.9/site-packages/debugpy/_vendored/pydevd/_pydev_bundle/__init__.py\": 1677455981.2231421, \"/home/jstonge/miniconda3/envs/classify-comp-proj/lib/python3.9/xmlrpc/__init__.py\": 1669300928.0, \"/home/jstonge/miniconda3/envs/classify-comp-proj/lib/python3.9/xml/parsers/__init__.py\": 1669300928.0, \"/home/jstonge/miniconda3/envs/classify-comp-proj/lib/python3.9/lib-dynload/pyexpat.cpython-39-x86_64-linux-gnu.so\": 1669300941.0, \"/home/jstonge/miniconda3/envs/classify-comp-proj/lib/python3.9/xml/parsers/expat.py\": 1669300928.0, \"/home/jstonge/miniconda3/envs/classify-comp-proj/lib/python3.9/gzip.py\": 1669300926.0, \"/home/jstonge/miniconda3/envs/classify-comp-proj/lib/python3.9/xmlrpc/client.py\": 1669300928.0, \"/home/jstonge/miniconda3/envs/classify-comp-proj/lib/python3.9/http/server.py\": 1669300928.0, \"/home/jstonge/miniconda3/envs/classify-comp-proj/lib/python3.9/xmlrpc/server.py\": 1669300928.0, \"/home/jstonge/.local/lib/python3.9/site-packages/debugpy/_vendored/pydevd/_pydev_bundle/_pydev_saved_modules.py\": 1677455981.2231421, \"/home/jstonge/.local/lib/python3.9/site-packages/debugpy/_vendored/pydevd/_pydevd_bundle/pydevd_constants.py\": 1677455981.255143, \"/home/jstonge/.local/lib/python3.9/site-packages/debugpy/_vendored/pydevd/_pydev_runfiles/__init__.py\": 1677455981.2191422, \"/home/jstonge/.local/lib/python3.9/site-packages/debugpy/_vendored/pydevd/_pydevd_frame_eval/__init__.py\": 1677455981.2831433, \"/home/jstonge/.local/lib/python3.9/site-packages/debugpy/_vendored/pydevd/pydev_ipython/__init__.py\": 1677455981.263143, \"/home/jstonge/miniconda3/envs/classify-comp-proj/lib/python3.9/plistlib.py\": 1669300926.0, \"/home/jstonge/miniconda3/envs/classify-comp-proj/lib/python3.9/site-packages/pkg_resources/extern/__init__.py\": 1665750882.0, \"/home/jstonge/miniconda3/envs/classify-comp-proj/lib/python3.9/site-packages/pkg_resources/_vendor/__init__.py\": 1665750882.0, \"/home/jstonge/miniconda3/envs/classify-comp-proj/lib/python3.9/site-packages/pkg_resources/_vendor/jaraco/__init__.py\": 1665750882.0, \"/home/jstonge/miniconda3/envs/classify-comp-proj/lib/python3.9/importlib/_common.py\": 1669300927.0, \"/home/jstonge/miniconda3/envs/classify-comp-proj/lib/python3.9/importlib/resources.py\": 1669300927.0, \"/home/jstonge/miniconda3/envs/classify-comp-proj/lib/python3.9/site-packages/pkg_resources/_vendor/more_itertools/recipes.py\": 1665750882.0, \"/home/jstonge/miniconda3/envs/classify-comp-proj/lib/python3.9/site-packages/pkg_resources/_vendor/more_itertools/more.py\": 1665750882.0, \"/home/jstonge/miniconda3/envs/classify-comp-proj/lib/python3.9/site-packages/pkg_resources/_vendor/more_itertools/__init__.py\": 1665750882.0, \"/home/jstonge/miniconda3/envs/classify-comp-proj/lib/python3.9/site-packages/pkg_resources/_vendor/jaraco/functools.py\": 1665750882.0, \"/home/jstonge/miniconda3/envs/classify-comp-proj/lib/python3.9/site-packages/pkg_resources/_vendor/jaraco/context.py\": 1665750882.0, \"/home/jstonge/miniconda3/envs/classify-comp-proj/lib/python3.9/site-packages/pkg_resources/_vendor/jaraco/text/__init__.py\": 1665750882.0, \"/home/jstonge/miniconda3/envs/classify-comp-proj/lib/python3.9/site-packages/pkg_resources/_vendor/appdirs.py\": 1665750882.0, \"/home/jstonge/miniconda3/envs/classify-comp-proj/lib/python3.9/site-packages/pkg_resources/_vendor/packaging/__about__.py\": 1665750882.0, \"/home/jstonge/miniconda3/envs/classify-comp-proj/lib/python3.9/site-packages/pkg_resources/_vendor/packaging/__init__.py\": 1665750882.0, \"/home/jstonge/miniconda3/envs/classify-comp-proj/lib/python3.9/site-packages/pkg_resources/_vendor/packaging/_structures.py\": 1665750882.0, \"/home/jstonge/miniconda3/envs/classify-comp-proj/lib/python3.9/site-packages/pkg_resources/_vendor/packaging/version.py\": 1665750882.0, \"/home/jstonge/miniconda3/envs/classify-comp-proj/lib/python3.9/site-packages/pkg_resources/_vendor/packaging/_manylinux.py\": 1665750882.0, \"/home/jstonge/miniconda3/envs/classify-comp-proj/lib/python3.9/site-packages/pkg_resources/_vendor/packaging/_musllinux.py\": 1665750882.0, \"/home/jstonge/miniconda3/envs/classify-comp-proj/lib/python3.9/site-packages/pkg_resources/_vendor/packaging/tags.py\": 1665750882.0, \"/home/jstonge/miniconda3/envs/classify-comp-proj/lib/python3.9/site-packages/pkg_resources/_vendor/packaging/utils.py\": 1665750882.0, \"/home/jstonge/miniconda3/envs/classify-comp-proj/lib/python3.9/site-packages/pkg_resources/_vendor/packaging/specifiers.py\": 1665750882.0, \"/home/jstonge/miniconda3/envs/classify-comp-proj/lib/python3.9/site-packages/pkg_resources/_vendor/pyparsing/util.py\": 1665750882.0, \"/home/jstonge/miniconda3/envs/classify-comp-proj/lib/python3.9/site-packages/pkg_resources/_vendor/pyparsing/unicode.py\": 1665750882.0, \"/home/jstonge/miniconda3/envs/classify-comp-proj/lib/python3.9/site-packages/pkg_resources/_vendor/pyparsing/exceptions.py\": 1665750882.0, \"/home/jstonge/miniconda3/envs/classify-comp-proj/lib/python3.9/site-packages/pkg_resources/_vendor/pyparsing/actions.py\": 1665750882.0, \"/home/jstonge/miniconda3/envs/classify-comp-proj/lib/python3.9/site-packages/pkg_resources/_vendor/pyparsing/results.py\": 1665750882.0, \"/home/jstonge/miniconda3/envs/classify-comp-proj/lib/python3.9/site-packages/pkg_resources/_vendor/pyparsing/core.py\": 1665750882.0, \"/home/jstonge/miniconda3/envs/classify-comp-proj/lib/python3.9/site-packages/pkg_resources/_vendor/pyparsing/helpers.py\": 1665750882.0, \"/home/jstonge/miniconda3/envs/classify-comp-proj/lib/python3.9/site-packages/pkg_resources/_vendor/pyparsing/testing.py\": 1665750882.0, \"/home/jstonge/miniconda3/envs/classify-comp-proj/lib/python3.9/site-packages/pkg_resources/_vendor/pyparsing/common.py\": 1665750882.0, \"/home/jstonge/miniconda3/envs/classify-comp-proj/lib/python3.9/site-packages/pkg_resources/_vendor/pyparsing/__init__.py\": 1665750882.0, \"/home/jstonge/miniconda3/envs/classify-comp-proj/lib/python3.9/site-packages/pkg_resources/_vendor/packaging/markers.py\": 1665750882.0, \"/home/jstonge/miniconda3/envs/classify-comp-proj/lib/python3.9/site-packages/pkg_resources/_vendor/packaging/requirements.py\": 1665750882.0, \"/home/jstonge/miniconda3/envs/classify-comp-proj/lib/python3.9/site-packages/pkg_resources/__init__.py\": 1665750882.0, \"/home/jstonge/.local/lib/python3.9/site-packages/debugpy/_vendored/pydevd/pydevd_plugins/__init__.py\": 1677455981.263143, \"/home/jstonge/.local/lib/python3.9/site-packages/debugpy/_vendored/pydevd/_pydev_bundle/pydev_log.py\": 1677455981.2231421, \"/home/jstonge/.local/lib/python3.9/site-packages/debugpy/_vendored/pydevd/_pydev_bundle/_pydev_filesystem_encoding.py\": 1677455981.2231421, \"/home/jstonge/.local/lib/python3.9/site-packages/debugpy/_vendored/pydevd/_pydevd_bundle/pydevd_comm_constants.py\": 1677455981.2511427, \"/home/jstonge/.local/lib/python3.9/site-packages/debugpy/_vendored/pydevd/pydevd_file_utils.py\": 1677455981.2191422, \"/home/jstonge/.local/lib/python3.9/site-packages/debugpy/_vendored/pydevd/_pydev_bundle/_pydev_execfile.py\": 1677455981.2231421, \"/home/jstonge/.local/lib/python3.9/site-packages/debugpy/_vendored/pydevd/_pydevd_bundle/pydevd_exec2.py\": 1677455981.2511427, \"/home/jstonge/.local/lib/python3.9/site-packages/debugpy/_vendored/pydevd/_pydev_bundle/pydev_imports.py\": 1677455981.2231421, \"/home/jstonge/.local/lib/python3.9/site-packages/debugpy/_vendored/pydevd/_pydev_bundle/pydev_is_thread_alive.py\": 1677455981.2231421, \"/home/jstonge/.local/lib/python3.9/site-packages/debugpy/_vendored/pydevd/_pydev_bundle/pydev_override.py\": 1677455981.2231421, \"/home/jstonge/.local/lib/python3.9/site-packages/debugpy/_vendored/pydevd/pydevd_plugins/extensions/__init__.py\": 1677455981.263143, \"/home/jstonge/.local/lib/python3.9/site-packages/debugpy/_vendored/pydevd/_pydevd_bundle/pydevd_extension_utils.py\": 1677455981.255143, \"/home/jstonge/.local/lib/python3.9/site-packages/debugpy/_vendored/pydevd/_pydevd_bundle/pydevd_frame_utils.py\": 1677455981.255143, \"/home/jstonge/.local/lib/python3.9/site-packages/debugpy/_vendored/pydevd/_pydevd_bundle/pydevd_filtering.py\": 1677455981.255143, \"/home/jstonge/.local/lib/python3.9/site-packages/debugpy/_vendored/pydevd/_pydevd_bundle/pydevd_io.py\": 1677455981.2471428, \"/home/jstonge/.local/lib/python3.9/site-packages/debugpy/_vendored/pydevd/_pydevd_bundle/pydevd_defaults.py\": 1677455981.2511427, \"/home/jstonge/.local/lib/python3.9/site-packages/debugpy/_vendored/pydevd/_pydevd_bundle/pydevd_utils.py\": 1677455981.2511427, \"/home/jstonge/.local/lib/python3.9/site-packages/debugpy/_vendored/pydevd/_pydevd_bundle/pydevd_runpy.py\": 1677455981.255143, \"/home/jstonge/.local/lib/python3.9/site-packages/debugpy/_vendored/pydevd/_pydev_bundle/_pydev_tipper_common.py\": 1677455981.2231421, \"/home/jstonge/.local/lib/python3.9/site-packages/debugpy/_vendored/pydevd/_pydev_bundle/_pydev_imports_tipper.py\": 1677455981.2231421, \"/home/jstonge/.local/lib/python3.9/site-packages/debugpy/_vendored/pydevd/_pydev_bundle/_pydev_calltip_util.py\": 1677455981.2231421, \"/home/jstonge/.local/lib/python3.9/site-packages/debugpy/_vendored/pydevd/_pydevd_bundle/pydevd_safe_repr.py\": 1677455981.2511427, \"/home/jstonge/.local/lib/python3.9/site-packages/debugpy/_vendored/pydevd/_pydevd_bundle/pydevd_resolver.py\": 1677455981.255143, \"/home/jstonge/.local/lib/python3.9/site-packages/debugpy/_vendored/pydevd/_pydevd_bundle/pydevd_extension_api.py\": 1677455981.2591429, \"/home/jstonge/.local/lib/python3.9/site-packages/debugpy/_vendored/pydevd/_pydevd_bundle/pydevd_xml.py\": 1677455981.2311423, \"/home/jstonge/.local/lib/python3.9/site-packages/debugpy/_vendored/pydevd/_pydevd_bundle/pydevd_dont_trace.py\": 1677455981.2511427, \"/home/jstonge/.local/lib/python3.9/site-packages/debugpy/_vendored/pydevd/_pydevd_frame_eval/vendored/__init__.py\": 1677455981.2911434, \"/home/jstonge/.local/lib/python3.9/site-packages/debugpy/_vendored/pydevd/_pydevd_frame_eval/vendored/bytecode/flags.py\": 1677455981.2911434, \"/home/jstonge/.local/lib/python3.9/site-packages/debugpy/_vendored/pydevd/_pydevd_frame_eval/vendored/bytecode/instr.py\": 1677455981.2911434, \"/home/jstonge/.local/lib/python3.9/site-packages/debugpy/_vendored/pydevd/_pydevd_frame_eval/vendored/bytecode/bytecode.py\": 1677455981.2911434, \"/home/jstonge/.local/lib/python3.9/site-packages/debugpy/_vendored/pydevd/_pydevd_frame_eval/vendored/bytecode/concrete.py\": 1677455981.2911434, \"/home/jstonge/.local/lib/python3.9/site-packages/debugpy/_vendored/pydevd/_pydevd_frame_eval/vendored/bytecode/cfg.py\": 1677455981.2911434, \"/home/jstonge/.local/lib/python3.9/site-packages/debugpy/_vendored/pydevd/_pydevd_frame_eval/vendored/bytecode/__init__.py\": 1677455981.2911434, \"/home/jstonge/.local/lib/python3.9/site-packages/debugpy/_vendored/pydevd/_pydevd_bundle/pydevd_bytecode_utils.py\": 1677455981.255143, \"/home/jstonge/.local/lib/python3.9/site-packages/debugpy/_vendored/pydevd/_pydevd_bundle/pydevd_cython.cpython-39-x86_64-linux-gnu.so\": 1677455981.2471428, \"/home/jstonge/.local/lib/python3.9/site-packages/debugpy/_vendored/pydevd/_pydevd_bundle/pydevd_cython_wrapper.py\": 1677455981.255143, \"/home/jstonge/.local/lib/python3.9/site-packages/debugpy/_vendored/pydevd/_pydevd_bundle/pydevd_additional_thread_info.py\": 1677455981.2591429, \"/home/jstonge/.local/lib/python3.9/site-packages/debugpy/_vendored/pydevd/_pydevd_bundle/pydevd_thread_lifecycle.py\": 1677455981.255143, \"/home/jstonge/.local/lib/python3.9/site-packages/debugpy/_vendored/pydevd/_pydevd_bundle/pydevd_save_locals.py\": 1677455981.255143, \"/home/jstonge/.local/lib/python3.9/site-packages/debugpy/_vendored/pydevd/_pydev_bundle/pydev_monkey.py\": 1677455981.2231421, \"/home/jstonge/.local/lib/python3.9/site-packages/debugpy/_vendored/pydevd/pydevd_tracing.py\": 1677455981.2191422, \"/home/jstonge/.local/lib/python3.9/site-packages/debugpy/_vendored/pydevd/_pydevd_bundle/pydevd_collect_bytecode_info.py\": 1677455981.255143, \"/home/jstonge/.local/lib/python3.9/site-packages/debugpy/_vendored/pydevd/_pydevd_bundle/pydevd_daemon_thread.py\": 1677455981.2511427, \"/home/jstonge/.local/lib/python3.9/site-packages/debugpy/_vendored/pydevd/_pydevd_bundle/pydevd_timeout.py\": 1677455981.2511427, \"/home/jstonge/.local/lib/python3.9/site-packages/debugpy/_vendored/pydevd/_pydevd_bundle/pydevd_vars.py\": 1677455981.255143, \"/home/jstonge/.local/lib/python3.9/site-packages/debugpy/_vendored/pydevd/_pydev_bundle/pydev_console_utils.py\": 1677455981.2231421, \"/home/jstonge/.local/lib/python3.9/site-packages/debugpy/_vendored/pydevd/_pydevd_bundle/pydevd_import_class.py\": 1677455981.2471428, \"/home/jstonge/.local/lib/python3.9/site-packages/debugpy/_vendored/pydevd/_pydevd_bundle/pydevd_breakpoints.py\": 1677455981.2591429, \"/home/jstonge/.local/lib/python3.9/site-packages/debugpy/_vendored/pydevd/_pydevd_bundle/pydevd_custom_frames.py\": 1677455981.2311423, \"/home/jstonge/.local/lib/python3.9/site-packages/debugpy/_vendored/pydevd/_pydevd_bundle/pydevd_dont_trace_files.py\": 1677455981.255143, \"/home/jstonge/.local/lib/python3.9/site-packages/debugpy/_vendored/pydevd/_pydevd_bundle/pydevd_net_command.py\": 1677455981.255143, \"/home/jstonge/.local/lib/python3.9/site-packages/debugpy/_vendored/pydevd/_pydevd_bundle/pydevconsole_code.py\": 1677455981.2511427, \"/home/jstonge/.local/lib/python3.9/site-packages/debugpy/_vendored/pydevd/_pydev_bundle/pydev_umd.py\": 1677455981.2231421, \"/home/jstonge/.local/lib/python3.9/site-packages/debugpy/_vendored/pydevd/pydevconsole.py\": 1677455981.2191422, \"/home/jstonge/.local/lib/python3.9/site-packages/debugpy/_vendored/pydevd/_pydev_bundle/_pydev_completer.py\": 1677455981.2231421, \"/home/jstonge/.local/lib/python3.9/site-packages/debugpy/_vendored/pydevd/_pydevd_bundle/pydevd_net_command_factory_xml.py\": 1677455981.2471428, \"/home/jstonge/.local/lib/python3.9/site-packages/debugpy/_vendored/pydevd/_pydevd_bundle/pydevd_frame.py\": 1677455981.2511427, \"/home/jstonge/.local/lib/python3.9/site-packages/debugpy/_vendored/pydevd/_pydevd_bundle/pydevd_additional_thread_info_regular.py\": 1677455981.2511427, \"/home/jstonge/.local/lib/python3.9/site-packages/debugpy/_vendored/pydevd/_pydevd_bundle/pydevd_trace_dispatch.py\": 1677455981.2591429, \"/home/jstonge/.local/lib/python3.9/site-packages/debugpy/_vendored/pydevd/_pydevd_frame_eval/pydevd_frame_eval_main.py\": 1677455981.2911434, \"/home/jstonge/.local/lib/python3.9/site-packages/debugpy/_vendored/pydevd/_pydevd_bundle/pydevd_source_mapping.py\": 1677455981.255143, \"/home/jstonge/.local/lib/python3.9/site-packages/debugpy/_vendored/pydevd/_pydevd_bundle/pydevd_concurrency_analyser/__init__.py\": 1677455981.2591429, \"/home/jstonge/.local/lib/python3.9/site-packages/debugpy/_vendored/pydevd/_pydevd_bundle/pydevd_concurrency_analyser/pydevd_thread_wrappers.py\": 1677455981.2591429, \"/home/jstonge/.local/lib/python3.9/site-packages/debugpy/_vendored/pydevd/_pydevd_bundle/pydevd_concurrency_analyser/pydevd_concurrency_logger.py\": 1677455981.263143, \"/home/jstonge/.local/lib/python3.9/site-packages/debugpy/_vendored/pydevd/_pydevd_bundle/_debug_adapter/__init__.py\": 1677455981.2591429, \"/home/jstonge/.local/lib/python3.9/site-packages/debugpy/_vendored/pydevd/_pydevd_bundle/_debug_adapter/pydevd_schema_log.py\": 1677455981.2591429, \"/home/jstonge/.local/lib/python3.9/site-packages/debugpy/_vendored/pydevd/_pydevd_bundle/_debug_adapter/pydevd_base_schema.py\": 1677455981.2591429, \"/home/jstonge/.local/lib/python3.9/site-packages/debugpy/_vendored/pydevd/_pydevd_bundle/_debug_adapter/pydevd_schema.py\": 1677455981.2591429, \"/home/jstonge/.local/lib/python3.9/site-packages/debugpy/_vendored/pydevd/_pydevd_bundle/pydevd_reload.py\": 1677455981.255143, \"/home/jstonge/.local/lib/python3.9/site-packages/debugpy/_vendored/pydevd/_pydev_bundle/fsnotify/__init__.py\": 1677455981.2271423, \"/home/jstonge/.local/lib/python3.9/site-packages/debugpy/_vendored/pydevd/_pydevd_bundle/pydevd_console.py\": 1677455981.2511427, \"/home/jstonge/.local/lib/python3.9/site-packages/debugpy/_vendored/pydevd/_pydevd_bundle/pydevd_comm.py\": 1677455981.2311423, \"/home/jstonge/.local/lib/python3.9/site-packages/debugpy/_vendored/pydevd/_pydevd_bundle/pydevd_net_command_factory_json.py\": 1677455981.2511427, \"/home/jstonge/.local/lib/python3.9/site-packages/debugpy/_vendored/pydevd/_pydevd_bundle/pydevd_api.py\": 1677455981.255143, \"/home/jstonge/.local/lib/python3.9/site-packages/debugpy/_vendored/pydevd/_pydevd_bundle/pydevd_json_debug_options.py\": 1677455981.2511427, \"/home/jstonge/.local/lib/python3.9/site-packages/debugpy/_vendored/pydevd/_pydevd_bundle/pydevd_process_net_command_json.py\": 1677455981.2511427, \"/home/jstonge/.local/lib/python3.9/site-packages/debugpy/_vendored/pydevd/_pydevd_bundle/pydevd_traceproperty.py\": 1677455981.255143, \"/home/jstonge/.local/lib/python3.9/site-packages/debugpy/_vendored/pydevd/_pydevd_bundle/pydevd_process_net_command.py\": 1677455981.2511427, \"/home/jstonge/.local/lib/python3.9/site-packages/debugpy/_vendored/pydevd/_pydevd_bundle/pydevd_suspended_frames.py\": 1677455981.2471428, \"/home/jstonge/.local/lib/python3.9/site-packages/debugpy/_vendored/pydevd/_pydevd_bundle/pydevd_trace_api.py\": 1677455981.2591429, \"/home/jstonge/.local/lib/python3.9/site-packages/debugpy/_vendored/pydevd/pydevd_plugins/pydevd_line_validation.py\": 1677455981.263143, \"/home/jstonge/.local/lib/python3.9/site-packages/debugpy/_vendored/pydevd/pydevd_plugins/django_debug.py\": 1677455981.263143, \"/home/jstonge/.local/lib/python3.9/site-packages/debugpy/_vendored/pydevd/pydevd_plugins/jinja2_debug.py\": 1677455981.263143, \"/home/jstonge/.local/lib/python3.9/site-packages/debugpy/_vendored/pydevd/_pydevd_bundle/pydevd_plugin_utils.py\": 1677455981.255143, \"/home/jstonge/.local/lib/python3.9/site-packages/debugpy/_vendored/pydevd/pydevd_plugins/extensions/types/__init__.py\": 1677455981.263143, \"/home/jstonge/.local/lib/python3.9/site-packages/debugpy/_vendored/pydevd/pydevd_plugins/extensions/types/pydevd_helpers.py\": 1677455981.263143, \"/home/jstonge/.local/lib/python3.9/site-packages/debugpy/_vendored/pydevd/pydevd_plugins/extensions/types/pydevd_plugin_numpy_types.py\": 1677455981.263143, \"/home/jstonge/.local/lib/python3.9/site-packages/debugpy/_vendored/pydevd/pydevd_plugins/extensions/types/pydevd_plugin_pandas_types.py\": 1677455981.263143, \"/home/jstonge/.local/lib/python3.9/site-packages/debugpy/_vendored/pydevd/pydevd_plugins/extensions/types/pydevd_plugins_django_form_str.py\": 1677455981.263143, \"/home/jstonge/.local/lib/python3.9/site-packages/debugpy/_vendored/pydevd/pydevd.py\": 1677455981.2191422, \"/home/jstonge/.local/lib/python3.9/site-packages/debugpy/_vendored/force_pydevd.py\": 1677455981.2191422, \"/home/jstonge/.local/lib/python3.9/site-packages/debugpy/server/__init__.py\": 1677455981.215142, \"/home/jstonge/.local/lib/python3.9/site-packages/debugpy/adapter/__init__.py\": 1677455981.215142, \"/home/jstonge/.local/lib/python3.9/site-packages/debugpy/common/__init__.py\": 1677455981.215142, \"/home/jstonge/.local/lib/python3.9/site-packages/debugpy/common/json.py\": 1677455981.215142, \"/home/jstonge/.local/lib/python3.9/site-packages/debugpy/common/timestamp.py\": 1677455981.215142, \"/home/jstonge/.local/lib/python3.9/site-packages/debugpy/common/util.py\": 1677455981.215142, \"/home/jstonge/.local/lib/python3.9/site-packages/debugpy/common/log.py\": 1677455981.215142, \"/home/jstonge/.local/lib/python3.9/site-packages/debugpy/common/sockets.py\": 1677455981.215142, \"/home/jstonge/.local/lib/python3.9/site-packages/debugpy/server/api.py\": 1677455981.2191422, \"/home/jstonge/.local/lib/python3.9/site-packages/ipykernel/debugger.py\": 1677455983.1511762, \"/home/jstonge/.local/lib/python3.9/site-packages/packaging/__init__.py\": 1677455981.0271387, \"/home/jstonge/.local/lib/python3.9/site-packages/packaging/_structures.py\": 1677455981.0271387, \"/home/jstonge/.local/lib/python3.9/site-packages/packaging/version.py\": 1677455981.031139, \"/home/jstonge/.local/lib/python3.9/site-packages/ipykernel/eventloops.py\": 1677455983.1511762, \"/home/jstonge/.local/lib/python3.9/site-packages/IPython/core/payloadpage.py\": 1677455982.79917, \"/home/jstonge/.local/lib/python3.9/site-packages/ipykernel/displayhook.py\": 1677455983.1511762, \"/home/jstonge/.local/lib/python3.9/site-packages/ipykernel/zmqshell.py\": 1677455983.1551762, \"/home/jstonge/.local/lib/python3.9/site-packages/ipykernel/ipkernel.py\": 1677455983.1511762, \"/home/jstonge/.local/lib/python3.9/site-packages/ipykernel/parentpoller.py\": 1677455983.1511762, \"/home/jstonge/.local/lib/python3.9/site-packages/ipykernel/kernelapp.py\": 1677455983.1511762, \"/home/jstonge/.local/lib/python3.9/site-packages/tornado/platform/__init__.py\": 1677455979.6551147, \"/home/jstonge/.local/lib/python3.9/site-packages/tornado/platform/asyncio.py\": 1677455979.6551147, \"/home/jstonge/.local/lib/python3.9/site-packages/IPython/core/completerlib.py\": 1677455982.7951698, \"/home/jstonge/miniconda3/envs/classify-comp-proj/lib/python3.9/site-packages/numpy/_globals.py\": 1651020651.0, \"/home/jstonge/miniconda3/envs/classify-comp-proj/lib/python3.9/site-packages/numpy/__config__.py\": 1672667503.8671684, \"/home/jstonge/miniconda3/envs/classify-comp-proj/lib/python3.9/site-packages/numpy/_distributor_init.py\": 1651020651.0, \"/home/jstonge/miniconda3/envs/classify-comp-proj/lib/python3.9/site-packages/numpy/_version.py\": 1651020651.0, \"/home/jstonge/miniconda3/envs/classify-comp-proj/lib/python3.9/site-packages/numpy/version.py\": 1651020651.0, \"/home/jstonge/miniconda3/envs/classify-comp-proj/lib/python3.9/site-packages/numpy/core/_multiarray_umath.cpython-39-x86_64-linux-gnu.so\": 1651020660.0, \"/home/jstonge/miniconda3/envs/classify-comp-proj/lib/python3.9/site-packages/numpy/compat/_inspect.py\": 1651020651.0, \"/home/jstonge/miniconda3/envs/classify-comp-proj/lib/python3.9/site-packages/numpy/compat/py3k.py\": 1651020651.0, \"/home/jstonge/miniconda3/envs/classify-comp-proj/lib/python3.9/site-packages/numpy/compat/__init__.py\": 1651020651.0, \"/home/jstonge/miniconda3/envs/classify-comp-proj/lib/python3.9/site-packages/numpy/core/overrides.py\": 1651020651.0, \"/home/jstonge/miniconda3/envs/classify-comp-proj/lib/python3.9/site-packages/numpy/core/multiarray.py\": 1651020651.0, \"/home/jstonge/miniconda3/envs/classify-comp-proj/lib/python3.9/site-packages/numpy/core/umath.py\": 1651020651.0, \"/home/jstonge/miniconda3/envs/classify-comp-proj/lib/python3.9/site-packages/numpy/core/_string_helpers.py\": 1651020651.0, \"/home/jstonge/miniconda3/envs/classify-comp-proj/lib/python3.9/site-packages/numpy/core/_dtype.py\": 1651020651.0, \"/home/jstonge/miniconda3/envs/classify-comp-proj/lib/python3.9/site-packages/numpy/core/_type_aliases.py\": 1651020651.0, \"/home/jstonge/miniconda3/envs/classify-comp-proj/lib/python3.9/site-packages/numpy/core/numerictypes.py\": 1651020651.0, \"/home/jstonge/miniconda3/envs/classify-comp-proj/lib/python3.9/site-packages/numpy/core/_exceptions.py\": 1651020651.0, \"/home/jstonge/miniconda3/envs/classify-comp-proj/lib/python3.9/site-packages/numpy/core/_methods.py\": 1651020651.0, \"/home/jstonge/miniconda3/envs/classify-comp-proj/lib/python3.9/site-packages/numpy/core/fromnumeric.py\": 1651020651.0, \"/home/jstonge/miniconda3/envs/classify-comp-proj/lib/python3.9/site-packages/numpy/core/shape_base.py\": 1651020651.0, \"/home/jstonge/miniconda3/envs/classify-comp-proj/lib/python3.9/site-packages/numpy/core/_ufunc_config.py\": 1651020651.0, \"/home/jstonge/miniconda3/envs/classify-comp-proj/lib/python3.9/site-packages/numpy/core/arrayprint.py\": 1651020651.0, \"/home/jstonge/miniconda3/envs/classify-comp-proj/lib/python3.9/site-packages/numpy/core/_asarray.py\": 1651020651.0, \"/home/jstonge/miniconda3/envs/classify-comp-proj/lib/python3.9/site-packages/numpy/core/numeric.py\": 1651020651.0, \"/home/jstonge/miniconda3/envs/classify-comp-proj/lib/python3.9/site-packages/numpy/core/defchararray.py\": 1651020651.0, \"/home/jstonge/miniconda3/envs/classify-comp-proj/lib/python3.9/site-packages/numpy/core/records.py\": 1651020651.0, \"/home/jstonge/miniconda3/envs/classify-comp-proj/lib/python3.9/site-packages/numpy/core/memmap.py\": 1651020651.0, \"/home/jstonge/miniconda3/envs/classify-comp-proj/lib/python3.9/site-packages/numpy/core/function_base.py\": 1651020651.0, \"/home/jstonge/miniconda3/envs/classify-comp-proj/lib/python3.9/site-packages/numpy/core/_machar.py\": 1651020651.0, \"/home/jstonge/miniconda3/envs/classify-comp-proj/lib/python3.9/site-packages/numpy/core/getlimits.py\": 1651020651.0, \"/home/jstonge/miniconda3/envs/classify-comp-proj/lib/python3.9/site-packages/numpy/core/einsumfunc.py\": 1651020651.0, \"/home/jstonge/miniconda3/envs/classify-comp-proj/lib/python3.9/site-packages/numpy/core/_multiarray_tests.cpython-39-x86_64-linux-gnu.so\": 1651020660.0, \"/home/jstonge/miniconda3/envs/classify-comp-proj/lib/python3.9/site-packages/numpy/core/_add_newdocs.py\": 1651020651.0, \"/home/jstonge/miniconda3/envs/classify-comp-proj/lib/python3.9/site-packages/numpy/core/_add_newdocs_scalars.py\": 1651020651.0, \"/home/jstonge/miniconda3/envs/classify-comp-proj/lib/python3.9/site-packages/numpy/core/_dtype_ctypes.py\": 1651020651.0, \"/home/jstonge/miniconda3/envs/classify-comp-proj/lib/python3.9/site-packages/numpy/core/_internal.py\": 1651020651.0, \"/home/jstonge/miniconda3/envs/classify-comp-proj/lib/python3.9/site-packages/numpy/_pytesttester.py\": 1651020651.0, \"/home/jstonge/miniconda3/envs/classify-comp-proj/lib/python3.9/site-packages/numpy/core/__init__.py\": 1651020651.0, \"/home/jstonge/miniconda3/envs/classify-comp-proj/lib/python3.9/site-packages/numpy/lib/mixins.py\": 1651020652.0, \"/home/jstonge/miniconda3/envs/classify-comp-proj/lib/python3.9/site-packages/numpy/lib/ufunclike.py\": 1651020652.0, \"/home/jstonge/miniconda3/envs/classify-comp-proj/lib/python3.9/site-packages/numpy/lib/type_check.py\": 1651020652.0, \"/home/jstonge/miniconda3/envs/classify-comp-proj/lib/python3.9/site-packages/numpy/lib/scimath.py\": 1651020652.0, \"/home/jstonge/miniconda3/envs/classify-comp-proj/lib/python3.9/site-packages/numpy/lib/stride_tricks.py\": 1651020652.0, \"/home/jstonge/miniconda3/envs/classify-comp-proj/lib/python3.9/site-packages/numpy/lib/twodim_base.py\": 1651020652.0, \"/home/jstonge/miniconda3/envs/classify-comp-proj/lib/python3.9/site-packages/numpy/linalg/_umath_linalg.cpython-39-x86_64-linux-gnu.so\": 1651020661.0, \"/home/jstonge/miniconda3/envs/classify-comp-proj/lib/python3.9/site-packages/numpy/linalg/linalg.py\": 1651020652.0, \"/home/jstonge/miniconda3/envs/classify-comp-proj/lib/python3.9/site-packages/numpy/linalg/__init__.py\": 1651020652.0, \"/home/jstonge/miniconda3/envs/classify-comp-proj/lib/python3.9/site-packages/numpy/matrixlib/defmatrix.py\": 1651020652.0, \"/home/jstonge/miniconda3/envs/classify-comp-proj/lib/python3.9/site-packages/numpy/matrixlib/__init__.py\": 1651020652.0, \"/home/jstonge/miniconda3/envs/classify-comp-proj/lib/python3.9/site-packages/numpy/lib/histograms.py\": 1651020652.0, \"/home/jstonge/miniconda3/envs/classify-comp-proj/lib/python3.9/site-packages/numpy/lib/function_base.py\": 1651020652.0, \"/home/jstonge/miniconda3/envs/classify-comp-proj/lib/python3.9/site-packages/numpy/lib/index_tricks.py\": 1651020652.0, \"/home/jstonge/miniconda3/envs/classify-comp-proj/lib/python3.9/site-packages/numpy/lib/nanfunctions.py\": 1651020652.0, \"/home/jstonge/miniconda3/envs/classify-comp-proj/lib/python3.9/site-packages/numpy/lib/shape_base.py\": 1651020652.0, \"/home/jstonge/miniconda3/envs/classify-comp-proj/lib/python3.9/site-packages/numpy/lib/polynomial.py\": 1651020652.0, \"/home/jstonge/miniconda3/envs/classify-comp-proj/lib/python3.9/site-packages/numpy/lib/utils.py\": 1651020652.0, \"/home/jstonge/miniconda3/envs/classify-comp-proj/lib/python3.9/site-packages/numpy/lib/arraysetops.py\": 1651020652.0, \"/home/jstonge/miniconda3/envs/classify-comp-proj/lib/python3.9/site-packages/numpy/lib/format.py\": 1651020652.0, \"/home/jstonge/miniconda3/envs/classify-comp-proj/lib/python3.9/site-packages/numpy/lib/_datasource.py\": 1651020652.0, \"/home/jstonge/miniconda3/envs/classify-comp-proj/lib/python3.9/site-packages/numpy/lib/_iotools.py\": 1651020652.0, \"/home/jstonge/miniconda3/envs/classify-comp-proj/lib/python3.9/site-packages/numpy/lib/npyio.py\": 1651020652.0, \"/home/jstonge/miniconda3/envs/classify-comp-proj/lib/python3.9/site-packages/numpy/lib/arrayterator.py\": 1651020652.0, \"/home/jstonge/miniconda3/envs/classify-comp-proj/lib/python3.9/site-packages/numpy/lib/arraypad.py\": 1651020652.0, \"/home/jstonge/miniconda3/envs/classify-comp-proj/lib/python3.9/site-packages/numpy/lib/_version.py\": 1651020652.0, \"/home/jstonge/miniconda3/envs/classify-comp-proj/lib/python3.9/site-packages/numpy/lib/__init__.py\": 1651020652.0, \"/home/jstonge/miniconda3/envs/classify-comp-proj/lib/python3.9/site-packages/numpy/fft/_pocketfft_internal.cpython-39-x86_64-linux-gnu.so\": 1651020661.0, \"/home/jstonge/miniconda3/envs/classify-comp-proj/lib/python3.9/site-packages/numpy/fft/_pocketfft.py\": 1651020652.0, \"/home/jstonge/miniconda3/envs/classify-comp-proj/lib/python3.9/site-packages/numpy/fft/helper.py\": 1651020652.0, \"/home/jstonge/miniconda3/envs/classify-comp-proj/lib/python3.9/site-packages/numpy/fft/__init__.py\": 1651020652.0, \"/home/jstonge/miniconda3/envs/classify-comp-proj/lib/python3.9/site-packages/numpy/polynomial/polyutils.py\": 1651020652.0, \"/home/jstonge/miniconda3/envs/classify-comp-proj/lib/python3.9/site-packages/numpy/polynomial/_polybase.py\": 1651020652.0, \"/home/jstonge/miniconda3/envs/classify-comp-proj/lib/python3.9/site-packages/numpy/polynomial/polynomial.py\": 1651020652.0, \"/home/jstonge/miniconda3/envs/classify-comp-proj/lib/python3.9/site-packages/numpy/polynomial/chebyshev.py\": 1651020652.0, \"/home/jstonge/miniconda3/envs/classify-comp-proj/lib/python3.9/site-packages/numpy/polynomial/legendre.py\": 1651020652.0, \"/home/jstonge/miniconda3/envs/classify-comp-proj/lib/python3.9/site-packages/numpy/polynomial/hermite.py\": 1651020652.0, \"/home/jstonge/miniconda3/envs/classify-comp-proj/lib/python3.9/site-packages/numpy/polynomial/hermite_e.py\": 1651020652.0, \"/home/jstonge/miniconda3/envs/classify-comp-proj/lib/python3.9/site-packages/numpy/polynomial/laguerre.py\": 1651020652.0, \"/home/jstonge/miniconda3/envs/classify-comp-proj/lib/python3.9/site-packages/numpy/polynomial/__init__.py\": 1651020652.0, \"/home/jstonge/miniconda3/envs/classify-comp-proj/lib/python3.9/site-packages/numpy/random/_common.cpython-39-x86_64-linux-gnu.so\": 1651020660.0, \"/home/jstonge/miniconda3/envs/classify-comp-proj/lib/python3.9/secrets.py\": 1669300926.0, \"/home/jstonge/miniconda3/envs/classify-comp-proj/lib/python3.9/site-packages/numpy/random/bit_generator.cpython-39-x86_64-linux-gnu.so\": 1651020661.0, \"/home/jstonge/miniconda3/envs/classify-comp-proj/lib/python3.9/site-packages/numpy/random/_bounded_integers.cpython-39-x86_64-linux-gnu.so\": 1651020661.0, \"/home/jstonge/miniconda3/envs/classify-comp-proj/lib/python3.9/site-packages/numpy/random/_mt19937.cpython-39-x86_64-linux-gnu.so\": 1651020660.0, \"/home/jstonge/miniconda3/envs/classify-comp-proj/lib/python3.9/site-packages/numpy/random/mtrand.cpython-39-x86_64-linux-gnu.so\": 1651020660.0, \"/home/jstonge/miniconda3/envs/classify-comp-proj/lib/python3.9/site-packages/numpy/random/_philox.cpython-39-x86_64-linux-gnu.so\": 1651020661.0, \"/home/jstonge/miniconda3/envs/classify-comp-proj/lib/python3.9/site-packages/numpy/random/_pcg64.cpython-39-x86_64-linux-gnu.so\": 1651020661.0, \"/home/jstonge/miniconda3/envs/classify-comp-proj/lib/python3.9/site-packages/numpy/random/_sfc64.cpython-39-x86_64-linux-gnu.so\": 1651020661.0, \"/home/jstonge/miniconda3/envs/classify-comp-proj/lib/python3.9/site-packages/numpy/random/_generator.cpython-39-x86_64-linux-gnu.so\": 1651020661.0, \"/home/jstonge/miniconda3/envs/classify-comp-proj/lib/python3.9/site-packages/numpy/random/_pickle.py\": 1651020652.0, \"/home/jstonge/miniconda3/envs/classify-comp-proj/lib/python3.9/site-packages/numpy/random/__init__.py\": 1651020652.0, \"/home/jstonge/miniconda3/envs/classify-comp-proj/lib/python3.9/site-packages/numpy/ctypeslib.py\": 1651020651.0, \"/home/jstonge/miniconda3/envs/classify-comp-proj/lib/python3.9/site-packages/numpy/ma/core.py\": 1651020652.0, \"/home/jstonge/miniconda3/envs/classify-comp-proj/lib/python3.9/site-packages/numpy/ma/extras.py\": 1651020652.0, \"/home/jstonge/miniconda3/envs/classify-comp-proj/lib/python3.9/site-packages/numpy/ma/__init__.py\": 1651020652.0, \"/home/jstonge/miniconda3/envs/classify-comp-proj/lib/python3.9/site-packages/numpy/__init__.py\": 1651020651.0, \"/home/jstonge/miniconda3/envs/classify-comp-proj/lib/python3.9/site-packages/matplotlib/_api/deprecation.py\": 1670466281.0, \"/home/jstonge/miniconda3/envs/classify-comp-proj/lib/python3.9/site-packages/matplotlib/_api/__init__.py\": 1670466281.0, \"/home/jstonge/miniconda3/envs/classify-comp-proj/lib/python3.9/site-packages/matplotlib/_version.py\": 1670466280.0, \"/home/jstonge/miniconda3/envs/classify-comp-proj/lib/python3.9/site-packages/matplotlib/_c_internal_utils.cpython-39-x86_64-linux-gnu.so\": 1670466284.0, \"/home/jstonge/miniconda3/envs/classify-comp-proj/lib/python3.9/site-packages/matplotlib/cbook/__init__.py\": 1670466281.0, \"/home/jstonge/miniconda3/envs/classify-comp-proj/lib/python3.9/site-packages/matplotlib/_docstring.py\": 1670466280.0, \"/home/jstonge/miniconda3/envs/classify-comp-proj/lib/python3.9/site-packages/PIL/_version.py\": 1667046063.0, \"/home/jstonge/miniconda3/envs/classify-comp-proj/lib/python3.9/site-packages/PIL/__init__.py\": 1667046029.0, \"/home/jstonge/miniconda3/envs/classify-comp-proj/lib/python3.9/site-packages/defusedxml/common.py\": 1615228157.0, \"/home/jstonge/miniconda3/envs/classify-comp-proj/lib/python3.9/site-packages/defusedxml/__init__.py\": 1615228157.0, \"/home/jstonge/miniconda3/envs/classify-comp-proj/lib/python3.9/xml/etree/__init__.py\": 1669300928.0, \"/home/jstonge/miniconda3/envs/classify-comp-proj/lib/python3.9/xml/etree/ElementPath.py\": 1669300928.0, \"/home/jstonge/miniconda3/envs/classify-comp-proj/lib/python3.9/lib-dynload/_elementtree.cpython-39-x86_64-linux-gnu.so\": 1669300940.0, \"/home/jstonge/miniconda3/envs/classify-comp-proj/lib/python3.9/xml/etree/ElementTree.py\": 1669300928.0, \"/home/jstonge/miniconda3/envs/classify-comp-proj/lib/python3.9/site-packages/defusedxml/ElementTree.py\": 1615228157.0, \"/home/jstonge/miniconda3/envs/classify-comp-proj/lib/python3.9/site-packages/PIL/ImageMode.py\": 1667046029.0, \"/home/jstonge/miniconda3/envs/classify-comp-proj/lib/python3.9/site-packages/PIL/TiffTags.py\": 1667046029.0, \"/home/jstonge/miniconda3/envs/classify-comp-proj/lib/python3.9/site-packages/PIL/_binary.py\": 1667046029.0, \"/home/jstonge/miniconda3/envs/classify-comp-proj/lib/python3.9/site-packages/PIL/_deprecate.py\": 1667046029.0, \"/home/jstonge/miniconda3/envs/classify-comp-proj/lib/python3.9/site-packages/PIL/_util.py\": 1667046029.0, \"/home/jstonge/miniconda3/envs/classify-comp-proj/lib/python3.9/site-packages/PIL/_imaging.cpython-39-x86_64-linux-gnu.so\": 1671656490.0, \"/home/jstonge/miniconda3/envs/classify-comp-proj/lib/python3.9/site-packages/cffi/lock.py\": 1670423278.0, \"/home/jstonge/miniconda3/envs/classify-comp-proj/lib/python3.9/site-packages/cffi/error.py\": 1670423278.0, \"/home/jstonge/miniconda3/envs/classify-comp-proj/lib/python3.9/site-packages/cffi/model.py\": 1670423278.0, \"/home/jstonge/miniconda3/envs/classify-comp-proj/lib/python3.9/site-packages/cffi/api.py\": 1670423278.0, \"/home/jstonge/miniconda3/envs/classify-comp-proj/lib/python3.9/site-packages/cffi/__init__.py\": 1670423278.0, \"/home/jstonge/miniconda3/envs/classify-comp-proj/lib/python3.9/site-packages/PIL/Image.py\": 1667046029.0, \"/home/jstonge/miniconda3/envs/classify-comp-proj/lib/python3.9/site-packages/PIL/ImageChops.py\": 1667046029.0, \"/home/jstonge/miniconda3/envs/classify-comp-proj/lib/python3.9/site-packages/PIL/ImageFile.py\": 1667046029.0, \"/home/jstonge/miniconda3/envs/classify-comp-proj/lib/python3.9/site-packages/PIL/GimpGradientFile.py\": 1667046029.0, \"/home/jstonge/miniconda3/envs/classify-comp-proj/lib/python3.9/site-packages/PIL/GimpPaletteFile.py\": 1667046029.0, \"/home/jstonge/miniconda3/envs/classify-comp-proj/lib/python3.9/site-packages/PIL/ImageColor.py\": 1667046029.0, \"/home/jstonge/miniconda3/envs/classify-comp-proj/lib/python3.9/site-packages/PIL/PaletteFile.py\": 1667046029.0, \"/home/jstonge/miniconda3/envs/classify-comp-proj/lib/python3.9/site-packages/PIL/ImagePalette.py\": 1667046029.0, \"/home/jstonge/miniconda3/envs/classify-comp-proj/lib/python3.9/site-packages/PIL/ImageSequence.py\": 1667046029.0, \"/home/jstonge/miniconda3/envs/classify-comp-proj/lib/python3.9/site-packages/PIL/PngImagePlugin.py\": 1667046029.0, \"/home/jstonge/miniconda3/envs/classify-comp-proj/lib/python3.9/site-packages/matplotlib/_cm.py\": 1670466280.0, \"/home/jstonge/miniconda3/envs/classify-comp-proj/lib/python3.9/site-packages/matplotlib/_path.cpython-39-x86_64-linux-gnu.so\": 1670466284.0, \"/home/jstonge/miniconda3/envs/classify-comp-proj/lib/python3.9/site-packages/matplotlib/bezier.py\": 1670466280.0, \"/home/jstonge/miniconda3/envs/classify-comp-proj/lib/python3.9/site-packages/matplotlib/path.py\": 1670466281.0, \"/home/jstonge/miniconda3/envs/classify-comp-proj/lib/python3.9/site-packages/matplotlib/transforms.py\": 1670466281.0, \"/home/jstonge/miniconda3/envs/classify-comp-proj/lib/python3.9/site-packages/matplotlib/ticker.py\": 1670466281.0, \"/home/jstonge/miniconda3/envs/classify-comp-proj/lib/python3.9/site-packages/matplotlib/scale.py\": 1670466281.0, \"/home/jstonge/miniconda3/envs/classify-comp-proj/lib/python3.9/site-packages/matplotlib/_color_data.py\": 1670466280.0, \"/home/jstonge/miniconda3/envs/classify-comp-proj/lib/python3.9/site-packages/matplotlib/colors.py\": 1670466280.0, \"/home/jstonge/.local/lib/python3.9/site-packages/pyparsing/util.py\": 1658249704.7070937, \"/home/jstonge/.local/lib/python3.9/site-packages/pyparsing/unicode.py\": 1658249704.7070937, \"/home/jstonge/.local/lib/python3.9/site-packages/pyparsing/exceptions.py\": 1658249704.7070937, \"/home/jstonge/.local/lib/python3.9/site-packages/pyparsing/actions.py\": 1658249704.7030938, \"/home/jstonge/.local/lib/python3.9/site-packages/pyparsing/results.py\": 1658249704.7070937, \"/home/jstonge/.local/lib/python3.9/site-packages/pyparsing/core.py\": 1658249704.7070937, \"/home/jstonge/.local/lib/python3.9/site-packages/pyparsing/helpers.py\": 1658249704.7070937, \"/home/jstonge/.local/lib/python3.9/site-packages/pyparsing/testing.py\": 1658249704.7070937, \"/home/jstonge/.local/lib/python3.9/site-packages/pyparsing/common.py\": 1658249704.7030938, \"/home/jstonge/.local/lib/python3.9/site-packages/pyparsing/__init__.py\": 1658249704.7030938, \"/home/jstonge/miniconda3/envs/classify-comp-proj/lib/python3.9/site-packages/matplotlib/_fontconfig_pattern.py\": 1670466280.0, \"/home/jstonge/miniconda3/envs/classify-comp-proj/lib/python3.9/site-packages/matplotlib/_enums.py\": 1670466280.0, \"/home/jstonge/miniconda3/envs/classify-comp-proj/lib/python3.9/site-packages/cycler.py\": 1637851582.0, \"/home/jstonge/miniconda3/envs/classify-comp-proj/lib/python3.9/site-packages/matplotlib/rcsetup.py\": 1670466281.0, \"/home/jstonge/miniconda3/envs/classify-comp-proj/lib/python3.9/site-packages/matplotlib/ft2font.cpython-39-x86_64-linux-gnu.so\": 1670466284.0, \"/home/jstonge/miniconda3/envs/classify-comp-proj/lib/python3.9/site-packages/kiwisolver/_cext.cpython-39-x86_64-linux-gnu.so\": 1672387300.0, \"/home/jstonge/miniconda3/envs/classify-comp-proj/lib/python3.9/site-packages/kiwisolver/__init__.py\": 1672387299.0, \"/home/jstonge/miniconda3/envs/classify-comp-proj/lib/python3.9/site-packages/matplotlib/_cm_listed.py\": 1670466280.0, \"/home/jstonge/miniconda3/envs/classify-comp-proj/lib/python3.9/site-packages/matplotlib/cm.py\": 1670466280.0, \"/home/jstonge/miniconda3/envs/classify-comp-proj/lib/python3.9/site-packages/matplotlib/__init__.py\": 1670466280.0, \"/home/jstonge/miniconda3/envs/classify-comp-proj/lib/python3.9/site-packages/matplotlib/artist.py\": 1670466280.0, \"/home/jstonge/miniconda3/envs/classify-comp-proj/lib/python3.9/site-packages/matplotlib/hatch.py\": 1670466280.0, \"/home/jstonge/miniconda3/envs/classify-comp-proj/lib/python3.9/site-packages/matplotlib/markers.py\": 1670466280.0, \"/home/jstonge/miniconda3/envs/classify-comp-proj/lib/python3.9/site-packages/matplotlib/lines.py\": 1670466280.0, \"/home/jstonge/miniconda3/envs/classify-comp-proj/lib/python3.9/site-packages/matplotlib/collections.py\": 1670466280.0, \"/home/jstonge/miniconda3/envs/classify-comp-proj/lib/python3.9/site-packages/matplotlib/_pylab_helpers.py\": 1670466280.0, \"/home/jstonge/miniconda3/envs/classify-comp-proj/lib/python3.9/site-packages/matplotlib/backend_tools.py\": 1670466280.0, \"/home/jstonge/miniconda3/envs/classify-comp-proj/lib/python3.9/site-packages/matplotlib/_text_helpers.py\": 1670466280.0, \"/home/jstonge/miniconda3/envs/classify-comp-proj/lib/python3.9/site-packages/matplotlib/dviread.py\": 1670466280.0, \"/home/jstonge/miniconda3/envs/classify-comp-proj/lib/python3.9/site-packages/matplotlib/_mathtext_data.py\": 1670466280.0, \"/home/jstonge/miniconda3/envs/classify-comp-proj/lib/python3.9/site-packages/matplotlib/_afm.py\": 1670466280.0, \"/home/jstonge/miniconda3/envs/classify-comp-proj/lib/python3.9/site-packages/matplotlib/font_manager.py\": 1670466280.0, \"/home/jstonge/miniconda3/envs/classify-comp-proj/lib/python3.9/site-packages/matplotlib/_mathtext.py\": 1670466280.0, \"/home/jstonge/miniconda3/envs/classify-comp-proj/lib/python3.9/site-packages/matplotlib/mathtext.py\": 1670466280.0, \"/home/jstonge/miniconda3/envs/classify-comp-proj/lib/python3.9/site-packages/matplotlib/texmanager.py\": 1670466281.0, \"/home/jstonge/miniconda3/envs/classify-comp-proj/lib/python3.9/site-packages/matplotlib/textpath.py\": 1670466281.0, \"/home/jstonge/miniconda3/envs/classify-comp-proj/lib/python3.9/site-packages/matplotlib/_tight_bbox.py\": 1670466280.0, \"/home/jstonge/miniconda3/envs/classify-comp-proj/lib/python3.9/site-packages/matplotlib/patches.py\": 1670466281.0, \"/home/jstonge/miniconda3/envs/classify-comp-proj/lib/python3.9/site-packages/matplotlib/widgets.py\": 1670466281.0, \"/home/jstonge/miniconda3/envs/classify-comp-proj/lib/python3.9/site-packages/matplotlib/backend_managers.py\": 1670466280.0, \"/home/jstonge/miniconda3/envs/classify-comp-proj/lib/python3.9/site-packages/matplotlib/backend_bases.py\": 1670466280.0, \"/home/jstonge/miniconda3/envs/classify-comp-proj/lib/python3.9/site-packages/matplotlib/text.py\": 1670466281.0, \"/home/jstonge/miniconda3/envs/classify-comp-proj/lib/python3.9/site-packages/matplotlib/contour.py\": 1670466280.0, \"/home/jstonge/miniconda3/envs/classify-comp-proj/lib/python3.9/site-packages/matplotlib/spines.py\": 1670466281.0, \"/home/jstonge/miniconda3/envs/classify-comp-proj/lib/python3.9/site-packages/matplotlib/colorbar.py\": 1670466280.0, \"/home/jstonge/miniconda3/envs/classify-comp-proj/lib/python3.9/site-packages/matplotlib/_image.cpython-39-x86_64-linux-gnu.so\": 1670466284.0, \"/home/jstonge/miniconda3/envs/classify-comp-proj/lib/python3.9/site-packages/matplotlib/image.py\": 1670466280.0, \"/home/jstonge/miniconda3/envs/classify-comp-proj/lib/python3.9/site-packages/matplotlib/style/core.py\": 1670466281.0, \"/home/jstonge/miniconda3/envs/classify-comp-proj/lib/python3.9/site-packages/matplotlib/style/__init__.py\": 1670466281.0, \"/home/jstonge/miniconda3/envs/classify-comp-proj/lib/python3.9/site-packages/matplotlib/_blocking_input.py\": 1670466280.0, \"/home/jstonge/miniconda3/envs/classify-comp-proj/lib/python3.9/site-packages/matplotlib/units.py\": 1670466281.0, \"/home/jstonge/miniconda3/envs/classify-comp-proj/lib/python3.9/site-packages/matplotlib/category.py\": 1670466280.0, \"/home/jstonge/.local/lib/python3.9/site-packages/dateutil/rrule.py\": 1677455981.7551515, \"/home/jstonge/miniconda3/envs/classify-comp-proj/lib/python3.9/site-packages/matplotlib/dates.py\": 1670466280.0, \"/home/jstonge/miniconda3/envs/classify-comp-proj/lib/python3.9/site-packages/matplotlib/offsetbox.py\": 1670466280.0, \"/home/jstonge/miniconda3/envs/classify-comp-proj/lib/python3.9/site-packages/matplotlib/container.py\": 1670466280.0, \"/home/jstonge/miniconda3/envs/classify-comp-proj/lib/python3.9/site-packages/matplotlib/legend_handler.py\": 1670466280.0, \"/home/jstonge/miniconda3/envs/classify-comp-proj/lib/python3.9/site-packages/matplotlib/legend.py\": 1670466280.0, \"/home/jstonge/miniconda3/envs/classify-comp-proj/lib/python3.9/site-packages/matplotlib/mlab.py\": 1670466280.0, \"/home/jstonge/miniconda3/envs/classify-comp-proj/lib/python3.9/site-packages/matplotlib/quiver.py\": 1670466281.0, \"/home/jstonge/miniconda3/envs/classify-comp-proj/lib/python3.9/site-packages/matplotlib/stackplot.py\": 1670466281.0, \"/home/jstonge/miniconda3/envs/classify-comp-proj/lib/python3.9/site-packages/matplotlib/streamplot.py\": 1670466281.0, \"/home/jstonge/miniconda3/envs/classify-comp-proj/lib/python3.9/site-packages/matplotlib/table.py\": 1670466281.0, \"/home/jstonge/miniconda3/envs/classify-comp-proj/lib/python3.9/site-packages/matplotlib/tri/triangulation.py\": 1670466281.0, \"/home/jstonge/miniconda3/envs/classify-comp-proj/lib/python3.9/site-packages/matplotlib/tri/tricontour.py\": 1670466281.0, \"/home/jstonge/miniconda3/envs/classify-comp-proj/lib/python3.9/site-packages/matplotlib/tri/trifinder.py\": 1670466281.0, \"/home/jstonge/miniconda3/envs/classify-comp-proj/lib/python3.9/site-packages/matplotlib/tri/tritools.py\": 1670466281.0, \"/home/jstonge/miniconda3/envs/classify-comp-proj/lib/python3.9/site-packages/matplotlib/tri/triinterpolate.py\": 1670466281.0, \"/home/jstonge/miniconda3/envs/classify-comp-proj/lib/python3.9/site-packages/matplotlib/tri/tripcolor.py\": 1670466281.0, \"/home/jstonge/miniconda3/envs/classify-comp-proj/lib/python3.9/site-packages/matplotlib/tri/triplot.py\": 1670466281.0, \"/home/jstonge/miniconda3/envs/classify-comp-proj/lib/python3.9/site-packages/matplotlib/tri/trirefine.py\": 1670466281.0, \"/home/jstonge/miniconda3/envs/classify-comp-proj/lib/python3.9/site-packages/matplotlib/tri/__init__.py\": 1670466281.0, \"/home/jstonge/miniconda3/envs/classify-comp-proj/lib/python3.9/site-packages/matplotlib/axis.py\": 1670466280.0, \"/home/jstonge/miniconda3/envs/classify-comp-proj/lib/python3.9/site-packages/matplotlib/axes/_base.py\": 1670466281.0, \"/home/jstonge/miniconda3/envs/classify-comp-proj/lib/python3.9/site-packages/matplotlib/axes/_secondary_axes.py\": 1670466281.0, \"/home/jstonge/miniconda3/envs/classify-comp-proj/lib/python3.9/site-packages/matplotlib/axes/_axes.py\": 1670466281.0, \"/home/jstonge/miniconda3/envs/classify-comp-proj/lib/python3.9/site-packages/matplotlib/_tight_layout.py\": 1670466280.0, \"/home/jstonge/miniconda3/envs/classify-comp-proj/lib/python3.9/site-packages/matplotlib/gridspec.py\": 1670466280.0, \"/home/jstonge/miniconda3/envs/classify-comp-proj/lib/python3.9/site-packages/matplotlib/axes/_subplots.py\": 1670466281.0, \"/home/jstonge/miniconda3/envs/classify-comp-proj/lib/python3.9/site-packages/matplotlib/axes/__init__.py\": 1670466281.0, \"/home/jstonge/miniconda3/envs/classify-comp-proj/lib/python3.9/site-packages/matplotlib/projections/geo.py\": 1670466281.0, \"/home/jstonge/miniconda3/envs/classify-comp-proj/lib/python3.9/site-packages/matplotlib/projections/polar.py\": 1670466281.0, \"/home/jstonge/miniconda3/envs/classify-comp-proj/lib/python3.9/site-packages/mpl_toolkits/mplot3d/proj3d.py\": 1670466281.0, \"/home/jstonge/miniconda3/envs/classify-comp-proj/lib/python3.9/site-packages/mpl_toolkits/mplot3d/art3d.py\": 1670466281.0, \"/home/jstonge/miniconda3/envs/classify-comp-proj/lib/python3.9/site-packages/mpl_toolkits/mplot3d/axis3d.py\": 1670466281.0, \"/home/jstonge/miniconda3/envs/classify-comp-proj/lib/python3.9/site-packages/mpl_toolkits/mplot3d/axes3d.py\": 1670466281.0, \"/home/jstonge/miniconda3/envs/classify-comp-proj/lib/python3.9/site-packages/mpl_toolkits/mplot3d/__init__.py\": 1670466281.0, \"/home/jstonge/miniconda3/envs/classify-comp-proj/lib/python3.9/site-packages/matplotlib/projections/__init__.py\": 1670466281.0, \"/home/jstonge/miniconda3/envs/classify-comp-proj/lib/python3.9/site-packages/matplotlib/_layoutgrid.py\": 1670466280.0, \"/home/jstonge/miniconda3/envs/classify-comp-proj/lib/python3.9/site-packages/matplotlib/_constrained_layout.py\": 1670466280.0, \"/home/jstonge/miniconda3/envs/classify-comp-proj/lib/python3.9/site-packages/matplotlib/layout_engine.py\": 1670466280.0, \"/home/jstonge/miniconda3/envs/classify-comp-proj/lib/python3.9/site-packages/matplotlib/figure.py\": 1670466280.0, \"/home/jstonge/miniconda3/envs/classify-comp-proj/lib/python3.9/site-packages/matplotlib/pyplot.py\": 1670466281.0, \"/home/jstonge/miniconda3/envs/classify-comp-proj/lib/python3.9/site-packages/matplotlib/backends/__init__.py\": 1670466281.0, \"/home/jstonge/miniconda3/envs/classify-comp-proj/lib/python3.9/site-packages/matplotlib/backends/_backend_agg.cpython-39-x86_64-linux-gnu.so\": 1670466284.0, \"/home/jstonge/miniconda3/envs/classify-comp-proj/lib/python3.9/site-packages/matplotlib/backends/backend_agg.py\": 1670466281.0, \"/home/jstonge/.local/lib/python3.9/site-packages/matplotlib_inline/config.py\": 1677455981.8111525, \"/home/jstonge/.local/lib/python3.9/site-packages/matplotlib_inline/backend_inline.py\": 1677455981.8111525, \"/home/jstonge/.local/lib/python3.9/site-packages/matplotlib_inline/__init__.py\": 1677455981.8111525, \"/home/jstonge/miniconda3/envs/classify-comp-proj/lib/python3.9/site-packages/pytz/exceptions.py\": 1671697549.0, \"/home/jstonge/miniconda3/envs/classify-comp-proj/lib/python3.9/site-packages/pytz/lazy.py\": 1671697549.0, \"/home/jstonge/miniconda3/envs/classify-comp-proj/lib/python3.9/site-packages/pytz/tzinfo.py\": 1671697549.0, \"/home/jstonge/miniconda3/envs/classify-comp-proj/lib/python3.9/site-packages/pytz/tzfile.py\": 1671697549.0, \"/home/jstonge/miniconda3/envs/classify-comp-proj/lib/python3.9/site-packages/pytz/__init__.py\": 1671697549.0, \"/home/jstonge/miniconda3/envs/classify-comp-proj/lib/python3.9/site-packages/pandas/_typing.py\": 1669008801.0, \"/home/jstonge/miniconda3/envs/classify-comp-proj/lib/python3.9/site-packages/pandas/_libs/tslibs/np_datetime.cpython-39-x86_64-linux-gnu.so\": 1670425962.0, \"/home/jstonge/miniconda3/envs/classify-comp-proj/lib/python3.9/site-packages/pandas/_libs/tslibs/dtypes.cpython-39-x86_64-linux-gnu.so\": 1670425961.0, \"/home/jstonge/miniconda3/envs/classify-comp-proj/lib/python3.9/site-packages/pandas/_libs/tslibs/base.cpython-39-x86_64-linux-gnu.so\": 1670425961.0, \"/home/jstonge/miniconda3/envs/classify-comp-proj/lib/python3.9/site-packages/pandas/util/_exceptions.py\": 1669008801.0, \"/home/jstonge/miniconda3/envs/classify-comp-proj/lib/python3.9/site-packages/pandas/_libs/tslibs/nattype.cpython-39-x86_64-linux-gnu.so\": 1670425961.0, \"/home/jstonge/miniconda3/envs/classify-comp-proj/lib/python3.9/site-packages/pandas/util/version/__init__.py\": 1661274950.0, \"/home/jstonge/miniconda3/envs/classify-comp-proj/lib/python3.9/site-packages/pandas/compat/_optional.py\": 1669008801.0, \"/home/jstonge/miniconda3/envs/classify-comp-proj/lib/python3.9/zoneinfo/_tzpath.py\": 1669300928.0, \"/home/jstonge/miniconda3/envs/classify-comp-proj/lib/python3.9/zoneinfo/_common.py\": 1669300928.0, \"/home/jstonge/miniconda3/envs/classify-comp-proj/lib/python3.9/lib-dynload/_zoneinfo.cpython-39-x86_64-linux-gnu.so\": 1669300941.0, \"/home/jstonge/miniconda3/envs/classify-comp-proj/lib/python3.9/zoneinfo/__init__.py\": 1669300928.0, \"/home/jstonge/miniconda3/envs/classify-comp-proj/lib/python3.9/site-packages/pandas/_libs/tslibs/timezones.cpython-39-x86_64-linux-gnu.so\": 1670425961.0, \"/home/jstonge/miniconda3/envs/classify-comp-proj/lib/python3.9/site-packages/pandas/_libs/tslibs/tzconversion.cpython-39-x86_64-linux-gnu.so\": 1670425961.0, \"/home/jstonge/miniconda3/envs/classify-comp-proj/lib/python3.9/site-packages/pandas/_libs/tslibs/ccalendar.cpython-39-x86_64-linux-gnu.so\": 1670425962.0, \"/home/jstonge/miniconda3/envs/classify-comp-proj/lib/python3.9/site-packages/pandas/_config/config.py\": 1669008801.0, \"/home/jstonge/miniconda3/envs/classify-comp-proj/lib/python3.9/site-packages/pandas/_config/dates.py\": 1661275008.0, \"/home/jstonge/miniconda3/envs/classify-comp-proj/lib/python3.9/site-packages/pandas/_config/display.py\": 1661274949.0, \"/home/jstonge/miniconda3/envs/classify-comp-proj/lib/python3.9/site-packages/pandas/_config/__init__.py\": 1661274949.0, \"/home/jstonge/miniconda3/envs/classify-comp-proj/lib/python3.9/site-packages/pandas/_config/localization.py\": 1669008801.0, \"/home/jstonge/miniconda3/envs/classify-comp-proj/lib/python3.9/site-packages/pandas/_libs/tslibs/fields.cpython-39-x86_64-linux-gnu.so\": 1670425962.0, \"/home/jstonge/miniconda3/envs/classify-comp-proj/lib/python3.9/site-packages/pandas/_libs/tslibs/timedeltas.cpython-39-x86_64-linux-gnu.so\": 1670425962.0, \"/home/jstonge/miniconda3/envs/classify-comp-proj/lib/python3.9/site-packages/pandas/_libs/tslibs/timestamps.cpython-39-x86_64-linux-gnu.so\": 1670425961.0, \"/home/jstonge/.local/lib/python3.9/site-packages/dateutil/easter.py\": 1677455981.7511516, \"/home/jstonge/miniconda3/envs/classify-comp-proj/lib/python3.9/site-packages/pandas/_libs/properties.cpython-39-x86_64-linux-gnu.so\": 1670425961.0, \"/home/jstonge/miniconda3/envs/classify-comp-proj/lib/python3.9/site-packages/pandas/_libs/tslibs/offsets.cpython-39-x86_64-linux-gnu.so\": 1670425962.0, \"/home/jstonge/miniconda3/envs/classify-comp-proj/lib/python3.9/site-packages/pandas/_libs/tslibs/parsing.cpython-39-x86_64-linux-gnu.so\": 1670425961.0, \"/home/jstonge/miniconda3/envs/classify-comp-proj/lib/python3.9/site-packages/pandas/_libs/tslibs/conversion.cpython-39-x86_64-linux-gnu.so\": 1670425961.0, \"/home/jstonge/miniconda3/envs/classify-comp-proj/lib/python3.9/site-packages/pandas/_libs/tslibs/period.cpython-39-x86_64-linux-gnu.so\": 1670425961.0, \"/home/jstonge/miniconda3/envs/classify-comp-proj/lib/python3.9/site-packages/pandas/_libs/tslibs/vectorized.cpython-39-x86_64-linux-gnu.so\": 1670425962.0, \"/home/jstonge/miniconda3/envs/classify-comp-proj/lib/python3.9/site-packages/pandas/_libs/tslibs/__init__.py\": 1669008801.0, \"/home/jstonge/miniconda3/envs/classify-comp-proj/lib/python3.9/site-packages/pandas/_libs/ops_dispatch.cpython-39-x86_64-linux-gnu.so\": 1670425961.0, \"/home/jstonge/miniconda3/envs/classify-comp-proj/lib/python3.9/site-packages/pandas/_libs/missing.cpython-39-x86_64-linux-gnu.so\": 1670425961.0, \"/home/jstonge/miniconda3/envs/classify-comp-proj/lib/python3.9/site-packages/pandas/_libs/hashtable.cpython-39-x86_64-linux-gnu.so\": 1670425961.0, \"/home/jstonge/miniconda3/envs/classify-comp-proj/lib/python3.9/site-packages/pandas/_libs/algos.cpython-39-x86_64-linux-gnu.so\": 1670425962.0, \"/home/jstonge/miniconda3/envs/classify-comp-proj/lib/python3.9/site-packages/pandas/_libs/interval.cpython-39-x86_64-linux-gnu.so\": 1670425961.0, \"/home/jstonge/miniconda3/envs/classify-comp-proj/lib/python3.9/site-packages/pandas/_libs/__init__.py\": 1661274949.0, \"/home/jstonge/miniconda3/envs/classify-comp-proj/lib/python3.9/site-packages/pandas/util/_decorators.py\": 1669008801.0, \"/home/jstonge/miniconda3/envs/classify-comp-proj/lib/python3.9/site-packages/pandas/core/__init__.py\": 1661274949.0, \"/home/jstonge/miniconda3/envs/classify-comp-proj/lib/python3.9/site-packages/pandas/core/util/__init__.py\": 1661274949.0, \"/home/jstonge/miniconda3/envs/classify-comp-proj/lib/python3.9/site-packages/pandas/_libs/tslib.cpython-39-x86_64-linux-gnu.so\": 1670425962.0, \"/home/jstonge/miniconda3/envs/classify-comp-proj/lib/python3.9/site-packages/pandas/_libs/lib.cpython-39-x86_64-linux-gnu.so\": 1670425962.0, \"/home/jstonge/miniconda3/envs/classify-comp-proj/lib/python3.9/site-packages/pandas/_libs/hashing.cpython-39-x86_64-linux-gnu.so\": 1670425961.0, \"/home/jstonge/miniconda3/envs/classify-comp-proj/lib/python3.9/site-packages/pandas/core/dtypes/__init__.py\": 1661274949.0, \"/home/jstonge/miniconda3/envs/classify-comp-proj/lib/python3.9/site-packages/pandas/errors/__init__.py\": 1669008801.0, \"/home/jstonge/miniconda3/envs/classify-comp-proj/lib/python3.9/site-packages/pandas/core/dtypes/generic.py\": 1669008801.0, \"/home/jstonge/miniconda3/envs/classify-comp-proj/lib/python3.9/site-packages/pandas/core/dtypes/base.py\": 1669008801.0, \"/home/jstonge/miniconda3/envs/classify-comp-proj/lib/python3.9/site-packages/pandas/core/dtypes/inference.py\": 1669008801.0, \"/home/jstonge/miniconda3/envs/classify-comp-proj/lib/python3.9/site-packages/pandas/core/dtypes/dtypes.py\": 1669008801.0, \"/home/jstonge/miniconda3/envs/classify-comp-proj/lib/python3.9/site-packages/pandas/core/dtypes/common.py\": 1669008801.0, \"/home/jstonge/miniconda3/envs/classify-comp-proj/lib/python3.9/site-packages/pandas/core/util/hashing.py\": 1661274949.0, \"/home/jstonge/miniconda3/envs/classify-comp-proj/lib/python3.9/site-packages/pandas/util/__init__.py\": 1669008801.0, \"/home/jstonge/miniconda3/envs/classify-comp-proj/lib/python3.9/site-packages/pandas/compat/numpy/__init__.py\": 1661275008.0, \"/home/jstonge/miniconda3/envs/classify-comp-proj/lib/python3.9/site-packages/pandas/compat/pyarrow.py\": 1669008801.0, \"/home/jstonge/miniconda3/envs/classify-comp-proj/lib/python3.9/site-packages/pandas/compat/__init__.py\": 1669008801.0, \"/home/jstonge/miniconda3/envs/classify-comp-proj/lib/python3.9/site-packages/pandas/core/config_init.py\": 1669008801.0, \"/home/jstonge/miniconda3/envs/classify-comp-proj/lib/python3.9/site-packages/pandas/core/dtypes/missing.py\": 1669008801.0, \"/home/jstonge/miniconda3/envs/classify-comp-proj/lib/python3.9/site-packages/pandas/util/_validators.py\": 1669008801.0, \"/home/jstonge/miniconda3/envs/classify-comp-proj/lib/python3.9/site-packages/pandas/core/dtypes/astype.py\": 1669008801.0, \"/home/jstonge/miniconda3/envs/classify-comp-proj/lib/python3.9/site-packages/pandas/core/dtypes/cast.py\": 1669008801.0, \"/home/jstonge/miniconda3/envs/classify-comp-proj/lib/python3.9/site-packages/pandas/core/dtypes/concat.py\": 1669008801.0, \"/home/jstonge/miniconda3/envs/classify-comp-proj/lib/python3.9/site-packages/pandas/core/array_algos/__init__.py\": 1661274949.0, \"/home/jstonge/miniconda3/envs/classify-comp-proj/lib/python3.9/site-packages/pandas/core/common.py\": 1669008801.0, \"/home/jstonge/miniconda3/envs/classify-comp-proj/lib/python3.9/site-packages/pandas/core/construction.py\": 1669008801.0, \"/home/jstonge/miniconda3/envs/classify-comp-proj/lib/python3.9/site-packages/pandas/core/array_algos/take.py\": 1669008801.0, \"/home/jstonge/miniconda3/envs/classify-comp-proj/lib/python3.9/site-packages/pandas/core/indexers/utils.py\": 1669008801.0, \"/home/jstonge/miniconda3/envs/classify-comp-proj/lib/python3.9/site-packages/pandas/core/indexers/__init__.py\": 1669008801.0, \"/home/jstonge/miniconda3/envs/classify-comp-proj/lib/python3.9/site-packages/pandas/core/algorithms.py\": 1669008801.0, \"/home/jstonge/miniconda3/envs/classify-comp-proj/lib/python3.9/site-packages/pandas/core/roperator.py\": 1661275008.0, \"/home/jstonge/miniconda3/envs/classify-comp-proj/lib/python3.9/site-packages/pandas/_libs/ops.cpython-39-x86_64-linux-gnu.so\": 1670425961.0, \"/home/jstonge/miniconda3/envs/classify-comp-proj/lib/python3.9/site-packages/pandas/core/computation/__init__.py\": 1661274949.0, \"/home/jstonge/miniconda3/envs/classify-comp-proj/lib/python3.9/site-packages/numexpr/interpreter.cpython-39-x86_64-linux-gnu.so\": 1668714039.0, \"/home/jstonge/miniconda3/envs/classify-comp-proj/lib/python3.9/site-packages/numexpr/expressions.py\": 1668714038.0, \"/home/jstonge/miniconda3/envs/classify-comp-proj/lib/python3.9/site-packages/numexpr/version.py\": 1668714038.0, \"/home/jstonge/miniconda3/envs/classify-comp-proj/lib/python3.9/site-packages/numexpr/utils.py\": 1668714038.0, \"/home/jstonge/miniconda3/envs/classify-comp-proj/lib/python3.9/site-packages/numexpr/necompiler.py\": 1668714038.0, \"/home/jstonge/miniconda3/envs/classify-comp-proj/lib/python3.9/site-packages/numexpr/__init__.py\": 1668714038.0, \"/home/jstonge/miniconda3/envs/classify-comp-proj/lib/python3.9/site-packages/pandas/core/computation/check.py\": 1661275008.0, \"/home/jstonge/miniconda3/envs/classify-comp-proj/lib/python3.9/site-packages/pandas/core/computation/expressions.py\": 1669008801.0, \"/home/jstonge/miniconda3/envs/classify-comp-proj/lib/python3.9/site-packages/pandas/core/ops/missing.py\": 1661275008.0, \"/home/jstonge/miniconda3/envs/classify-comp-proj/lib/python3.9/site-packages/pandas/core/ops/dispatch.py\": 1661275008.0, \"/home/jstonge/miniconda3/envs/classify-comp-proj/lib/python3.9/site-packages/pandas/core/ops/invalid.py\": 1661275008.0, \"/home/jstonge/miniconda3/envs/classify-comp-proj/lib/python3.9/site-packages/pandas/core/ops/array_ops.py\": 1669008801.0, \"/home/jstonge/miniconda3/envs/classify-comp-proj/lib/python3.9/site-packages/pandas/core/ops/common.py\": 1669008801.0, \"/home/jstonge/miniconda3/envs/classify-comp-proj/lib/python3.9/site-packages/pandas/core/ops/docstrings.py\": 1669008801.0, \"/home/jstonge/miniconda3/envs/classify-comp-proj/lib/python3.9/site-packages/pandas/core/ops/mask_ops.py\": 1661274949.0, \"/home/jstonge/miniconda3/envs/classify-comp-proj/lib/python3.9/site-packages/pandas/core/ops/methods.py\": 1669008801.0, \"/home/jstonge/miniconda3/envs/classify-comp-proj/lib/python3.9/site-packages/pandas/core/ops/__init__.py\": 1669008801.0, \"/home/jstonge/miniconda3/envs/classify-comp-proj/lib/python3.9/site-packages/pandas/core/arraylike.py\": 1669008801.0, \"/home/jstonge/miniconda3/envs/classify-comp-proj/lib/python3.9/site-packages/pandas/compat/numpy/function.py\": 1669008801.0, \"/home/jstonge/miniconda3/envs/classify-comp-proj/lib/python3.9/site-packages/pandas/core/missing.py\": 1669008801.0, \"/home/jstonge/miniconda3/envs/classify-comp-proj/lib/python3.9/site-packages/pandas/core/array_algos/quantile.py\": 1661274949.0, \"/home/jstonge/miniconda3/envs/classify-comp-proj/lib/python3.9/site-packages/pandas/core/sorting.py\": 1669008801.0, \"/home/jstonge/miniconda3/envs/classify-comp-proj/lib/python3.9/site-packages/pandas/core/arrays/base.py\": 1669008801.0, \"/home/jstonge/miniconda3/envs/classify-comp-proj/lib/python3.9/site-packages/pandas/core/arrays/arrow/array.py\": 1669008801.0, \"/home/jstonge/miniconda3/envs/classify-comp-proj/lib/python3.9/site-packages/pandas/core/arrays/arrow/dtype.py\": 1669008801.0, \"/home/jstonge/miniconda3/envs/classify-comp-proj/lib/python3.9/site-packages/pandas/core/arrays/arrow/__init__.py\": 1661275008.0, \"/home/jstonge/miniconda3/envs/classify-comp-proj/lib/python3.9/site-packages/bottleneck/benchmark/__init__.py\": 1657175964.0, \"/home/jstonge/miniconda3/envs/classify-comp-proj/lib/python3.9/site-packages/bottleneck/benchmark/autotimeit.py\": 1657175964.0, \"/home/jstonge/miniconda3/envs/classify-comp-proj/lib/python3.9/site-packages/bottleneck/benchmark/bench.py\": 1657175964.0, \"/home/jstonge/miniconda3/envs/classify-comp-proj/lib/python3.9/site-packages/bottleneck/benchmark/bench_detailed.py\": 1657175964.0, \"/home/jstonge/miniconda3/envs/classify-comp-proj/lib/python3.9/site-packages/bottleneck/tests/__init__.py\": 1657175964.0, \"/home/jstonge/miniconda3/envs/classify-comp-proj/lib/python3.9/site-packages/bottleneck/tests/util.py\": 1657175964.0, \"/home/jstonge/miniconda3/envs/classify-comp-proj/lib/python3.9/site-packages/bottleneck/slow/reduce.py\": 1657175964.0, \"/home/jstonge/miniconda3/envs/classify-comp-proj/lib/python3.9/site-packages/bottleneck/slow/nonreduce.py\": 1657175964.0, \"/home/jstonge/miniconda3/envs/classify-comp-proj/lib/python3.9/site-packages/bottleneck/slow/nonreduce_axis.py\": 1657175964.0, \"/home/jstonge/miniconda3/envs/classify-comp-proj/lib/python3.9/site-packages/bottleneck/slow/move.py\": 1657175964.0, \"/home/jstonge/miniconda3/envs/classify-comp-proj/lib/python3.9/site-packages/bottleneck/slow/__init__.py\": 1657175964.0, \"/home/jstonge/miniconda3/envs/classify-comp-proj/lib/python3.9/site-packages/bottleneck/_pytesttester.py\": 1657175964.0, \"/home/jstonge/miniconda3/envs/classify-comp-proj/lib/python3.9/site-packages/bottleneck/move.cpython-39-x86_64-linux-gnu.so\": 1657175966.0, \"/home/jstonge/miniconda3/envs/classify-comp-proj/lib/python3.9/site-packages/bottleneck/nonreduce.cpython-39-x86_64-linux-gnu.so\": 1657175965.0, \"/home/jstonge/miniconda3/envs/classify-comp-proj/lib/python3.9/site-packages/bottleneck/nonreduce_axis.cpython-39-x86_64-linux-gnu.so\": 1657175966.0, \"/home/jstonge/miniconda3/envs/classify-comp-proj/lib/python3.9/site-packages/bottleneck/reduce.cpython-39-x86_64-linux-gnu.so\": 1657175966.0, \"/home/jstonge/miniconda3/envs/classify-comp-proj/lib/python3.9/site-packages/bottleneck/_version.py\": 1657175964.0, \"/home/jstonge/miniconda3/envs/classify-comp-proj/lib/python3.9/site-packages/bottleneck/__init__.py\": 1657175964.0, \"/home/jstonge/miniconda3/envs/classify-comp-proj/lib/python3.9/site-packages/pandas/core/nanops.py\": 1669008801.0, \"/home/jstonge/miniconda3/envs/classify-comp-proj/lib/python3.9/site-packages/pandas/core/array_algos/masked_reductions.py\": 1669008801.0, \"/home/jstonge/miniconda3/envs/classify-comp-proj/lib/python3.9/site-packages/pandas/core/arrays/masked.py\": 1669008801.0, \"/home/jstonge/miniconda3/envs/classify-comp-proj/lib/python3.9/site-packages/pandas/core/arrays/boolean.py\": 1661274949.0, \"/home/jstonge/miniconda3/envs/classify-comp-proj/lib/python3.9/site-packages/pandas/_libs/arrays.cpython-39-x86_64-linux-gnu.so\": 1670425962.0, \"/home/jstonge/miniconda3/envs/classify-comp-proj/lib/python3.9/site-packages/pandas/core/accessor.py\": 1669008801.0, \"/home/jstonge/miniconda3/envs/classify-comp-proj/lib/python3.9/site-packages/pandas/core/array_algos/transforms.py\": 1669008801.0, \"/home/jstonge/miniconda3/envs/classify-comp-proj/lib/python3.9/site-packages/pandas/core/arrays/_mixins.py\": 1669008801.0, \"/home/jstonge/miniconda3/envs/classify-comp-proj/lib/python3.9/site-packages/pandas/core/base.py\": 1669008801.0, \"/home/jstonge/miniconda3/envs/classify-comp-proj/lib/python3.9/site-packages/pandas/core/strings/accessor.py\": 1669008801.0, \"/home/jstonge/miniconda3/envs/classify-comp-proj/lib/python3.9/site-packages/pandas/core/strings/base.py\": 1669008801.0, \"/home/jstonge/miniconda3/envs/classify-comp-proj/lib/python3.9/site-packages/pandas/core/strings/__init__.py\": 1661274949.0, \"/home/jstonge/miniconda3/envs/classify-comp-proj/lib/python3.9/site-packages/pandas/core/strings/object_array.py\": 1669008801.0, \"/home/jstonge/miniconda3/envs/classify-comp-proj/lib/python3.9/site-packages/pandas/io/__init__.py\": 1661274949.0, \"/home/jstonge/miniconda3/envs/classify-comp-proj/lib/python3.9/site-packages/pandas/io/formats/__init__.py\": 1661274949.0, \"/home/jstonge/miniconda3/envs/classify-comp-proj/lib/python3.9/site-packages/pandas/io/formats/console.py\": 1661274949.0, \"/home/jstonge/miniconda3/envs/classify-comp-proj/lib/python3.9/site-packages/pandas/core/arrays/categorical.py\": 1669008801.0, \"/home/jstonge/miniconda3/envs/classify-comp-proj/lib/python3.9/site-packages/pandas/core/arrays/numeric.py\": 1669008801.0, \"/home/jstonge/miniconda3/envs/classify-comp-proj/lib/python3.9/site-packages/pandas/core/arrays/integer.py\": 1661274949.0, \"/home/jstonge/miniconda3/envs/classify-comp-proj/lib/python3.9/site-packages/pandas/tseries/__init__.py\": 1661274950.0, \"/home/jstonge/miniconda3/envs/classify-comp-proj/lib/python3.9/site-packages/pandas/tseries/frequencies.py\": 1669008801.0, \"/home/jstonge/miniconda3/envs/classify-comp-proj/lib/python3.9/site-packages/pandas/core/arrays/datetimelike.py\": 1669008801.0, \"/home/jstonge/miniconda3/envs/classify-comp-proj/lib/python3.9/site-packages/pandas/core/arrays/_ranges.py\": 1669008801.0, \"/home/jstonge/miniconda3/envs/classify-comp-proj/lib/python3.9/site-packages/pandas/tseries/offsets.py\": 1661275008.0, \"/home/jstonge/miniconda3/envs/classify-comp-proj/lib/python3.9/site-packages/pandas/core/arrays/datetimes.py\": 1669008801.0, \"/home/jstonge/miniconda3/envs/classify-comp-proj/lib/python3.9/site-packages/pandas/core/arrays/floating.py\": 1661274949.0, \"/home/jstonge/miniconda3/envs/classify-comp-proj/lib/python3.9/site-packages/pandas/core/indexes/__init__.py\": 1661274949.0, \"/home/jstonge/miniconda3/envs/classify-comp-proj/lib/python3.9/site-packages/pandas/_libs/index.cpython-39-x86_64-linux-gnu.so\": 1670425962.0, \"/home/jstonge/miniconda3/envs/classify-comp-proj/lib/python3.9/site-packages/pandas/_libs/join.cpython-39-x86_64-linux-gnu.so\": 1670425962.0, \"/home/jstonge/miniconda3/envs/classify-comp-proj/lib/python3.9/site-packages/pandas/core/array_algos/putmask.py\": 1661275008.0, \"/home/jstonge/miniconda3/envs/classify-comp-proj/lib/python3.9/site-packages/pandas/_libs/sparse.cpython-39-x86_64-linux-gnu.so\": 1670425961.0, \"/home/jstonge/miniconda3/envs/classify-comp-proj/lib/python3.9/site-packages/pandas/core/arrays/sparse/dtype.py\": 1666188739.0, \"/home/jstonge/miniconda3/envs/classify-comp-proj/lib/python3.9/site-packages/pandas/io/formats/printing.py\": 1669008801.0, \"/home/jstonge/miniconda3/envs/classify-comp-proj/lib/python3.9/site-packages/pandas/core/arrays/sparse/array.py\": 1669008801.0, \"/home/jstonge/miniconda3/envs/classify-comp-proj/lib/python3.9/site-packages/pandas/core/arrays/sparse/accessor.py\": 1669008801.0, \"/home/jstonge/miniconda3/envs/classify-comp-proj/lib/python3.9/site-packages/pandas/core/arrays/sparse/__init__.py\": 1661274949.0, \"/home/jstonge/miniconda3/envs/classify-comp-proj/lib/python3.9/site-packages/pandas/core/arrays/numpy_.py\": 1669008801.0, \"/home/jstonge/miniconda3/envs/classify-comp-proj/lib/python3.9/site-packages/pandas/core/arrays/string_.py\": 1669008801.0, \"/home/jstonge/miniconda3/envs/classify-comp-proj/lib/python3.9/site-packages/pandas/core/indexes/frozen.py\": 1669008801.0, \"/home/jstonge/miniconda3/envs/classify-comp-proj/lib/python3.9/site-packages/pandas/core/indexes/base.py\": 1669008801.0, \"/home/jstonge/miniconda3/envs/classify-comp-proj/lib/python3.9/site-packages/pandas/core/arrays/interval.py\": 1669008801.0, \"/home/jstonge/miniconda3/envs/classify-comp-proj/lib/python3.9/site-packages/pandas/core/arrays/period.py\": 1669008801.0, \"/home/jstonge/miniconda3/envs/classify-comp-proj/lib/python3.9/site-packages/pandas/core/arrays/string_arrow.py\": 1669008801.0, \"/home/jstonge/miniconda3/envs/classify-comp-proj/lib/python3.9/site-packages/pandas/core/arrays/timedeltas.py\": 1669008801.0, \"/home/jstonge/miniconda3/envs/classify-comp-proj/lib/python3.9/site-packages/pandas/core/arrays/__init__.py\": 1661275008.0, \"/home/jstonge/miniconda3/envs/classify-comp-proj/lib/python3.9/site-packages/pandas/core/flags.py\": 1661275008.0, \"/home/jstonge/miniconda3/envs/classify-comp-proj/lib/python3.9/site-packages/pandas/_libs/reduction.cpython-39-x86_64-linux-gnu.so\": 1670425962.0, \"/home/jstonge/miniconda3/envs/classify-comp-proj/lib/python3.9/site-packages/pandas/core/apply.py\": 1669008801.0, \"/home/jstonge/miniconda3/envs/classify-comp-proj/lib/python3.9/site-packages/pandas/_libs/indexing.cpython-39-x86_64-linux-gnu.so\": 1670425962.0, \"/home/jstonge/miniconda3/envs/classify-comp-proj/lib/python3.9/site-packages/pandas/core/indexes/extension.py\": 1669008801.0, \"/home/jstonge/miniconda3/envs/classify-comp-proj/lib/python3.9/site-packages/pandas/core/indexes/category.py\": 1669008801.0, \"/home/jstonge/miniconda3/envs/classify-comp-proj/lib/python3.9/site-packages/pandas/core/indexes/numeric.py\": 1669008801.0, \"/home/jstonge/miniconda3/envs/classify-comp-proj/lib/python3.9/site-packages/pandas/core/indexes/range.py\": 1669008801.0, \"/home/jstonge/miniconda3/envs/classify-comp-proj/lib/python3.9/site-packages/pandas/core/tools/__init__.py\": 1661274949.0, \"/home/jstonge/miniconda3/envs/classify-comp-proj/lib/python3.9/site-packages/pandas/core/tools/timedeltas.py\": 1669008801.0, \"/home/jstonge/miniconda3/envs/classify-comp-proj/lib/python3.9/site-packages/pandas/core/indexes/datetimelike.py\": 1669008801.0, \"/home/jstonge/miniconda3/envs/classify-comp-proj/lib/python3.9/site-packages/pandas/core/tools/times.py\": 1669008801.0, \"/home/jstonge/miniconda3/envs/classify-comp-proj/lib/python3.9/site-packages/pandas/core/indexes/datetimes.py\": 1669008801.0, \"/home/jstonge/miniconda3/envs/classify-comp-proj/lib/python3.9/site-packages/pandas/core/indexes/multi.py\": 1669008801.0, \"/home/jstonge/miniconda3/envs/classify-comp-proj/lib/python3.9/site-packages/pandas/core/indexes/timedeltas.py\": 1669008801.0, \"/home/jstonge/miniconda3/envs/classify-comp-proj/lib/python3.9/site-packages/pandas/core/indexes/interval.py\": 1669008801.0, \"/home/jstonge/miniconda3/envs/classify-comp-proj/lib/python3.9/site-packages/pandas/core/indexes/period.py\": 1669008801.0, \"/home/jstonge/miniconda3/envs/classify-comp-proj/lib/python3.9/site-packages/pandas/core/indexes/api.py\": 1669008801.0, \"/home/jstonge/miniconda3/envs/classify-comp-proj/lib/python3.9/site-packages/pandas/core/indexing.py\": 1669008801.0, \"/home/jstonge/miniconda3/envs/classify-comp-proj/lib/python3.9/site-packages/pandas/core/sample.py\": 1669008801.0, \"/home/jstonge/miniconda3/envs/classify-comp-proj/lib/python3.9/site-packages/pandas/core/array_algos/replace.py\": 1661274949.0, \"/home/jstonge/miniconda3/envs/classify-comp-proj/lib/python3.9/site-packages/pandas/core/reshape/__init__.py\": 1661274949.0, \"/home/jstonge/miniconda3/envs/classify-comp-proj/lib/python3.9/site-packages/pandas/_libs/internals.cpython-39-x86_64-linux-gnu.so\": 1670425961.0, \"/home/jstonge/miniconda3/envs/classify-comp-proj/lib/python3.9/site-packages/pandas/_libs/writers.cpython-39-x86_64-linux-gnu.so\": 1670425961.0, \"/home/jstonge/miniconda3/envs/classify-comp-proj/lib/python3.9/site-packages/pandas/core/internals/blocks.py\": 1669008801.0, \"/home/jstonge/miniconda3/envs/classify-comp-proj/lib/python3.9/site-packages/pandas/core/internals/api.py\": 1669008801.0, \"/home/jstonge/miniconda3/envs/classify-comp-proj/lib/python3.9/site-packages/pandas/core/internals/base.py\": 1669008801.0, \"/home/jstonge/miniconda3/envs/classify-comp-proj/lib/python3.9/site-packages/pandas/core/internals/array_manager.py\": 1669008801.0, \"/home/jstonge/miniconda3/envs/classify-comp-proj/lib/python3.9/site-packages/pandas/core/internals/ops.py\": 1669008801.0, \"/home/jstonge/miniconda3/envs/classify-comp-proj/lib/python3.9/site-packages/pandas/core/internals/managers.py\": 1669008801.0, \"/home/jstonge/miniconda3/envs/classify-comp-proj/lib/python3.9/site-packages/pandas/core/internals/concat.py\": 1669008801.0, \"/home/jstonge/miniconda3/envs/classify-comp-proj/lib/python3.9/site-packages/pandas/core/internals/__init__.py\": 1669008801.0, \"/home/jstonge/miniconda3/envs/classify-comp-proj/lib/python3.9/site-packages/pandas/core/reshape/concat.py\": 1669008801.0, \"/home/jstonge/miniconda3/envs/classify-comp-proj/lib/python3.9/lib-dynload/mmap.cpython-39-x86_64-linux-gnu.so\": 1669300940.0, \"/home/jstonge/miniconda3/envs/classify-comp-proj/lib/python3.9/tarfile.py\": 1669300926.0, \"/home/jstonge/miniconda3/envs/classify-comp-proj/lib/python3.9/site-packages/pandas/core/shared_docs.py\": 1669008801.0, \"/home/jstonge/miniconda3/envs/classify-comp-proj/lib/python3.9/site-packages/pandas/io/common.py\": 1669008801.0, \"/home/jstonge/miniconda3/envs/classify-comp-proj/lib/python3.9/site-packages/pandas/io/formats/format.py\": 1669008801.0, \"/home/jstonge/miniconda3/envs/classify-comp-proj/lib/python3.9/site-packages/pandas/core/describe.py\": 1669008801.0, \"/home/jstonge/miniconda3/envs/classify-comp-proj/lib/python3.9/site-packages/pandas/core/internals/construction.py\": 1669008801.0, \"/home/jstonge/miniconda3/envs/classify-comp-proj/lib/python3.9/site-packages/pandas/_libs/window/__init__.py\": 1661274949.0, \"/home/jstonge/miniconda3/envs/classify-comp-proj/lib/python3.9/site-packages/pandas/_libs/window/aggregations.cpython-39-x86_64-linux-gnu.so\": 1670425962.0, \"/home/jstonge/miniconda3/envs/classify-comp-proj/lib/python3.9/site-packages/pandas/_libs/window/indexers.cpython-39-x86_64-linux-gnu.so\": 1670425961.0, \"/home/jstonge/miniconda3/envs/classify-comp-proj/lib/python3.9/site-packages/pandas/core/indexers/objects.py\": 1661275008.0, \"/home/jstonge/miniconda3/envs/classify-comp-proj/lib/python3.9/site-packages/pandas/core/util/numba_.py\": 1661274949.0, \"/home/jstonge/miniconda3/envs/classify-comp-proj/lib/python3.9/site-packages/pandas/core/window/common.py\": 1669008801.0, \"/home/jstonge/miniconda3/envs/classify-comp-proj/lib/python3.9/site-packages/pandas/core/window/doc.py\": 1669008801.0, \"/home/jstonge/miniconda3/envs/classify-comp-proj/lib/python3.9/site-packages/pandas/core/window/numba_.py\": 1661274949.0, \"/home/jstonge/miniconda3/envs/classify-comp-proj/lib/python3.9/site-packages/pandas/core/window/online.py\": 1661275008.0, \"/home/jstonge/miniconda3/envs/classify-comp-proj/lib/python3.9/site-packages/pandas/core/_numba/__init__.py\": 1661274949.0, \"/home/jstonge/miniconda3/envs/classify-comp-proj/lib/python3.9/site-packages/pandas/core/_numba/executor.py\": 1661274949.0, \"/home/jstonge/miniconda3/envs/classify-comp-proj/lib/python3.9/site-packages/pandas/core/window/rolling.py\": 1669008801.0, \"/home/jstonge/miniconda3/envs/classify-comp-proj/lib/python3.9/site-packages/pandas/core/window/ewm.py\": 1669008801.0, \"/home/jstonge/miniconda3/envs/classify-comp-proj/lib/python3.9/site-packages/pandas/core/window/expanding.py\": 1669008801.0, \"/home/jstonge/miniconda3/envs/classify-comp-proj/lib/python3.9/site-packages/pandas/core/window/__init__.py\": 1661274949.0, \"/home/jstonge/miniconda3/envs/classify-comp-proj/lib/python3.9/site-packages/pandas/core/generic.py\": 1669008801.0, \"/home/jstonge/miniconda3/envs/classify-comp-proj/lib/python3.9/site-packages/pandas/core/reshape/util.py\": 1666188739.0, \"/home/jstonge/miniconda3/envs/classify-comp-proj/lib/python3.9/site-packages/pandas/core/tools/numeric.py\": 1669008801.0, \"/home/jstonge/miniconda3/envs/classify-comp-proj/lib/python3.9/site-packages/pandas/core/reshape/melt.py\": 1669008801.0, \"/home/jstonge/miniconda3/envs/classify-comp-proj/lib/python3.9/site-packages/pandas/_libs/reshape.cpython-39-x86_64-linux-gnu.so\": 1670425962.0, \"/home/jstonge/miniconda3/envs/classify-comp-proj/lib/python3.9/site-packages/pandas/core/indexes/accessors.py\": 1669008801.0, \"/home/jstonge/miniconda3/envs/classify-comp-proj/lib/python3.9/site-packages/pandas/_libs/tslibs/strptime.cpython-39-x86_64-linux-gnu.so\": 1670425961.0, \"/home/jstonge/miniconda3/envs/classify-comp-proj/lib/python3.9/site-packages/pandas/arrays/__init__.py\": 1661275008.0, \"/home/jstonge/miniconda3/envs/classify-comp-proj/lib/python3.9/site-packages/pandas/core/tools/datetimes.py\": 1669008801.0, \"/home/jstonge/miniconda3/envs/classify-comp-proj/lib/python3.9/site-packages/pandas/io/formats/info.py\": 1669008801.0, \"/home/jstonge/miniconda3/envs/classify-comp-proj/lib/python3.9/site-packages/pandas/plotting/_core.py\": 1669008801.0, \"/home/jstonge/miniconda3/envs/classify-comp-proj/lib/python3.9/site-packages/pandas/plotting/_misc.py\": 1669008801.0, \"/home/jstonge/miniconda3/envs/classify-comp-proj/lib/python3.9/site-packages/pandas/plotting/__init__.py\": 1661274949.0, \"/home/jstonge/miniconda3/envs/classify-comp-proj/lib/python3.9/site-packages/pandas/core/series.py\": 1669008801.0, \"/home/jstonge/miniconda3/envs/classify-comp-proj/lib/python3.9/site-packages/pandas/core/frame.py\": 1669008801.0, \"/home/jstonge/miniconda3/envs/classify-comp-proj/lib/python3.9/site-packages/pandas/core/groupby/base.py\": 1669008801.0, \"/home/jstonge/miniconda3/envs/classify-comp-proj/lib/python3.9/site-packages/pandas/_libs/groupby.cpython-39-x86_64-linux-gnu.so\": 1670425961.0, \"/home/jstonge/miniconda3/envs/classify-comp-proj/lib/python3.9/site-packages/pandas/core/groupby/numba_.py\": 1661274949.0, \"/home/jstonge/miniconda3/envs/classify-comp-proj/lib/python3.9/site-packages/pandas/core/groupby/categorical.py\": 1669008801.0, \"/home/jstonge/miniconda3/envs/classify-comp-proj/lib/python3.9/site-packages/pandas/core/groupby/grouper.py\": 1669008801.0, \"/home/jstonge/miniconda3/envs/classify-comp-proj/lib/python3.9/site-packages/pandas/core/groupby/ops.py\": 1669008801.0, \"/home/jstonge/miniconda3/envs/classify-comp-proj/lib/python3.9/site-packages/pandas/core/groupby/indexing.py\": 1669008801.0, \"/home/jstonge/miniconda3/envs/classify-comp-proj/lib/python3.9/site-packages/pandas/core/groupby/groupby.py\": 1669008801.0, \"/home/jstonge/miniconda3/envs/classify-comp-proj/lib/python3.9/site-packages/pandas/core/groupby/generic.py\": 1669008801.0, \"/home/jstonge/miniconda3/envs/classify-comp-proj/lib/python3.9/site-packages/pandas/core/groupby/__init__.py\": 1661274949.0, \"/home/jstonge/miniconda3/envs/classify-comp-proj/lib/python3.9/site-packages/pandas/core/api.py\": 1661275008.0, \"/home/jstonge/miniconda3/envs/classify-comp-proj/lib/python3.9/site-packages/pandas/tseries/api.py\": 1669008801.0, \"/home/jstonge/miniconda3/envs/classify-comp-proj/lib/python3.9/site-packages/pandas/core/computation/common.py\": 1661275008.0, \"/home/jstonge/miniconda3/envs/classify-comp-proj/lib/python3.9/site-packages/pandas/core/computation/align.py\": 1666188739.0, \"/home/jstonge/miniconda3/envs/classify-comp-proj/lib/python3.9/site-packages/pandas/compat/chainmap.py\": 1661275008.0, \"/home/jstonge/miniconda3/envs/classify-comp-proj/lib/python3.9/site-packages/pandas/core/computation/scope.py\": 1669008801.0, \"/home/jstonge/miniconda3/envs/classify-comp-proj/lib/python3.9/site-packages/pandas/core/computation/ops.py\": 1669008801.0, \"/home/jstonge/miniconda3/envs/classify-comp-proj/lib/python3.9/site-packages/pandas/core/computation/engines.py\": 1669008801.0, \"/home/jstonge/miniconda3/envs/classify-comp-proj/lib/python3.9/site-packages/pandas/core/computation/parsing.py\": 1669008801.0, \"/home/jstonge/miniconda3/envs/classify-comp-proj/lib/python3.9/site-packages/pandas/core/computation/expr.py\": 1669008801.0, \"/home/jstonge/miniconda3/envs/classify-comp-proj/lib/python3.9/site-packages/pandas/core/computation/eval.py\": 1669008801.0, \"/home/jstonge/miniconda3/envs/classify-comp-proj/lib/python3.9/site-packages/pandas/core/computation/api.py\": 1661274949.0, \"/home/jstonge/miniconda3/envs/classify-comp-proj/lib/python3.9/site-packages/pandas/core/reshape/encoding.py\": 1669008801.0, \"/home/jstonge/miniconda3/envs/classify-comp-proj/lib/python3.9/site-packages/pandas/core/reshape/merge.py\": 1669008801.0, \"/home/jstonge/miniconda3/envs/classify-comp-proj/lib/python3.9/site-packages/pandas/core/reshape/pivot.py\": 1669008801.0, \"/home/jstonge/miniconda3/envs/classify-comp-proj/lib/python3.9/site-packages/pandas/core/reshape/tile.py\": 1669008801.0, \"/home/jstonge/miniconda3/envs/classify-comp-proj/lib/python3.9/site-packages/pandas/core/reshape/api.py\": 1661274949.0, \"/home/jstonge/miniconda3/envs/classify-comp-proj/lib/python3.9/site-packages/pandas/api/extensions/__init__.py\": 1661274949.0, \"/home/jstonge/miniconda3/envs/classify-comp-proj/lib/python3.9/site-packages/pandas/api/indexers/__init__.py\": 1661274949.0, \"/home/jstonge/miniconda3/envs/classify-comp-proj/lib/python3.9/site-packages/pandas/core/interchange/__init__.py\": 1661275008.0, \"/home/jstonge/miniconda3/envs/classify-comp-proj/lib/python3.9/site-packages/pandas/core/interchange/dataframe_protocol.py\": 1669008801.0, \"/home/jstonge/miniconda3/envs/classify-comp-proj/lib/python3.9/site-packages/pandas/core/dtypes/api.py\": 1669008801.0, \"/home/jstonge/miniconda3/envs/classify-comp-proj/lib/python3.9/site-packages/pandas/api/types/__init__.py\": 1661274949.0, \"/home/jstonge/miniconda3/envs/classify-comp-proj/lib/python3.9/site-packages/pandas/core/interchange/buffer.py\": 1661275008.0, \"/home/jstonge/miniconda3/envs/classify-comp-proj/lib/python3.9/site-packages/pandas/core/interchange/utils.py\": 1669008801.0, \"/home/jstonge/miniconda3/envs/classify-comp-proj/lib/python3.9/site-packages/pandas/core/interchange/column.py\": 1669008801.0, \"/home/jstonge/miniconda3/envs/classify-comp-proj/lib/python3.9/site-packages/pandas/core/interchange/from_dataframe.py\": 1669008801.0, \"/home/jstonge/miniconda3/envs/classify-comp-proj/lib/python3.9/site-packages/pandas/api/interchange/__init__.py\": 1661275008.0, \"/home/jstonge/miniconda3/envs/classify-comp-proj/lib/python3.9/site-packages/pandas/api/__init__.py\": 1661275008.0, \"/home/jstonge/miniconda3/envs/classify-comp-proj/lib/python3.9/site-packages/pandas/_testing/_random.py\": 1669008801.0, \"/home/jstonge/miniconda3/envs/classify-comp-proj/lib/python3.9/site-packages/pandas/_testing/contexts.py\": 1669008801.0, \"/home/jstonge/miniconda3/envs/classify-comp-proj/lib/python3.9/site-packages/pandas/_testing/_io.py\": 1669008801.0, \"/home/jstonge/miniconda3/envs/classify-comp-proj/lib/python3.9/site-packages/pandas/_testing/_warnings.py\": 1669008801.0, \"/home/jstonge/miniconda3/envs/classify-comp-proj/lib/python3.9/lib-dynload/cmath.cpython-39-x86_64-linux-gnu.so\": 1669300940.0, \"/home/jstonge/miniconda3/envs/classify-comp-proj/lib/python3.9/site-packages/pandas/_libs/testing.cpython-39-x86_64-linux-gnu.so\": 1670425962.0, \"/home/jstonge/miniconda3/envs/classify-comp-proj/lib/python3.9/site-packages/pandas/_testing/asserters.py\": 1669008801.0, \"/home/jstonge/miniconda3/envs/classify-comp-proj/lib/python3.9/site-packages/pandas/_testing/compat.py\": 1661274949.0, \"/home/jstonge/miniconda3/envs/classify-comp-proj/lib/python3.9/site-packages/pandas/_testing/__init__.py\": 1669008801.0, \"/home/jstonge/miniconda3/envs/classify-comp-proj/lib/python3.9/site-packages/pandas/testing.py\": 1661274949.0, \"/home/jstonge/miniconda3/envs/classify-comp-proj/lib/python3.9/site-packages/pandas/util/_print_versions.py\": 1661274950.0, \"/home/jstonge/miniconda3/envs/classify-comp-proj/lib/python3.9/site-packages/pandas/io/clipboards.py\": 1666188739.0, \"/home/jstonge/miniconda3/envs/classify-comp-proj/lib/python3.9/site-packages/pandas/_libs/parsers.cpython-39-x86_64-linux-gnu.so\": 1670425962.0, \"/home/jstonge/miniconda3/envs/classify-comp-proj/lib/python3.9/site-packages/pandas/io/excel/_util.py\": 1669008801.0, \"/home/jstonge/miniconda3/envs/classify-comp-proj/lib/python3.9/site-packages/pandas/io/date_converters.py\": 1669008801.0, \"/home/jstonge/miniconda3/envs/classify-comp-proj/lib/python3.9/site-packages/pandas/io/parsers/base_parser.py\": 1669008801.0, \"/home/jstonge/miniconda3/envs/classify-comp-proj/lib/python3.9/site-packages/pandas/io/parsers/arrow_parser_wrapper.py\": 1669008801.0, \"/home/jstonge/miniconda3/envs/classify-comp-proj/lib/python3.9/site-packages/pandas/io/parsers/c_parser_wrapper.py\": 1669008801.0, \"/home/jstonge/miniconda3/envs/classify-comp-proj/lib/python3.9/site-packages/pandas/io/parsers/python_parser.py\": 1669008801.0, \"/home/jstonge/miniconda3/envs/classify-comp-proj/lib/python3.9/site-packages/pandas/io/parsers/readers.py\": 1669008801.0, \"/home/jstonge/miniconda3/envs/classify-comp-proj/lib/python3.9/site-packages/pandas/io/parsers/__init__.py\": 1661274949.0, \"/home/jstonge/miniconda3/envs/classify-comp-proj/lib/python3.9/site-packages/pandas/io/excel/_odfreader.py\": 1669008801.0, \"/home/jstonge/miniconda3/envs/classify-comp-proj/lib/python3.9/site-packages/pandas/io/excel/_openpyxl.py\": 1669008801.0, \"/home/jstonge/miniconda3/envs/classify-comp-proj/lib/python3.9/site-packages/pandas/io/excel/_pyxlsb.py\": 1669008801.0, \"/home/jstonge/miniconda3/envs/classify-comp-proj/lib/python3.9/site-packages/pandas/io/excel/_xlrd.py\": 1669008801.0, \"/home/jstonge/miniconda3/envs/classify-comp-proj/lib/python3.9/site-packages/pandas/io/excel/_base.py\": 1669008801.0, \"/home/jstonge/miniconda3/envs/classify-comp-proj/lib/python3.9/site-packages/pandas/_libs/json.cpython-39-x86_64-linux-gnu.so\": 1670425962.0, \"/home/jstonge/miniconda3/envs/classify-comp-proj/lib/python3.9/site-packages/pandas/io/excel/_odswriter.py\": 1669008801.0, \"/home/jstonge/miniconda3/envs/classify-comp-proj/lib/python3.9/site-packages/pandas/io/excel/_xlsxwriter.py\": 1669008801.0, \"/home/jstonge/miniconda3/envs/classify-comp-proj/lib/python3.9/site-packages/pandas/io/excel/_xlwt.py\": 1669008801.0, \"/home/jstonge/miniconda3/envs/classify-comp-proj/lib/python3.9/site-packages/pandas/io/excel/__init__.py\": 1669008801.0, \"/home/jstonge/miniconda3/envs/classify-comp-proj/lib/python3.9/site-packages/pandas/io/feather_format.py\": 1661274949.0, \"/home/jstonge/miniconda3/envs/classify-comp-proj/lib/python3.9/site-packages/pandas/io/gbq.py\": 1661274949.0, \"/home/jstonge/miniconda3/envs/classify-comp-proj/lib/python3.9/site-packages/pandas/io/html.py\": 1669008801.0, \"/home/jstonge/miniconda3/envs/classify-comp-proj/lib/python3.9/site-packages/pandas/io/json/_normalize.py\": 1669008801.0, \"/home/jstonge/miniconda3/envs/classify-comp-proj/lib/python3.9/site-packages/pandas/io/json/_table_schema.py\": 1669008801.0, \"/home/jstonge/miniconda3/envs/classify-comp-proj/lib/python3.9/site-packages/pandas/io/json/_json.py\": 1669008801.0, \"/home/jstonge/miniconda3/envs/classify-comp-proj/lib/python3.9/site-packages/pandas/io/json/__init__.py\": 1661274949.0, \"/home/jstonge/miniconda3/envs/classify-comp-proj/lib/python3.9/site-packages/pandas/io/orc.py\": 1661274949.0, \"/home/jstonge/miniconda3/envs/classify-comp-proj/lib/python3.9/site-packages/pandas/io/parquet.py\": 1669008801.0, \"/home/jstonge/miniconda3/envs/classify-comp-proj/lib/python3.9/site-packages/pandas/compat/pickle_compat.py\": 1669008801.0, \"/home/jstonge/miniconda3/envs/classify-comp-proj/lib/python3.9/site-packages/pandas/io/pickle.py\": 1669008801.0, \"/home/jstonge/miniconda3/envs/classify-comp-proj/lib/python3.9/site-packages/pandas/core/computation/pytables.py\": 1669008801.0, \"/home/jstonge/miniconda3/envs/classify-comp-proj/lib/python3.9/site-packages/pandas/io/pytables.py\": 1669008801.0, \"/home/jstonge/miniconda3/envs/classify-comp-proj/lib/python3.9/site-packages/pandas/io/sas/sasreader.py\": 1669008801.0, \"/home/jstonge/miniconda3/envs/classify-comp-proj/lib/python3.9/site-packages/pandas/io/sas/__init__.py\": 1661274949.0, \"/home/jstonge/miniconda3/envs/classify-comp-proj/lib/python3.9/site-packages/pandas/io/spss.py\": 1669008801.0, \"/home/jstonge/miniconda3/envs/classify-comp-proj/lib/python3.9/site-packages/pandas/io/sql.py\": 1669008801.0, \"/home/jstonge/miniconda3/envs/classify-comp-proj/lib/python3.9/site-packages/pandas/io/stata.py\": 1669008801.0, \"/home/jstonge/miniconda3/envs/classify-comp-proj/lib/python3.9/site-packages/pandas/io/xml.py\": 1669008801.0, \"/home/jstonge/miniconda3/envs/classify-comp-proj/lib/python3.9/site-packages/pandas/io/api.py\": 1661274949.0, \"/home/jstonge/miniconda3/envs/classify-comp-proj/lib/python3.9/site-packages/pandas/util/_tester.py\": 1669008801.0, \"/home/jstonge/miniconda3/envs/classify-comp-proj/lib/python3.9/site-packages/pandas/_version.py\": 1670425944.0, \"/home/jstonge/miniconda3/envs/classify-comp-proj/lib/python3.9/site-packages/pandas/__init__.py\": 1669008801.0}\n"
     ]
    }
   ],
   "source": [
    "\n",
    "# imports\n",
    "import os\n",
    "import sys\n",
    "import types\n",
    "import json\n",
    "\n",
    "# figure size/format\n",
    "fig_width = 7\n",
    "fig_height = 5\n",
    "fig_format = 'retina'\n",
    "fig_dpi = 96\n",
    "\n",
    "# matplotlib defaults / format\n",
    "try:\n",
    "  import matplotlib.pyplot as plt\n",
    "  plt.rcParams['figure.figsize'] = (fig_width, fig_height)\n",
    "  plt.rcParams['figure.dpi'] = fig_dpi\n",
    "  plt.rcParams['savefig.dpi'] = fig_dpi\n",
    "  from IPython.display import set_matplotlib_formats\n",
    "  set_matplotlib_formats(fig_format)\n",
    "except Exception:\n",
    "  pass\n",
    "\n",
    "# plotly use connected mode\n",
    "try:\n",
    "  import plotly.io as pio\n",
    "  pio.renderers.default = \"notebook_connected\"\n",
    "except Exception:\n",
    "  pass\n",
    "\n",
    "# enable pandas latex repr when targeting pdfs\n",
    "try:\n",
    "  import pandas as pd\n",
    "  if fig_format == 'pdf':\n",
    "    pd.set_option('display.latex.repr', True)\n",
    "except Exception:\n",
    "  pass\n",
    "\n",
    "\n",
    "\n",
    "# output kernel dependencies\n",
    "kernel_deps = dict()\n",
    "for module in list(sys.modules.values()):\n",
    "  # Some modules play games with sys.modules (e.g. email/__init__.py\n",
    "  # in the standard library), and occasionally this can cause strange\n",
    "  # failures in getattr.  Just ignore anything that's not an ordinary\n",
    "  # module.\n",
    "  if not isinstance(module, types.ModuleType):\n",
    "    continue\n",
    "  path = getattr(module, \"__file__\", None)\n",
    "  if not path:\n",
    "    continue\n",
    "  if path.endswith(\".pyc\") or path.endswith(\".pyo\"):\n",
    "    path = path[:-1]\n",
    "  if not os.path.exists(path):\n",
    "    continue\n",
    "  kernel_deps[path] = os.stat(path).st_mtime\n",
    "print(json.dumps(kernel_deps))\n",
    "\n",
    "# set run_path if requested\n",
    "if r'/home/jstonge/Documents/phd/side_quest/shambolics/posts/mongoDB_opt':\n",
    "  os.chdir(r'/home/jstonge/Documents/phd/side_quest/shambolics/posts/mongoDB_opt')\n",
    "\n",
    "# reset state\n",
    "%reset\n",
    "\n",
    "def ojs_define(**kwargs):\n",
    "  import json\n",
    "  try:\n",
    "    # IPython 7.14 preferred import\n",
    "    from IPython.display import display, HTML\n",
    "  except:\n",
    "    from IPython.core.display import display, HTML\n",
    "\n",
    "  # do some minor magic for convenience when handling pandas\n",
    "  # dataframes\n",
    "  def convert(v):\n",
    "    try:\n",
    "      import pandas as pd\n",
    "    except ModuleNotFoundError: # don't do the magic when pandas is not available\n",
    "      return v\n",
    "    if type(v) == pd.Series:\n",
    "      v = pd.DataFrame(v)\n",
    "    if type(v) == pd.DataFrame:\n",
    "      j = json.loads(v.T.to_json(orient='split'))\n",
    "      return dict((k,v) for (k,v) in zip(j[\"index\"], j[\"data\"]))\n",
    "    else:\n",
    "      return v\n",
    "  \n",
    "  v = dict(contents=list(dict(name=key, value=convert(value)) for (key, value) in kwargs.items()))\n",
    "  display(HTML('<script type=\"ojs-define\">' + json.dumps(v) + '</script>'), metadata=dict(ojs_define = True))\n",
    "globals()[\"ojs_define\"] = ojs_define\n"
   ]
  },
  {
   "cell_type": "code",
   "execution_count": 2,
   "id": "d184c400",
   "metadata": {},
   "outputs": [],
   "source": [
    "#| echo: false \n",
    "from creds import client\n",
    "from bson.objectid import ObjectId\n",
    "from pymongo import ASCENDING, UpdateOne\n",
    "from pprint import pprint\n",
    "import time\n",
    "db = client['papersDB']"
   ]
  },
  {
   "cell_type": "code",
   "execution_count": 3,
   "id": "40fd4888",
   "metadata": {},
   "outputs": [],
   "source": [
    "#| echo: false\n",
    "#| eval: false\n",
    "def reinitialize_test_db():\n",
    "    [db.paper_test.drop_index(i) for i in db.paper_test.index_information() if i != \"_id_\"]\n",
    "    [db.works_oa_test.drop_index(i) for i in db.works_oa_test.index_information() if i != \"_id_\"]\n",
    "    db.works_oa_test.update_many({}, { '$unset': { 'mag': '' } })\n",
    "    db.paper_test.update_many({}, { '$unset': { 'doi': '' } })\n",
    "\n",
    "reinitialize_test_db()"
   ]
  },
  {
   "cell_type": "code",
   "execution_count": 4,
   "id": "12667135",
   "metadata": {},
   "outputs": [],
   "source": [
    "# Step in the aggregation pipeline that we'll use often\n",
    "return_top_5 = { \"$limit\": 5 }\n",
    "only_keep_existing_matches = { \"$match\": { \"matches\": { \"$ne\": [] } } }"
   ]
  },
  {
   "cell_type": "code",
   "execution_count": 5,
   "id": "da93c7a6",
   "metadata": {},
   "outputs": [],
   "source": [
    "#| eval: false\n",
    "#| code-fold: true\n",
    "db.works_oa_test.insert_many( list(db.works_oa.find(\n",
    "    { \"publication_year\": 1960 },\n",
    "    { \"concepts\": 1, \"publication_date\": 1, \"doi\": 1, \"ids\": 1 }\n",
    "    ))\n",
    ")\n",
    "\n",
    "db.paper_test.insert_many( list(db.papers.find(\n",
    "    { \"year\": 1960, \"s2fieldsofstudy\": { \"$type\": \"array\" } },\n",
    "    { \"externalids\": 1, \"s2fieldsofstudy\": 1 }\n",
    "    ))\n",
    ")"
   ]
  },
  {
   "cell_type": "code",
   "execution_count": 6,
   "id": "c3799dfd",
   "metadata": {},
   "outputs": [
    {
     "name": "stdout",
     "output_type": "stream",
     "text": [
      "S2orc has 408248 papers with `DOI` in 1960\n"
     ]
    },
    {
     "name": "stdout",
     "output_type": "stream",
     "text": [
      "OpenAlex has 478673 papers with `DOI` in 1960\n"
     ]
    }
   ],
   "source": [
    "print(f\"S2orc has {db.paper_test.count_documents({})} papers with `DOI` in 1960\")\n",
    "print(f\"OpenAlex has {db.works_oa_test.count_documents({})} papers with `DOI` in 1960\")"
   ]
  },
  {
   "cell_type": "code",
   "execution_count": 7,
   "id": "1036336a",
   "metadata": {},
   "outputs": [
    {
     "name": "stdout",
     "output_type": "stream",
     "text": [
      "{'_id': ObjectId('63e50688a64b9c3ca0a7a028'),\n",
      " 'doi': 'https://doi.org/10.3130/AIJSAXX.66.2.0_73',\n",
      " 'externalids': {'ACL': None,\n",
      "                 'ArXiv': None,\n",
      "                 'CorpusId': '125229466',\n",
      "                 'DBLP': None,\n",
      "                 'DOI': '10.3130/AIJSAXX.66.2.0_73',\n",
      "                 'MAG': '2752866858',\n",
      "                 'PubMed': None,\n",
      "                 'PubMedCentral': None},\n",
      " 's2fieldsofstudy': [{'category': 'Engineering', 'source': 's2-fos-model'},\n",
      "                     {'category': 'Geology', 'source': 'external'}]}\n"
     ]
    }
   ],
   "source": [
    "pprint(db.paper_test.find_one({ \"externalids.DOI\": { \"$type\": \"string\" } }))"
   ]
  },
  {
   "cell_type": "code",
   "execution_count": 8,
   "id": "d92c796b",
   "metadata": {},
   "outputs": [
    {
     "name": "stdout",
     "output_type": "stream",
     "text": [
      "{'_id': ObjectId('642044928238317efbef9371'),\n",
      " 'authorships': [],\n",
      " 'concepts': [{'display_name': 'Political science',\n",
      "               'id': 'https://openalex.org/C17744445',\n",
      "               'level': 0,\n",
      "               'score': 0.39196813,\n",
      "               'wikidata': 'https://www.wikidata.org/wiki/Q36442'}],\n",
      " 'doi': 'https://doi.org/10.6028/nbs.mp.237',\n",
      " 'ids': {'doi': 'https://doi.org/10.6028/nbs.mp.237',\n",
      "         'openalex': 'https://openalex.org/W4232940716'},\n",
      " 'mag': None,\n",
      " 'publication_date': '1960-01-01'}\n"
     ]
    }
   ],
   "source": [
    "pprint(db.works_oa_test.find_one())"
   ]
  },
  {
   "cell_type": "code",
   "execution_count": 9,
   "id": "45f0cc93",
   "metadata": {},
   "outputs": [
    {
     "name": "stdout",
     "output_type": "stream",
     "text": [
      "Setting a field on ~400K took --- 1.1609840393066406 seconds ---\n"
     ]
    }
   ],
   "source": [
    "#| code-fold: true\n",
    "start_time = time.time()\n",
    "db.paper_test.update_many(\n",
    "    {},\n",
    "    [\n",
    "        { \"$set\": { \n",
    "            \"doi\": { \n",
    "                \"$cond\": [\n",
    "                    { \"$ne\": [\"$externalids.DOI\", None] },\n",
    "                    { \"$concat\": [\"https://doi.org/\", \"$externalids.DOI\"] },\n",
    "                    None\n",
    "                ]\n",
    "                }\n",
    "            } }\n",
    "    ]\n",
    ")\n",
    "print(\"Setting a field on ~400K took --- %s seconds ---\" % (time.time() - start_time))"
   ]
  },
  {
   "cell_type": "code",
   "execution_count": 10,
   "id": "6b608ec4",
   "metadata": {},
   "outputs": [],
   "source": [
    "#| eval: false\n",
    "start_time = time.time()\n",
    "\n",
    "s2orc_doi_is_string = { \"$match\": { \"doi\": { \"$type\": \"string\" }} }\n",
    "\n",
    "s2orc_to_oa_doi_lookup ={\n",
    "      \"$lookup\": {\n",
    "         \"from\": \"works_oa_test\",\n",
    "         \"localField\": \"doi\",\n",
    "         \"foreignField\": \"doi\",\n",
    "         \"as\": \"matches\"\n",
    "      }\n",
    "   }\n",
    "\n",
    "pipeline = [\n",
    "   s2orc_doi_is_string,\n",
    "   s2orc_to_oa_doi_lookup,\n",
    "   only_keep_existing_matches,\n",
    "]\n",
    "\n",
    "assert 'doi' in db.paper_test.find_one().keys(), 'missing field in paper test'\n",
    "assert 'doi' in db.works_oa_test.find_one().keys(), 'missing field in oa'\n",
    "\n",
    "res = list(db.paper_test.aggregate( pipeline ))\n",
    "print(\"Process finished --- %s seconds ---\" % (time.time() - start_time))"
   ]
  },
  {
   "cell_type": "code",
   "execution_count": 11,
   "id": "d07a0bf8",
   "metadata": {},
   "outputs": [
    {
     "data": {
      "text/plain": [
       "'doi_1'"
      ]
     },
     "execution_count": 7,
     "metadata": {},
     "output_type": "execute_result"
    }
   ],
   "source": [
    "db.works_oa_test.create_index([(\"doi\", ASCENDING)])\n",
    "db.paper_test.create_index([(\"doi\", ASCENDING)])"
   ]
  },
  {
   "cell_type": "code",
   "execution_count": 12,
   "id": "a3838fa0",
   "metadata": {},
   "outputs": [
    {
     "name": "stdout",
     "output_type": "stream",
     "text": [
      "Process finished --- 28.988704204559326 seconds ---\n",
      "92287\n"
     ]
    }
   ],
   "source": [
    "start_time = time.time()\n",
    "\n",
    "s2orc_doi_is_string = { \"$match\": { \"doi\": { \"$type\": \"string\" }} }\n",
    "\n",
    "s2orc_to_oa_doi_lookup ={\n",
    "      \"$lookup\": {\n",
    "         \"from\": \"works_oa_test\",\n",
    "         \"localField\": \"doi\",\n",
    "         \"foreignField\": \"doi\",\n",
    "         \"as\": \"matches\"\n",
    "      }\n",
    "   }\n",
    "\n",
    "res = list(db.paper_test.aggregate( [\n",
    "    s2orc_doi_is_string,\n",
    "    s2orc_to_oa_doi_lookup,\n",
    "    only_keep_existing_matches\n",
    "] ))\n",
    "\n",
    "print(\"Process finished --- %s seconds ---\" % (time.time() - start_time))\n",
    "print(len(res))"
   ]
  },
  {
   "cell_type": "code",
   "execution_count": 13,
   "id": "d67d848d",
   "metadata": {},
   "outputs": [
    {
     "name": "stdout",
     "output_type": "stream",
     "text": [
      "Process finished --- 30.196167707443237 seconds ---\n",
      "91704\n"
     ]
    }
   ],
   "source": [
    "start_time = time.time()\n",
    "\n",
    "oa_doi_is_string = { \"$match\": { \"doi\": { \"$type\": \"string\" }} }\n",
    "\n",
    "oa_to_s2orc_doi_lookup = {\n",
    "      \"$lookup\": {\n",
    "         \"from\": \"paper_test\",\n",
    "         \"localField\": \"doi\",\n",
    "         \"foreignField\": \"doi\",\n",
    "         \"as\": \"matches\"\n",
    "      }\n",
    "   }\n",
    "\n",
    "res = list(db.works_oa_test.aggregate( [\n",
    "    oa_doi_is_string,\n",
    "    oa_to_s2orc_doi_lookup,\n",
    "    only_keep_existing_matches\n",
    "] ))\n",
    "\n",
    "print(\"Process finished --- %s seconds ---\" % (time.time() - start_time))\n",
    "print(len(res))"
   ]
  },
  {
   "cell_type": "code",
   "execution_count": 14,
   "id": "f4b16e5a",
   "metadata": {},
   "outputs": [
    {
     "name": "stdout",
     "output_type": "stream",
     "text": [
      "Process finished --- 33.105173110961914 seconds ---\n",
      "# hit: 92287\n"
     ]
    }
   ],
   "source": [
    "start_time = time.time()\n",
    "\n",
    "concise_s2orc_to_oa_doi_lookup = {\n",
    "      \"$lookup\": {\n",
    "         \"from\": \"works_oa_test\",\n",
    "         \"localField\": \"doi\",\n",
    "         \"foreignField\": \"doi\",\n",
    "         \"let\": { \"s2orc_doi\": \"$doi\" },\n",
    "         \"pipeline\": [ {\n",
    "            \"$match\": {\n",
    "               \"$expr\": { \"$eq\": [ \"$$s2orc_doi\", \"$doi\" ] }\n",
    "            }\n",
    "         } ],\n",
    "         \"as\": \"matches\"\n",
    "      }\n",
    "   }\n",
    "\n",
    "res = list(db.paper_test.aggregate( [\n",
    "    s2orc_doi_is_string,\n",
    "    concise_s2orc_to_oa_doi_lookup,\n",
    "    only_keep_existing_matches\n",
    "] )) \n",
    "\n",
    "print(\"Process finished --- %s seconds ---\" % (time.time() - start_time))\n",
    "print(f\"# hit: {len(res)}\")"
   ]
  },
  {
   "cell_type": "code",
   "execution_count": 15,
   "id": "e60563f0",
   "metadata": {},
   "outputs": [
    {
     "name": "stdout",
     "output_type": "stream",
     "text": [
      "Process finished --- 35.64953589439392 seconds ---\n",
      "# hit: 92287\n"
     ]
    }
   ],
   "source": [
    "start_time = time.time()\n",
    "\n",
    "oa_doi_is_string_pipeline = [ {\n",
    "    \"$match\": {\n",
    "        \"doi\": { \"$type\": \"string\" } ,\n",
    "        \"$expr\": { \"$eq\": [ \"$$s2orc_doi\", \"$doi\" ] }\n",
    "        }\n",
    "    } ]\n",
    "\n",
    "concise_s2orc_to_oa_doi_lookup = {\n",
    "      \"$lookup\": {\n",
    "         \"from\": \"works_oa_test\",\n",
    "         \"localField\": \"doi\",\n",
    "         \"foreignField\": \"doi\",\n",
    "         \"let\": { \"s2orc_doi\": \"$doi\" },\n",
    "         \"pipeline\": oa_doi_is_string_pipeline,\n",
    "         \"as\": \"matches\"\n",
    "      }\n",
    "   }\n",
    "\n",
    "res = list(db.paper_test.aggregate( [\n",
    "    s2orc_doi_is_string,\n",
    "    concise_s2orc_to_oa_doi_lookup,\n",
    "    only_keep_existing_matches\n",
    "] )) \n",
    "\n",
    "print(\"Process finished --- %s seconds ---\" % (time.time() - start_time))\n",
    "print(f\"# hit: {len(res)}\")"
   ]
  },
  {
   "cell_type": "code",
   "execution_count": 16,
   "id": "80a0d87e",
   "metadata": {},
   "outputs": [
    {
     "data": {
      "text/plain": [
       "'concepts.display_name_1'"
      ]
     },
     "execution_count": 12,
     "metadata": {},
     "output_type": "execute_result"
    }
   ],
   "source": [
    "db.works_oa_test.create_index([(\"concepts.display_name\", ASCENDING)])"
   ]
  },
  {
   "cell_type": "code",
   "execution_count": 17,
   "id": "f4d344c4",
   "metadata": {},
   "outputs": [
    {
     "name": "stdout",
     "output_type": "stream",
     "text": [
      "Process finished --- 6.486907482147217 seconds ---\n",
      "# hit: 14085\n"
     ]
    }
   ],
   "source": [
    "start_time = time.time()\n",
    "\n",
    "oa_filter = { '$match': { 'concepts.display_name': 'Biology',  'doi': { \"$type\" : \"string\"} } }\n",
    "\n",
    "res = list(db.works_oa_test.aggregate( [\n",
    "    oa_filter,\n",
    "    oa_to_s2orc_doi_lookup,\n",
    "    only_keep_existing_matches\n",
    "] ))\n",
    "\n",
    "print(\"Process finished --- %s seconds ---\" % (time.time() - start_time))\n",
    "print(f\"# hit: {len(res)}\")"
   ]
  },
  {
   "cell_type": "code",
   "execution_count": 18,
   "id": "9709e2f1",
   "metadata": {},
   "outputs": [
    {
     "data": {
      "text/plain": [
       "'concepts.display_name_1'"
      ]
     },
     "execution_count": 14,
     "metadata": {},
     "output_type": "execute_result"
    }
   ],
   "source": [
    "db.works_oa_test.drop_index([(\"concepts.display_name\", ASCENDING)])\n",
    "db.works_oa_test.create_index([(\"concepts.display_name\", ASCENDING)], partialFilterExpression = { \"concepts.level\" : 0})"
   ]
  },
  {
   "cell_type": "code",
   "execution_count": 19,
   "id": "e9736121",
   "metadata": {},
   "outputs": [
    {
     "name": "stdout",
     "output_type": "stream",
     "text": [
      "Process finished --- 7.074239492416382 seconds ---\n",
      "# hit: 14085\n"
     ]
    }
   ],
   "source": [
    "start_time = time.time()\n",
    "\n",
    "res = list(db.works_oa_test.aggregate( [\n",
    "    oa_filter,\n",
    "    oa_to_s2orc_doi_lookup,\n",
    "    only_keep_existing_matches\n",
    "] ))\n",
    "\n",
    "print(\"Process finished --- %s seconds ---\" % (time.time() - start_time))\n",
    "print(f\"# hit: {len(res)}\")"
   ]
  },
  {
   "cell_type": "code",
   "execution_count": 20,
   "id": "daa97761",
   "metadata": {},
   "outputs": [
    {
     "data": {
      "text/plain": [
       "'concepts.display_name_1'"
      ]
     },
     "execution_count": 16,
     "metadata": {},
     "output_type": "execute_result"
    }
   ],
   "source": [
    "db.works_oa_test.drop_index([(\"concepts.display_name\", ASCENDING)])\n",
    "db.works_oa_test.create_index([(\"concepts.display_name\", ASCENDING)])"
   ]
  },
  {
   "cell_type": "code",
   "execution_count": 21,
   "id": "3a79ba81",
   "metadata": {},
   "outputs": [
    {
     "data": {
      "text/plain": [
       "'s2fieldsofstudy.category_1'"
      ]
     },
     "execution_count": 17,
     "metadata": {},
     "output_type": "execute_result"
    }
   ],
   "source": [
    "db.paper_test.create_index([(\"s2fieldsofstudy.category\", ASCENDING)])"
   ]
  },
  {
   "cell_type": "code",
   "execution_count": 22,
   "id": "d39e85d2",
   "metadata": {},
   "outputs": [
    {
     "name": "stdout",
     "output_type": "stream",
     "text": [
      "Process finished --- 4.731422185897827 seconds ---\n",
      "# hit: 9003\n"
     ]
    }
   ],
   "source": [
    "start_time = time.time()\n",
    "\n",
    "s2orc_filter = { '$match': { 's2fieldsofstudy.category': 'Biology', 'doi': { \"$type\" : \"string\"}  } }\n",
    "\n",
    "res = list(db.paper_test.aggregate( [\n",
    "    s2orc_filter,\n",
    "    s2orc_to_oa_doi_lookup,\n",
    "    only_keep_existing_matches\n",
    "] ))\n",
    "\n",
    "print(\"Process finished --- %s seconds ---\" % (time.time() - start_time))\n",
    "print(f\"# hit: {len(res)}\")"
   ]
  },
  {
   "cell_type": "code",
   "execution_count": 23,
   "id": "8a411716",
   "metadata": {},
   "outputs": [
    {
     "name": "stdout",
     "output_type": "stream",
     "text": [
      "Process finished --- 4.58369255065918 seconds ---\n",
      "# hit: 6396\n"
     ]
    }
   ],
   "source": [
    "start_time = time.time()\n",
    "\n",
    "oa_filter_pipeline = [ {\n",
    "    \"$match\": { \n",
    "        \"concepts.display_name\": \"Biology\",  \n",
    "        \"$expr\":  {\n",
    "            \"$eq\": [ \"$$s2orc_doi\", \"$doi\" ]\n",
    "            }\n",
    "        }\n",
    "    } ]\n",
    "\n",
    "concise_s2orc_to_oa_doi_lookup_concise = {\n",
    "      \"$lookup\": {\n",
    "         \"from\": \"works_oa_test\",\n",
    "         \"localField\": \"doi\",\n",
    "         \"foreignField\": \"doi\",\n",
    "         \"let\": { \"s2orc_doi\": \"$doi\" },\n",
    "         \"pipeline\": oa_filter_pipeline,\n",
    "         \"as\": \"matches\"\n",
    "      }\n",
    "   }\n",
    "\n",
    "res = list(db.paper_test.aggregate( [\n",
    "   s2orc_filter,\n",
    "   concise_s2orc_to_oa_doi_lookup_concise,\n",
    "   only_keep_existing_matches\n",
    "] ))\n",
    "\n",
    "print(\"Process finished --- %s seconds ---\" % (time.time() - start_time))\n",
    "print(f\"# hit: {len(res)}\")"
   ]
  },
  {
   "cell_type": "code",
   "execution_count": 24,
   "id": "625ca6af",
   "metadata": {},
   "outputs": [
    {
     "data": {
      "text/plain": [
       "'s2fieldsofstudy.category_1_doi_1'"
      ]
     },
     "execution_count": 20,
     "metadata": {},
     "output_type": "execute_result"
    }
   ],
   "source": [
    "db.works_oa_test.drop_index([(\"doi\", ASCENDING)])\n",
    "db.works_oa_test.drop_index([(\"concepts.display_name\", ASCENDING)])\n",
    "db.works_oa_test.create_index([(\"concepts.display_name\", ASCENDING), (\"doi\", ASCENDING)])\n",
    "\n",
    "db.paper_test.drop_index([(\"doi\", ASCENDING)])\n",
    "db.paper_test.drop_index([(\"s2fieldsofstudy.category\", ASCENDING)])\n",
    "db.paper_test.create_index([(\"s2fieldsofstudy.category\", ASCENDING), (\"doi\", ASCENDING)])"
   ]
  },
  {
   "cell_type": "code",
   "execution_count": 25,
   "id": "57f35cd4",
   "metadata": {},
   "outputs": [
    {
     "name": "stdout",
     "output_type": "stream",
     "text": [
      "Process finished --- 4.7239556312561035 seconds ---\n",
      "# hit: 6396\n"
     ]
    }
   ],
   "source": [
    "start_time = time.time()\n",
    "\n",
    "res = list(db.paper_test.aggregate( [\n",
    "   s2orc_filter,\n",
    "   concise_s2orc_to_oa_doi_lookup_concise,\n",
    "   only_keep_existing_matches\n",
    "] ))\n",
    "\n",
    "print(\"Process finished --- %s seconds ---\" % (time.time() - start_time))\n",
    "print(f\"# hit: {len(res)}\")"
   ]
  },
  {
   "cell_type": "code",
   "execution_count": 26,
   "id": "501a6430",
   "metadata": {},
   "outputs": [
    {
     "data": {
      "text/plain": [
       "'doi_1'"
      ]
     },
     "execution_count": 22,
     "metadata": {},
     "output_type": "execute_result"
    }
   ],
   "source": [
    "db.works_oa_test.drop_index([(\"concepts.display_name\", ASCENDING), (\"doi\", ASCENDING)])\n",
    "db.works_oa_test.create_index([(\"concepts.display_name\", ASCENDING)])\n",
    "db.works_oa_test.create_index([(\"doi\", ASCENDING)])\n",
    "\n",
    "db.paper_test.drop_index([(\"s2fieldsofstudy.category\", ASCENDING), (\"doi\", ASCENDING)])\n",
    "db.paper_test.create_index([(\"s2fieldsofstudy.category\", ASCENDING)])\n",
    "db.paper_test.create_index([(\"doi\", ASCENDING)])"
   ]
  },
  {
   "cell_type": "code",
   "execution_count": 27,
   "id": "3d5105c3",
   "metadata": {},
   "outputs": [
    {
     "data": {
      "text/plain": [
       "{'_id': ObjectId('63e50688a64b9c3ca0a79ffd'),\n",
       " 'externalids': {'ACL': None,\n",
       "  'DBLP': None,\n",
       "  'ArXiv': None,\n",
       "  'MAG': '580729734',\n",
       "  'CorpusId': '231379768',\n",
       "  'PubMed': None,\n",
       "  'DOI': None,\n",
       "  'PubMedCentral': None},\n",
       " 's2fieldsofstudy': None,\n",
       " 'oa_works': True,\n",
       " 'doi': None}"
      ]
     },
     "execution_count": 23,
     "metadata": {},
     "output_type": "execute_result"
    }
   ],
   "source": [
    "db.paper_test.find_one({ \"doi\":  None, \"externalids.MAG\": { \"$ne\": None } })"
   ]
  },
  {
   "cell_type": "code",
   "execution_count": 28,
   "id": "d4eca00f",
   "metadata": {},
   "outputs": [
    {
     "data": {
      "text/plain": [
       "{'_id': ObjectId('6420450f8238317efbef948c'),\n",
       " 'doi': None,\n",
       " 'ids': {'openalex': 'https://openalex.org/W2297889166', 'mag': 2297889166}}"
      ]
     },
     "execution_count": 24,
     "metadata": {},
     "output_type": "execute_result"
    }
   ],
   "source": [
    "db.works_oa_test.find_one({ \"doi\":  None, \"ids.mag\": { \"$ne\": None } }, {\"ids\": 1, \"doi\": 1})"
   ]
  },
  {
   "cell_type": "code",
   "execution_count": 29,
   "id": "7f1af757",
   "metadata": {},
   "outputs": [],
   "source": [
    "db.works_oa_test.update_many(\n",
    "    {},\n",
    "    [\n",
    "        { \"$addFields\": { \"mag\": { \"$toString\": \"$ids.mag\" } } }\n",
    "    ]\n",
    ")\n",
    "\n",
    "db.works_oa_test.create_index([(\"mag\", ASCENDING)])\n",
    "db.paper_test.create_index([(\"externalids.MAG\", ASCENDING)])\n",
    "\n",
    "# helpers\n",
    "oa_mag_is_string = { \"$match\": { \"mag\": { \"$type\": \"string\" }  } }"
   ]
  },
  {
   "cell_type": "code",
   "execution_count": 30,
   "id": "6bc74f7a",
   "metadata": {},
   "outputs": [
    {
     "name": "stdout",
     "output_type": "stream",
     "text": [
      "Process finished --- 16.91268515586853 seconds ---\n",
      "# hit: 43754\n"
     ]
    }
   ],
   "source": [
    "start_time = time.time()\n",
    "\n",
    "s2orc_paper_filter = {\n",
    "            \"$match\": { \n",
    "               \"doi\": { \"$type\": \"null\" }, \n",
    "               \"$expr\":  { \n",
    "                    \"$eq\": [ \"$$works_oa_mag\", \"$externalids.MAG\" ] \n",
    "                }\n",
    "            }\n",
    "         }\n",
    "\n",
    "works_oa2paper_lookup_concise = {\n",
    "      \"$lookup\": {\n",
    "         \"from\": \"paper_test\",\n",
    "         \"localField\": \"mag\",\n",
    "         \"foreignField\": \"externalids.MAG\",\n",
    "         \"let\": { \"works_oa_mag\": \"$mag\" },\n",
    "         \"pipeline\": [ s2orc_paper_filter ],\n",
    "         \"as\": \"matches\"\n",
    "      }\n",
    "   }\n",
    "\n",
    "oa_bio_filter_mag_is_string = {\"$match\": {\"concepts.display_name\": \"Biology\", \"mag\": { \"$type\": \"string\" }}}\n",
    "\n",
    "res = list(db.works_oa_test.aggregate( [\n",
    "    oa_bio_filter_mag_is_string,\n",
    "    works_oa2paper_lookup_concise,\n",
    "    only_keep_existing_matches\n",
    "] ))\n",
    "\n",
    "print(\"Process finished --- %s seconds ---\" % (time.time() - start_time))\n",
    "print(f\"# hit: {len(res)}\")"
   ]
  },
  {
   "cell_type": "code",
   "execution_count": 31,
   "id": "4c423aaf",
   "metadata": {},
   "outputs": [
    {
     "name": "stdout",
     "output_type": "stream",
     "text": [
      "Process finished --- 9.05085802078247 seconds ---\n",
      "# hit: 26356\n"
     ]
    }
   ],
   "source": [
    "start_time = time.time()\n",
    "\n",
    "works_s2orc2oa_lookup = {\n",
    "      \"$lookup\": {\n",
    "         \"from\": \"works_oa_test\",\n",
    "         \"localField\": \"externalids.MAG\",\n",
    "         \"foreignField\": \"mag\",\n",
    "         \"as\": \"matches\"\n",
    "      }\n",
    "   }\n",
    "\n",
    "s2orc_bio_filter_mag_is_string = { \"$match\": {\"s2fieldsofstudy.category\": \"Biology\", \"externalids.MAG\": { \"$type\": \"string\" }, \"doi\": { \"$type\": \"null\" } } }\n",
    "\n",
    "res = list(db.paper_test.aggregate( [\n",
    "    s2orc_bio_filter_mag_is_string,\n",
    "    works_s2orc2oa_lookup,\n",
    "    only_keep_existing_matches\n",
    "] ))\n",
    "\n",
    "print(\"Process finished --- %s seconds ---\" % (time.time() - start_time))\n",
    "print(f\"# hit: {len(res)}\")"
   ]
  },
  {
   "cell_type": "code",
   "execution_count": 32,
   "id": "e56cced1",
   "metadata": {},
   "outputs": [
    {
     "name": "stdout",
     "output_type": "stream",
     "text": [
      "Process finished --- 8.847830295562744 seconds ---\n",
      "# hit: 26356\n"
     ]
    }
   ],
   "source": [
    "start_time = time.time()\n",
    "\n",
    "oa_paper_filter = {\n",
    "            \"$match\": { \n",
    "               \"doi\": { \"$type\": \"null\" }, \n",
    "               \"$expr\":  { \n",
    "                    \"$eq\": [ \"$$s2orc_mag\", \"$mag\" ] \n",
    "                }\n",
    "            }\n",
    "         }\n",
    "\n",
    "works_s2orc2oa_lookup_concise = {\n",
    "      \"$lookup\": {\n",
    "         \"from\": \"works_oa_test\",\n",
    "         \"localField\": \"externalids.MAG\",\n",
    "         \"foreignField\": \"mag\",\n",
    "         \"let\": { \"s2orc_mag\": \"$externalids.MAG\" },\n",
    "         \"pipeline\": [ oa_paper_filter ],\n",
    "         \"as\": \"matches\"\n",
    "      }\n",
    "   }\n",
    "\n",
    "s2orc_bio_filter_mag_is_string = { \"$match\": {\"s2fieldsofstudy.category\": \"Biology\", \"externalids.MAG\": { \"$type\": \"string\" }, \"doi\": { \"$type\": \"null\" } } }\n",
    "\n",
    "res = list(db.paper_test.aggregate( [\n",
    "    s2orc_bio_filter_mag_is_string,\n",
    "    works_s2orc2oa_lookup,\n",
    "    only_keep_existing_matches\n",
    "] ))\n",
    "\n",
    "print(\"Process finished --- %s seconds ---\" % (time.time() - start_time))\n",
    "print(f\"# hit: {len(res)}\")"
   ]
  },
  {
   "cell_type": "code",
   "execution_count": 33,
   "id": "f46464d6",
   "metadata": {},
   "outputs": [
    {
     "name": "stdout",
     "output_type": "stream",
     "text": [
      "Aggregation pipeline finished --- 3.0302441120147705 seconds ---\n"
     ]
    },
    {
     "name": "stdout",
     "output_type": "stream",
     "text": [
      "Process finished --- 4.871156454086304 seconds ---\n"
     ]
    }
   ],
   "source": [
    "start_time = time.time()\n",
    "\n",
    "s2orc_bio_filter_doi_is_string = { '$match': { 's2fieldsofstudy.category': 'Biology', 'doi': { \"$type\" : \"string\"}  } }\n",
    "\n",
    "concise_s2orc_to_oa_doi_lookup = {\n",
    "      \"$lookup\": {\n",
    "         \"from\": \"works_oa_test\",\n",
    "         \"localField\": \"doi\",\n",
    "         \"foreignField\": \"doi\",\n",
    "         \"as\": \"matches\"\n",
    "      }\n",
    "   }\n",
    "\n",
    "res = list(db.paper_test.aggregate( [\n",
    "   s2orc_bio_filter_doi_is_string,\n",
    "   concise_s2orc_to_oa_doi_lookup,\n",
    "   only_keep_existing_matches,\n",
    "   { '$addFields': { 'works_oa': {'$cond': [{'$ne': ['$matches', []]}, \"$matches\", None]} } },\n",
    "   { '$project': { 'matches': 0 } }\n",
    "] ))\n",
    "\n",
    "print(\"Aggregation pipeline finished --- %s seconds ---\" % (time.time() - start_time))\n",
    "\n",
    "db.paper_test.bulk_write([\n",
    "    UpdateOne( { 'doi': doc['doi'] }, { '$set': {'works_oa': doc['works_oa'][0]} })\n",
    "    for doc in res\n",
    "])\n",
    "\n",
    "print(\"Process finished --- %s seconds ---\" % (time.time() - start_time))"
   ]
  },
  {
   "cell_type": "code",
   "execution_count": 34,
   "id": "a07016d1",
   "metadata": {},
   "outputs": [
    {
     "name": "stdout",
     "output_type": "stream",
     "text": [
      "Aggregation pipeline finished --- 5.860445976257324 seconds ---\n",
      "# hit: 26356\n"
     ]
    },
    {
     "name": "stdout",
     "output_type": "stream",
     "text": [
      "Process finished --- 10.8723726272583 seconds ---\n"
     ]
    }
   ],
   "source": [
    "start_time = time.time()\n",
    "\n",
    "s2orc_bio_filter_mag_is_string = { \"$match\": {\"s2fieldsofstudy.category\": \"Biology\", \"externalids.MAG\": { \"$type\": \"string\" }, \"doi\": { \"$type\": \"null\" } } }\n",
    "\n",
    "concise_s2orc_to_oa_mag_lookup = {\n",
    "      \"$lookup\": {\n",
    "         \"from\": \"works_oa_test\",\n",
    "         \"localField\": \"externalids.MAG\",\n",
    "         \"foreignField\": \"mag\",\n",
    "         \"as\": \"matches\"\n",
    "      }\n",
    "   }\n",
    "\n",
    "res = list(db.paper_test.aggregate( [\n",
    "   s2orc_bio_filter_mag_is_string,\n",
    "   concise_s2orc_to_oa_mag_lookup,\n",
    "   only_keep_existing_matches,\n",
    "   { '$addFields': { 'works_oa': {'$cond': [{'$ne': ['$matches', []]}, \"$matches\", None]} } },\n",
    "   { '$project': { 'matches': 0 } }\n",
    "] ))\n",
    "\n",
    "print(\"Aggregation pipeline finished --- %s seconds ---\" % (time.time() - start_time))\n",
    "print(f\"# hit: {len(res)}\")\n",
    "\n",
    "db.paper_test.bulk_write([ \n",
    "    UpdateOne( {'externalids.MAG': doc['externalids'][\"MAG\"]}, {'$set': {'works_oa': doc['works_oa'][0]}} ) \n",
    "    for doc in res\n",
    "    ])\n",
    "\n",
    "print(\"Process finished --- %s seconds ---\" % (time.time() - start_time))"
   ]
  },
  {
   "cell_type": "code",
   "execution_count": 35,
   "id": "e4c360ca",
   "metadata": {},
   "outputs": [
    {
     "data": {
      "text/plain": [
       "{'_id': ObjectId('63e50688a64b9c3ca0a7a375'),\n",
       " 'externalids': {'ACL': None,\n",
       "  'DBLP': None,\n",
       "  'ArXiv': None,\n",
       "  'MAG': '2462552499',\n",
       "  'CorpusId': '46587026',\n",
       "  'PubMed': '13854036',\n",
       "  'DOI': None,\n",
       "  'PubMedCentral': None},\n",
       " 's2fieldsofstudy': [{'category': 'Biology', 'source': 's2-fos-model'},\n",
       "  {'category': 'Chemistry', 'source': 'external'},\n",
       "  {'category': 'Medicine', 'source': 'external'}],\n",
       " 'oa_works': True,\n",
       " 'doi': None,\n",
       " 'works_oa': {'_id': ObjectId('64227602249c314cafa2ee23'),\n",
       "  'doi': None,\n",
       "  'publication_date': '1960-03-01',\n",
       "  'ids': {'openalex': 'https://openalex.org/W2462552499',\n",
       "   'pmid': 'https://pubmed.ncbi.nlm.nih.gov/13854036',\n",
       "   'mag': 2462552499},\n",
       "  'authorships': [{'institutions': []},\n",
       "   {'institutions': []},\n",
       "   {'institutions': []}],\n",
       "  'concepts': [{'id': 'https://openalex.org/C2779317461',\n",
       "    'wikidata': 'https://www.wikidata.org/wiki/Q16986094',\n",
       "    'display_name': 'Mycobacterium phlei',\n",
       "    'level': 4,\n",
       "    'score': 0.97717744},\n",
       "   {'id': 'https://openalex.org/C2776967927',\n",
       "    'wikidata': 'https://www.wikidata.org/wiki/Q423169',\n",
       "    'display_name': 'Isoniazid',\n",
       "    'level': 3,\n",
       "    'score': 0.80283976},\n",
       "   {'id': 'https://openalex.org/C89423630',\n",
       "    'wikidata': 'https://www.wikidata.org/wiki/Q7193',\n",
       "    'display_name': 'Microbiology',\n",
       "    'level': 1,\n",
       "    'score': 0.6403618},\n",
       "   {'id': 'https://openalex.org/C181199279',\n",
       "    'wikidata': 'https://www.wikidata.org/wiki/Q8047',\n",
       "    'display_name': 'Enzyme',\n",
       "    'level': 2,\n",
       "    'score': 0.59864265},\n",
       "   {'id': 'https://openalex.org/C2777975735',\n",
       "    'wikidata': 'https://www.wikidata.org/wiki/Q130971',\n",
       "    'display_name': 'Mycobacterium tuberculosis',\n",
       "    'level': 3,\n",
       "    'score': 0.52854174},\n",
       "   {'id': 'https://openalex.org/C185592680',\n",
       "    'wikidata': 'https://www.wikidata.org/wiki/Q2329',\n",
       "    'display_name': 'Chemistry',\n",
       "    'level': 0,\n",
       "    'score': 0.3759841},\n",
       "   {'id': 'https://openalex.org/C86803240',\n",
       "    'wikidata': 'https://www.wikidata.org/wiki/Q420',\n",
       "    'display_name': 'Biology',\n",
       "    'level': 0,\n",
       "    'score': 0.37109792},\n",
       "   {'id': 'https://openalex.org/C2780374374',\n",
       "    'wikidata': 'https://www.wikidata.org/wiki/Q194309',\n",
       "    'display_name': 'Mycobacterium',\n",
       "    'level': 3,\n",
       "    'score': 0.34876233},\n",
       "   {'id': 'https://openalex.org/C55493867',\n",
       "    'wikidata': 'https://www.wikidata.org/wiki/Q7094',\n",
       "    'display_name': 'Biochemistry',\n",
       "    'level': 1,\n",
       "    'score': 0.2363849},\n",
       "   {'id': 'https://openalex.org/C71924100',\n",
       "    'wikidata': 'https://www.wikidata.org/wiki/Q11190',\n",
       "    'display_name': 'Medicine',\n",
       "    'level': 0,\n",
       "    'score': 0.22486079},\n",
       "   {'id': 'https://openalex.org/C2781069245',\n",
       "    'wikidata': 'https://www.wikidata.org/wiki/Q12204',\n",
       "    'display_name': 'Tuberculosis',\n",
       "    'level': 2,\n",
       "    'score': 0.18608537},\n",
       "   {'id': 'https://openalex.org/C54355233',\n",
       "    'wikidata': 'https://www.wikidata.org/wiki/Q7162',\n",
       "    'display_name': 'Genetics',\n",
       "    'level': 1,\n",
       "    'score': 0.10660368},\n",
       "   {'id': 'https://openalex.org/C523546767',\n",
       "    'wikidata': 'https://www.wikidata.org/wiki/Q10876',\n",
       "    'display_name': 'Bacteria',\n",
       "    'level': 2,\n",
       "    'score': 0.08527815},\n",
       "   {'id': 'https://openalex.org/C142724271',\n",
       "    'wikidata': 'https://www.wikidata.org/wiki/Q7208',\n",
       "    'display_name': 'Pathology',\n",
       "    'level': 1,\n",
       "    'score': 0.045282602}],\n",
       "  'mag': '2462552499'}}"
      ]
     },
     "execution_count": 31,
     "metadata": {},
     "output_type": "execute_result"
    }
   ],
   "source": [
    "db.paper_test.find_one({'externalids.MAG':  res[0]['externalids']['MAG']})"
   ]
  }
 ],
 "metadata": {
  "kernelspec": {
   "display_name": "Python 3 (ipykernel)",
   "language": "python",
   "name": "python3"
  },
  "language_info": {
   "codemirror_mode": {
    "name": "ipython",
    "version": 3
   },
   "file_extension": ".py",
   "mimetype": "text/x-python",
   "name": "python",
   "nbconvert_exporter": "python",
   "pygments_lexer": "ipython3",
   "version": "3.9.15"
  }
 },
 "nbformat": 4,
 "nbformat_minor": 5
}