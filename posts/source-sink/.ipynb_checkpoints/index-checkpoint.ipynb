{
 "cells": [
  {
   "cell_type": "code",
   "execution_count": null,
   "metadata": {},
   "outputs": [],
   "source": [
    "---\n",
    "title: Source-sink behavioural dynamics limit institutional evolution in a group structured society\n",
    "description: 'This model describes behaviors that require institutional strength to get off the ground. But as you add institutional levels to your collective, there is a cost. The model finds organizational free-riding, with some organizations preferring others to pay the cost of institutional strength while benefiting the behaviors emerging from those.'\n",
    "format:\n",
    "  html:\n",
    "    echo: false\n",
    "editor: visual\n",
    "image: unions.jpg\n",
    "---"
   ]
  },
  {
   "cell_type": "markdown",
   "metadata": {},
   "source": [
    "## Algebraic model\n",
    "\n",
    "The key ingredients of the model are our groups $G$ with the number of adopters $i$ and with an institution of level $\\ell$. We assume that with higher levels of institutional strength, $\\ell$, the institution will more effectively promote group-beneficial behavior, $\\ell\\beta$. But this is offset by a cost, $c$, of entertaining larger groups. For instance, think of the process of unionization, promoting behaviors that are costly at individual level. When unionization becomes more successful, the unions can become ungaingly. \n",
    "\n",
    "First master equation:\n",
    "\n",
    "\\begin{align*}\n",
    "\\frac{d}{dt}G_{i,\\ell}^{diff} &= \\ell \\beta [(i-1) + R](n - i + 1)G_{i-1,\\ell} \\\\\n",
    "                              &- \\ell \\beta (i+R)(n-i) G_{i,\\ell} \\\\\n",
    "                              &+ \\gamma(i+1)G_{i+1,\\ell} - \\gamma i G_{i,\\ell}\n",
    "\\end{align*}\n",
    "\n",
    "where $R = \\mathbin{\\color{red}{\\rho}} \\sum_{i',\\ell'} i'G_{i',\\ell'}$ represents the global diffusion of behaviors and primes denote variable over which we sum to calculate global quantity. The sum over adopters at each level weighted by global behavioural diffusion [$\\rho$]{style=\"color: red;\"}.\n",
    "\n",
    "Second master equation:\n",
    "\n",
    "\\begin{align*}\n",
    "\\frac{d}{dt}G_{i,\\ell}^{select} &= \\mathbin{\\color{red}{\\rho}} [G_{i,\\ell-1}(Z_\\ell Z_{\\ell-1}^{-1} + \\mathbin{\\color{midnightblue}{\\mu}}) + G_{i,\\ell+1}(Z\\ell Z_{\\ell + 1}^{-1} + \\mathbin{\\color{midnightblue}{\\mu}})] \\\\\n",
    "                                &-\\mathbin{\\color{red}{\\rho}}(Z_{\\ell-1}Z_\\ell^{-1} + Z_{\\ell+1}^{-1} + 2\\mathbin{\\color{midnightblue}{\\mu}})G_{i,\\ell}\n",
    "\\end{align*}\n",
    "\n",
    "where $Z_\\ell = \\frac{\\sum_{i'} exp(bi'-c\\ell)G_{i',\\ell}}{\\sum_{i'}G_{i',\\ell}}$. Note that we add a constant rate of transition [$\\mu$]{style=\"color: midnightblue;\"} to the selection proces.\n",
    "\n",
    "Taken togetherm we have the set of master equations:\n",
    "\n",
    "$$\n",
    "\\frac{d}{dt}G_{i,\\ell} = \\frac{d}{dt}G_{i,\\ell}^{diff} + \\frac{d}{dt}G_{i,\\ell}^{select}\n",
    "$$\n",
    "\n",
    "\n",
    "## Julia model"
   ]
  },
  {
   "cell_type": "code",
   "execution_count": 1,
   "metadata": {},
   "outputs": [
    {
     "data": {
      "application/vnd.webio.node+json": {
       "children": [],
       "instanceArgs": {
        "namespace": "html",
        "tag": "div"
       },
       "nodeType": "DOM",
       "props": {},
       "type": "node"
      },
      "text/html": [
       "<div style=\"padding: 1em; background-color: #f8d6da; border: 1px solid #f5c6cb; font-weight: bold;\">\n",
       "<p>The WebIO Jupyter extension was not detected. See the\n",
       "<a href=\"https://juliagizmos.github.io/WebIO.jl/latest/providers/ijulia/\" target=\"_blank\">\n",
       "    WebIO Jupyter integration documentation\n",
       "</a>\n",
       "for more information.\n",
       "</div>\n"
      ],
      "text/plain": [
       "WebIO._IJuliaInit()"
      ]
     },
     "metadata": {
      "application/vnd.webio.node+json": {
       "kernelId": "1659a740-7803-41f4-9fa6-ec407293f24b"
      }
     },
     "output_type": "display_data"
    }
   ],
   "source": [
    "using Interact"
   ]
  },
  {
   "cell_type": "code",
   "execution_count": 2,
   "metadata": {},
   "outputs": [
    {
     "data": {
      "application/vnd.webio.node+json": {
       "children": [
        {
         "children": [
          {
           "children": [
            {
             "children": [
              {
               "children": [
                "Slider X:"
               ],
               "instanceArgs": {
                "namespace": "html",
                "tag": "label"
               },
               "nodeType": "DOM",
               "props": {
                "className": "interact ",
                "style": {
                 "padding": "5px 10px 0px 10px"
                }
               },
               "type": "node"
              }
             ],
             "instanceArgs": {
              "namespace": "html",
              "tag": "div"
             },
             "nodeType": "DOM",
             "props": {
              "className": "interact-flex-row-left"
             },
             "type": "node"
            },
            {
             "children": [
              {
               "children": [],
               "instanceArgs": {
                "namespace": "html",
                "tag": "input"
               },
               "nodeType": "DOM",
               "props": {
                "attributes": {
                 "data-bind": "numericValue: index, valueUpdate: 'input', event: {change: function (){this.changes(this.changes()+1)}}",
                 "orient": "horizontal",
                 "type": "range"
                },
                "className": "slider slider is-fullwidth",
                "max": 11,
                "min": 1,
                "step": 1,
                "style": {}
               },
               "type": "node"
              }
             ],
             "instanceArgs": {
              "namespace": "html",
              "tag": "div"
             },
             "nodeType": "DOM",
             "props": {
              "className": "interact-flex-row-center"
             },
             "type": "node"
            },
            {
             "children": [
              {
               "children": [],
               "instanceArgs": {
                "namespace": "html",
                "tag": "p"
               },
               "nodeType": "DOM",
               "props": {
                "attributes": {
                 "data-bind": "text: formatted_val"
                }
               },
               "type": "node"
              }
             ],
             "instanceArgs": {
              "namespace": "html",
              "tag": "div"
             },
             "nodeType": "DOM",
             "props": {
              "className": "interact-flex-row-right"
             },
             "type": "node"
            }
           ],
           "instanceArgs": {
            "namespace": "html",
            "tag": "div"
           },
           "nodeType": "DOM",
           "props": {
            "className": "interact-flex-row interact-widget"
           },
           "type": "node"
          }
         ],
         "instanceArgs": {
          "handlers": {
           "changes": [
            "(function (val){return (val!=this.model[\"changes\"]()) ? (this.valueFromJulia[\"changes\"]=true, this.model[\"changes\"](val)) : undefined})"
           ],
           "index": [
            "(function (val){return (val!=this.model[\"index\"]()) ? (this.valueFromJulia[\"index\"]=true, this.model[\"index\"](val)) : undefined})"
           ]
          },
          "id": "10497102720955850119",
          "imports": {
           "data": [
            {
             "name": "knockout",
             "type": "js",
             "url": "/assetserver/11e404c948874d85a6d826b621e3e33e539d67d8-knockout.js"
            },
            {
             "name": "knockout_punches",
             "type": "js",
             "url": "/assetserver/dba32630d52d94898c91855f935b863d2bd5bdce-knockout_punches.js"
            },
            {
             "name": null,
             "type": "js",
             "url": "/assetserver/4840bb3320d1714f6f69a956ebb8dac7afb05c09-all.js"
            },
            {
             "name": null,
             "type": "css",
             "url": "/assetserver/1f5d58aa10e12929bf1f2011062080a036d41590-style.css"
            },
            {
             "name": null,
             "type": "css",
             "url": "/assetserver/145f8e2da7dea0c8d1a1f4dc295ba38300bdecce-bulma_confined.min.css"
            }
           ],
           "type": "async_block"
          },
          "mount_callbacks": [
           "function () {\n    var handler = (function (ko, koPunches) {\n    ko.punches.enableAll();\n    ko.bindingHandlers.numericValue = {\n        init: function(element, valueAccessor, allBindings, data, context) {\n            var stringified = ko.observable(ko.unwrap(valueAccessor()));\n            stringified.subscribe(function(value) {\n                var val = parseFloat(value);\n                if (!isNaN(val)) {\n                    valueAccessor()(val);\n                }\n            });\n            valueAccessor().subscribe(function(value) {\n                var str = JSON.stringify(value);\n                if ((str == \"0\") && ([\"-0\", \"-0.\"].indexOf(stringified()) >= 0))\n                     return;\n                 if ([\"null\", \"\"].indexOf(str) >= 0)\n                     return;\n                stringified(str);\n            });\n            ko.applyBindingsToNode(\n                element,\n                {\n                    value: stringified,\n                    valueUpdate: allBindings.get('valueUpdate'),\n                },\n                context,\n            );\n        }\n    };\n    var json_data = {\"formatted_vals\":[\"0.0\",\"0.1\",\"0.2\",\"0.3\",\"0.4\",\"0.5\",\"0.6\",\"0.7\",\"0.8\",\"0.9\",\"1.0\"],\"changes\":WebIO.getval({\"name\":\"changes\",\"scope\":\"10497102720955850119\",\"id\":\"5607423985155817245\",\"type\":\"observable\"}),\"index\":WebIO.getval({\"name\":\"index\",\"scope\":\"10497102720955850119\",\"id\":\"15401520114876169971\",\"type\":\"observable\"})};\n    var self = this;\n    function AppViewModel() {\n        for (var key in json_data) {\n            var el = json_data[key];\n            this[key] = Array.isArray(el) ? ko.observableArray(el) : ko.observable(el);\n        }\n        \n        [this[\"formatted_val\"]=ko.computed(    function(){\n        return this.formatted_vals()[parseInt(this.index())-(1)];\n    }\n,this)]\n        [this[\"changes\"].subscribe((function (val){!(this.valueFromJulia[\"changes\"]) ? (WebIO.setval({\"name\":\"changes\",\"scope\":\"10497102720955850119\",\"id\":\"5607423985155817245\",\"type\":\"observable\"},val)) : undefined; return this.valueFromJulia[\"changes\"]=false}),self),this[\"index\"].subscribe((function (val){!(this.valueFromJulia[\"index\"]) ? (WebIO.setval({\"name\":\"index\",\"scope\":\"10497102720955850119\",\"id\":\"15401520114876169971\",\"type\":\"observable\"},val)) : undefined; return this.valueFromJulia[\"index\"]=false}),self)]\n        \n    }\n    self.model = new AppViewModel();\n    self.valueFromJulia = {};\n    for (var key in json_data) {\n        self.valueFromJulia[key] = false;\n    }\n    ko.applyBindings(self.model, self.dom);\n}\n);\n    (WebIO.importBlock({\"data\":[{\"name\":\"knockout\",\"type\":\"js\",\"url\":\"/assetserver/11e404c948874d85a6d826b621e3e33e539d67d8-knockout.js\"},{\"name\":\"knockout_punches\",\"type\":\"js\",\"url\":\"/assetserver/dba32630d52d94898c91855f935b863d2bd5bdce-knockout_punches.js\"}],\"type\":\"async_block\"})).then((imports) => handler.apply(this, imports));\n}\n"
          ],
          "observables": {
           "changes": {
            "id": "5607423985155817245",
            "sync": false,
            "value": 0
           },
           "index": {
            "id": "15401520114876169971",
            "sync": true,
            "value": 6
           }
          },
          "systemjs_options": null
         },
         "nodeType": "Scope",
         "props": {},
         "type": "node"
        }
       ],
       "instanceArgs": {
        "namespace": "html",
        "tag": "div"
       },
       "nodeType": "DOM",
       "props": {
        "className": "field interact-widget"
       },
       "type": "node"
      },
      "text/html": [
       "<div\n",
       "    class=\"webio-mountpoint\"\n",
       "    data-webio-mountpoint=\"10684943729232983915\"\n",
       ">\n",
       "    <script>\n",
       "    (function(){\n",
       "    // Some integrations (namely, IJulia/Jupyter) use an alternate render pathway than\n",
       "    // just putting the html on the page. If WebIO isn't defined, then it's pretty likely\n",
       "    // that we're in one of those situations and the integration just isn't installed\n",
       "    // correctly.\n",
       "    if (typeof window.WebIO === \"undefined\") {\n",
       "        document\n",
       "            .querySelector('[data-webio-mountpoint=\"10684943729232983915\"]')\n",
       "            .innerHTML = (\n",
       "                '<div style=\"padding: 1em; background-color: #f8d6da; border: 1px solid #f5c6cb; font-weight: bold;\">' +\n",
       "                '<p><strong>WebIO not detected.</strong></p>' +\n",
       "                '<p>Please read ' +\n",
       "                '<a href=\"https://juliagizmos.github.io/WebIO.jl/latest/troubleshooting/not-detected/\" target=\"_blank\">the troubleshooting guide</a> ' +\n",
       "                'for more information on how to resolve this issue.</p>' +\n",
       "                '<p><a href=\"https://juliagizmos.github.io/WebIO.jl/latest/troubleshooting/not-detected/\" target=\"_blank\">https://juliagizmos.github.io/WebIO.jl/latest/troubleshooting/not-detected/</a></p>' +\n",
       "                '</div>'\n",
       "            );\n",
       "        return;\n",
       "    }\n",
       "    WebIO.mount(\n",
       "        document.querySelector('[data-webio-mountpoint=\"10684943729232983915\"]'),\n",
       "        {\"props\":{\"className\":\"field interact-widget\"},\"nodeType\":\"DOM\",\"type\":\"node\",\"instanceArgs\":{\"namespace\":\"html\",\"tag\":\"div\"},\"children\":[{\"props\":{},\"nodeType\":\"Scope\",\"type\":\"node\",\"instanceArgs\":{\"imports\":{\"data\":[{\"name\":\"knockout\",\"type\":\"js\",\"url\":\"\\/assetserver\\/11e404c948874d85a6d826b621e3e33e539d67d8-knockout.js\"},{\"name\":\"knockout_punches\",\"type\":\"js\",\"url\":\"\\/assetserver\\/dba32630d52d94898c91855f935b863d2bd5bdce-knockout_punches.js\"},{\"name\":null,\"type\":\"js\",\"url\":\"\\/assetserver\\/4840bb3320d1714f6f69a956ebb8dac7afb05c09-all.js\"},{\"name\":null,\"type\":\"css\",\"url\":\"\\/assetserver\\/1f5d58aa10e12929bf1f2011062080a036d41590-style.css\"},{\"name\":null,\"type\":\"css\",\"url\":\"\\/assetserver\\/145f8e2da7dea0c8d1a1f4dc295ba38300bdecce-bulma_confined.min.css\"}],\"type\":\"async_block\"},\"id\":\"10497102720955850119\",\"handlers\":{\"changes\":[\"(function (val){return (val!=this.model[\\\"changes\\\"]()) ? (this.valueFromJulia[\\\"changes\\\"]=true, this.model[\\\"changes\\\"](val)) : undefined})\"],\"index\":[\"(function (val){return (val!=this.model[\\\"index\\\"]()) ? (this.valueFromJulia[\\\"index\\\"]=true, this.model[\\\"index\\\"](val)) : undefined})\"]},\"systemjs_options\":null,\"mount_callbacks\":[\"function () {\\n    var handler = (function (ko, koPunches) {\\n    ko.punches.enableAll();\\n    ko.bindingHandlers.numericValue = {\\n        init: function(element, valueAccessor, allBindings, data, context) {\\n            var stringified = ko.observable(ko.unwrap(valueAccessor()));\\n            stringified.subscribe(function(value) {\\n                var val = parseFloat(value);\\n                if (!isNaN(val)) {\\n                    valueAccessor()(val);\\n                }\\n            });\\n            valueAccessor().subscribe(function(value) {\\n                var str = JSON.stringify(value);\\n                if ((str == \\\"0\\\") && ([\\\"-0\\\", \\\"-0.\\\"].indexOf(stringified()) >= 0))\\n                     return;\\n                 if ([\\\"null\\\", \\\"\\\"].indexOf(str) >= 0)\\n                     return;\\n                stringified(str);\\n            });\\n            ko.applyBindingsToNode(\\n                element,\\n                {\\n                    value: stringified,\\n                    valueUpdate: allBindings.get('valueUpdate'),\\n                },\\n                context,\\n            );\\n        }\\n    };\\n    var json_data = {\\\"formatted_vals\\\":[\\\"0.0\\\",\\\"0.1\\\",\\\"0.2\\\",\\\"0.3\\\",\\\"0.4\\\",\\\"0.5\\\",\\\"0.6\\\",\\\"0.7\\\",\\\"0.8\\\",\\\"0.9\\\",\\\"1.0\\\"],\\\"changes\\\":WebIO.getval({\\\"name\\\":\\\"changes\\\",\\\"scope\\\":\\\"10497102720955850119\\\",\\\"id\\\":\\\"5607423985155817245\\\",\\\"type\\\":\\\"observable\\\"}),\\\"index\\\":WebIO.getval({\\\"name\\\":\\\"index\\\",\\\"scope\\\":\\\"10497102720955850119\\\",\\\"id\\\":\\\"15401520114876169971\\\",\\\"type\\\":\\\"observable\\\"})};\\n    var self = this;\\n    function AppViewModel() {\\n        for (var key in json_data) {\\n            var el = json_data[key];\\n            this[key] = Array.isArray(el) ? ko.observableArray(el) : ko.observable(el);\\n        }\\n        \\n        [this[\\\"formatted_val\\\"]=ko.computed(    function(){\\n        return this.formatted_vals()[parseInt(this.index())-(1)];\\n    }\\n,this)]\\n        [this[\\\"changes\\\"].subscribe((function (val){!(this.valueFromJulia[\\\"changes\\\"]) ? (WebIO.setval({\\\"name\\\":\\\"changes\\\",\\\"scope\\\":\\\"10497102720955850119\\\",\\\"id\\\":\\\"5607423985155817245\\\",\\\"type\\\":\\\"observable\\\"},val)) : undefined; return this.valueFromJulia[\\\"changes\\\"]=false}),self),this[\\\"index\\\"].subscribe((function (val){!(this.valueFromJulia[\\\"index\\\"]) ? (WebIO.setval({\\\"name\\\":\\\"index\\\",\\\"scope\\\":\\\"10497102720955850119\\\",\\\"id\\\":\\\"15401520114876169971\\\",\\\"type\\\":\\\"observable\\\"},val)) : undefined; return this.valueFromJulia[\\\"index\\\"]=false}),self)]\\n        \\n    }\\n    self.model = new AppViewModel();\\n    self.valueFromJulia = {};\\n    for (var key in json_data) {\\n        self.valueFromJulia[key] = false;\\n    }\\n    ko.applyBindings(self.model, self.dom);\\n}\\n);\\n    (WebIO.importBlock({\\\"data\\\":[{\\\"name\\\":\\\"knockout\\\",\\\"type\\\":\\\"js\\\",\\\"url\\\":\\\"\\/assetserver\\/11e404c948874d85a6d826b621e3e33e539d67d8-knockout.js\\\"},{\\\"name\\\":\\\"knockout_punches\\\",\\\"type\\\":\\\"js\\\",\\\"url\\\":\\\"\\/assetserver\\/dba32630d52d94898c91855f935b863d2bd5bdce-knockout_punches.js\\\"}],\\\"type\\\":\\\"async_block\\\"})).then((imports) => handler.apply(this, imports));\\n}\\n\"],\"observables\":{\"changes\":{\"sync\":false,\"id\":\"5607423985155817245\",\"value\":0},\"index\":{\"sync\":true,\"id\":\"15401520114876169971\",\"value\":6}}},\"children\":[{\"props\":{\"className\":\"interact-flex-row interact-widget\"},\"nodeType\":\"DOM\",\"type\":\"node\",\"instanceArgs\":{\"namespace\":\"html\",\"tag\":\"div\"},\"children\":[{\"props\":{\"className\":\"interact-flex-row-left\"},\"nodeType\":\"DOM\",\"type\":\"node\",\"instanceArgs\":{\"namespace\":\"html\",\"tag\":\"div\"},\"children\":[{\"props\":{\"className\":\"interact \",\"style\":{\"padding\":\"5px 10px 0px 10px\"}},\"nodeType\":\"DOM\",\"type\":\"node\",\"instanceArgs\":{\"namespace\":\"html\",\"tag\":\"label\"},\"children\":[\"Slider X:\"]}]},{\"props\":{\"className\":\"interact-flex-row-center\"},\"nodeType\":\"DOM\",\"type\":\"node\",\"instanceArgs\":{\"namespace\":\"html\",\"tag\":\"div\"},\"children\":[{\"props\":{\"max\":11,\"min\":1,\"attributes\":{\"type\":\"range\",\"data-bind\":\"numericValue: index, valueUpdate: 'input', event: {change: function (){this.changes(this.changes()+1)}}\",\"orient\":\"horizontal\"},\"step\":1,\"className\":\"slider slider is-fullwidth\",\"style\":{}},\"nodeType\":\"DOM\",\"type\":\"node\",\"instanceArgs\":{\"namespace\":\"html\",\"tag\":\"input\"},\"children\":[]}]},{\"props\":{\"className\":\"interact-flex-row-right\"},\"nodeType\":\"DOM\",\"type\":\"node\",\"instanceArgs\":{\"namespace\":\"html\",\"tag\":\"div\"},\"children\":[{\"props\":{\"attributes\":{\"data-bind\":\"text: formatted_val\"}},\"nodeType\":\"DOM\",\"type\":\"node\",\"instanceArgs\":{\"namespace\":\"html\",\"tag\":\"p\"},\"children\":[]}]}]}]}]},\n",
       "        window,\n",
       "    );\n",
       "    })()\n",
       "    </script>\n",
       "</div>\n"
      ],
      "text/plain": [
       "(div { className=\"field interact-widget\" }\n",
       "    (div { className=\"interact-flex-row interact-widget\" }\n",
       "    (div { className=\"interact-flex-row-left\" }\n",
       "      (label { className=\"interact \" style=Dict{Any, Any}(:padding => \"5px 10px 0px 10px\") }\n",
       "        \"Slider X:\"))\n",
       "    (div { className=\"interact-flex-row-center\" }\n",
       "      (input { max=11 min=1 attributes=Dict{Any, Any}(:type => \"range\", Symbol(\"data-bind\") => \"numericValue: index, valueUpdate: 'input', event: {change: function (){this.changes(this.changes()+1)}}\", \"orient\" => \"horizontal\") step=1 className=\"slider slider is-fullwidth\" style=Dict{Any, Any}() }))\n",
       "    (div { className=\"interact-flex-row-right\" }\n",
       "      (p { attributes=Dict(\"data-bind\" => \"text: formatted_val\") }))))"
      ]
     },
     "metadata": {
      "application/vnd.webio.node+json": {
       "kernelId": "1659a740-7803-41f4-9fa6-ec407293f24b"
      }
     },
     "output_type": "display_data"
    },
    {
     "data": {
      "application/vnd.webio.node+json": {
       "children": [
        {
         "children": [],
         "instanceArgs": {
          "namespace": "html",
          "tag": "div"
         },
         "nodeType": "DOM",
         "props": {
          "className": "webio-observable",
          "setInnerHtml": "<pre>0.5</pre>"
         },
         "type": "node"
        }
       ],
       "instanceArgs": {
        "handlers": {
         "obs-output": [
          "function (value, scope) {\n    scope.setInnerHTML(value);\n}\n"
         ]
        },
        "id": "14954513595615088808",
        "imports": {
         "data": [],
         "type": "async_block"
        },
        "mount_callbacks": [],
        "observables": {
         "obs-output": {
          "id": "12427649155306089948",
          "sync": false,
          "value": "<pre>0.5</pre>"
         }
        },
        "systemjs_options": null
       },
       "nodeType": "Scope",
       "props": {},
       "type": "node"
      },
      "text/html": [
       "<div\n",
       "    class=\"webio-mountpoint\"\n",
       "    data-webio-mountpoint=\"2412627798932274371\"\n",
       ">\n",
       "    <script>\n",
       "    (function(){\n",
       "    // Some integrations (namely, IJulia/Jupyter) use an alternate render pathway than\n",
       "    // just putting the html on the page. If WebIO isn't defined, then it's pretty likely\n",
       "    // that we're in one of those situations and the integration just isn't installed\n",
       "    // correctly.\n",
       "    if (typeof window.WebIO === \"undefined\") {\n",
       "        document\n",
       "            .querySelector('[data-webio-mountpoint=\"2412627798932274371\"]')\n",
       "            .innerHTML = (\n",
       "                '<div style=\"padding: 1em; background-color: #f8d6da; border: 1px solid #f5c6cb; font-weight: bold;\">' +\n",
       "                '<p><strong>WebIO not detected.</strong></p>' +\n",
       "                '<p>Please read ' +\n",
       "                '<a href=\"https://juliagizmos.github.io/WebIO.jl/latest/troubleshooting/not-detected/\" target=\"_blank\">the troubleshooting guide</a> ' +\n",
       "                'for more information on how to resolve this issue.</p>' +\n",
       "                '<p><a href=\"https://juliagizmos.github.io/WebIO.jl/latest/troubleshooting/not-detected/\" target=\"_blank\">https://juliagizmos.github.io/WebIO.jl/latest/troubleshooting/not-detected/</a></p>' +\n",
       "                '</div>'\n",
       "            );\n",
       "        return;\n",
       "    }\n",
       "    WebIO.mount(\n",
       "        document.querySelector('[data-webio-mountpoint=\"2412627798932274371\"]'),\n",
       "        {\"props\":{},\"nodeType\":\"Scope\",\"type\":\"node\",\"instanceArgs\":{\"imports\":{\"data\":[],\"type\":\"async_block\"},\"id\":\"5223500048571082331\",\"handlers\":{\"obs-output\":[\"function (value, scope) {\\n    scope.setInnerHTML(value);\\n}\\n\"]},\"systemjs_options\":null,\"mount_callbacks\":[],\"observables\":{\"obs-output\":{\"sync\":false,\"id\":\"13012195660420927490\",\"value\":\"<pre>0.5<\\/pre>\"}}},\"children\":[{\"props\":{\"className\":\"webio-observable\",\"setInnerHtml\":\"<pre>0.5<\\/pre>\"},\"nodeType\":\"DOM\",\"type\":\"node\",\"instanceArgs\":{\"namespace\":\"html\",\"tag\":\"div\"},\"children\":[]}]},\n",
       "        window,\n",
       "    );\n",
       "    })()\n",
       "    </script>\n",
       "</div>\n"
      ],
      "text/plain": [
       "Observable{Float64} with 1 listeners. Value:\n",
       "0.5"
      ]
     },
     "metadata": {
      "application/vnd.webio.node+json": {
       "kernelId": "1659a740-7803-41f4-9fa6-ec407293f24b"
      }
     },
     "output_type": "display_data"
    }
   ],
   "source": [
    "s = slider(0:.1:1,label=\"Slider X:\")\n",
    "display(s)\n",
    "display(observe(s));"
   ]
  },
  {
   "cell_type": "markdown",
   "metadata": {},
   "source": [
    "```julia\n",
    "function source_sink!(du, u, p, t)\n",
    "    G, L, n = u, length(u.x), length(first(u.x))\n",
    "    β, γ, ρ, b, c, μ = p\n",
    "    Z, pop, R = zeros(L), zeros(L), 0.\n",
    "\n",
    "    # Calculate mean-field coupling and observed fitness landscape\n",
    "    for ℓ in 1:L\n",
    "      n_adopt = collect(0:(n-1))\n",
    "      Z[ℓ]    = sum(exp.(b*n_adopt .- c*(ℓ-1)) .* G.x[ℓ])\n",
    "      pop[ℓ]  = sum(G.x[ℓ])\n",
    "      R       += sum(ρ*n_adopt .* G.x[ℓ])\n",
    "      pop[ℓ] > 0.0 && ( Z[ℓ] /= pop[ℓ] )\n",
    "    end\n",
    "\n",
    "    for ℓ = 1:L, i = 1:n\n",
    "      n_adopt, gr_size = i-1, n-1\n",
    "\n",
    "      # Diffusion events\n",
    "      du.x[ℓ][i] = -γ*n_adopt*G.x[ℓ][i] - (ℓ-1)*β*(n_adopt+R)*(gr_size-n_adopt)*G.x[ℓ][i]\n",
    "\n",
    "      n_adopt > 0 && ( du.x[ℓ][i] += β*(ℓ-1)*(n_adopt-1+R)*(gr_size-n_adopt+1)*G.x[ℓ][i-1])\n",
    "      n_adopt < gr_size && ( du.x[ℓ][i] +=  γ*(n_adopt+1)*G.x[ℓ][i+1] )\n",
    "\n",
    "      # Group selection process\n",
    "      ℓ > 1 && ( du.x[ℓ][i] += ρ*G.x[ℓ-1][i]*(Z[ℓ] / Z[ℓ-1] + μ) - ρ*G.x[ℓ][i]*(Z[ℓ-1] / Z[ℓ]+μ) )\n",
    "      ℓ < L && ( du.x[ℓ][i] += ρ*G.x[ℓ+1][i]*(Z[ℓ] / Z[ℓ+1] + μ) - ρ*G.x[ℓ][i]*(Z[ℓ+1] / Z[ℓ]+μ) )\n",
    "    end\n",
    "end\n",
    "```\n",
    "\n",
    "## Output\n",
    "\n",
    "```{ojs}\n",
    "data = FileAttachment(\"data.json\").json()\n",
    "p = Object.keys(data).map(d => d.split(\"_\")) //unpack params\n",
    "```\n",
    "\n",
    "```{ojs}\n",
    "//| panel: sidebar\n",
    "\n",
    "minmax = (p, i) => d3.extent(p.map(d => parseFloat(d[i])))\n",
    "\n",
    "viewof beta  = Inputs.range(minmax(p,0), {step: 0.05, label: \"β\", value:\"0.07\"})\n",
    "viewof gamma = Inputs.range(minmax(p,1), {step: 0.03, label: \"γ\", value:\"1.0\"})\n",
    "viewof rho   = Inputs.range(minmax(p,2), {step: 0.15,label: \"ρ\", value:\"0.1\"})\n",
    "viewof b     = Inputs.range(minmax(p,3), {step: 0.05, label: \"b\", value:\"0.18\"})\n",
    "viewof c     = Inputs.range(minmax(p,4), {step: 0.5, label: \"c\", value:\"1.05\"})\n",
    "viewof mu    = Inputs.range(minmax(p,5), {step: 0.03, label: \"μ\", value:\"0.0001\"})\n",
    "```\n",
    "\n",
    "::: {.panel-tabset}\n",
    "\n",
    "## Plot\n",
    "\n",
    "```{ojs}\n",
    "f = (x) => Number.isInteger(x) ? x.toPrecision(2) : x\n",
    "\n",
    "Plot.plot({\n",
    "  x: {type:\"log\"},\n",
    "  y: {domain: [0,1]},\n",
    "  color: {scheme: \"reds\", type: \"ordinal\", legend: true},\n",
    "  marks: [\n",
    "    Plot.dot(\n",
    "      data[`${f(beta)}_${f(gamma)}_${f(rho)}_${f(b)}_${f(c)}_${f(mu)}`], {\n",
    "        x: 'timesteps', y: \"value\", stroke: \"L\"\n",
    "        })\n",
    "  ]\n",
    "})\n",
    "```\n",
    "\n",
    ":::\n",
    "\n",
    "##  Takeaways:\n",
    "\n",
    " - Frequency of behaviour in groups with different institutional strength.\n",
    " - Within groups, the frequency of cooperative behaviour follows the strength of institutions (with ℓ = 1 in light beige and ℓ = 6 in dark red).\n",
    " - Qualitatively, no institutions are possible if institutional costs are too high, and the behaviour never spreads.\n",
    " - The time dynamics of global behavioural frequency and behaviour in groups can include patterns of surge and collapse."
   ]
  },
  {
   "cell_type": "markdown",
   "metadata": {},
   "source": []
  }
 ],
 "metadata": {
  "@webio": {
   "lastCommId": "04fdde34e89e4cb89ddd0e41e0605719",
   "lastKernelId": "1659a740-7803-41f4-9fa6-ec407293f24b"
  },
  "kernelspec": {
   "display_name": "Julia 1.7.0",
   "language": "julia",
   "name": "julia-1.7"
  },
  "language_info": {
   "file_extension": ".jl",
   "mimetype": "application/julia",
   "name": "julia",
   "version": "1.7.0"
  }
 },
 "nbformat": 4,
 "nbformat_minor": 4
}
